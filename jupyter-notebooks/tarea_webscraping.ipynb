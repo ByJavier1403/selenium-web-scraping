{
 "cells": [
  {
   "cell_type": "markdown",
   "metadata": {},
   "source": [
    "## Tarea Web-scrapping\n",
    "\n",
    "### Crea una carpeta en 'tasks' con el formato *INICIALES_3UltimosDigitosCU* y copia de este archivo dentro de ella. NO ALTERES ESTA VERSIÓN DEL DOCUMENTO.\n",
    "\n",
    "### Realiza `push` a tus cambios y haz el `pull request`."
   ]
  },
  {
   "cell_type": "markdown",
   "metadata": {},
   "source": [
    "Utiliza la siguiente página para scrapear: https://books.toscrape.com/"
   ]
  },
  {
   "cell_type": "code",
   "execution_count": null,
   "metadata": {},
   "outputs": [],
   "source": [
    "!docker stop sel-docker\n",
    "!docker rm sel-docker\n",
    "!docker run -d --name \"sel-docker\" -p 4444:4444 --shm-size=2g \\\n",
    "  -e SE_NODE_MAX_SESSIONS=6 \\\n",
    "  -e SE_NODE_SESSION_TIMEOUT=1200 \\ \n",
    "  -e SE_VNC_NO_PASSWORD=1 \\\n",
    "  selenium/standalone-chrome"
   ]
  },
  {
   "cell_type": "code",
   "execution_count": null,
   "metadata": {},
   "outputs": [],
   "source": [
    "from selenium import webdriver\n",
    "from selenium.webdriver.common.by import By\n",
    "import pandas\n",
    "\n",
    "# Inicializar el driver de Selenium\n",
    "driver = webdriver.Remote('http://localhost:4444/wd/hub',options=webdriver.ChromeOptions())"
   ]
  },
  {
   "cell_type": "markdown",
   "metadata": {},
   "source": [
    "Abre la página"
   ]
  },
  {
   "cell_type": "code",
   "execution_count": null,
   "metadata": {},
   "outputs": [],
   "source": [
    "#Abrir la página"
   ]
  },
  {
   "cell_type": "markdown",
   "metadata": {},
   "source": [
    "Extraer el título de la página"
   ]
  },
  {
   "cell_type": "code",
   "execution_count": null,
   "metadata": {},
   "outputs": [],
   "source": [
    "#Extrae el título de la página "
   ]
  },
  {
   "cell_type": "markdown",
   "metadata": {},
   "source": [
    "\n",
    "Encontrar un elemento (puede ser un botón, un enlace, un campo de entrada, etc.) utilizando XPath, ID, u otra estrategia de localización de elementos."
   ]
  },
  {
   "cell_type": "code",
   "execution_count": null,
   "metadata": {},
   "outputs": [],
   "source": [
    "#Encuentra algun elemento"
   ]
  },
  {
   "cell_type": "markdown",
   "metadata": {},
   "source": [
    "Realizar alguna acción con el elemento del markdown anterior (por ejemplo, hacer clic en el botón, introducir texto en un campo de entrada, etc.).\n"
   ]
  },
  {
   "cell_type": "code",
   "execution_count": null,
   "metadata": {},
   "outputs": [],
   "source": [
    "#Realiza la acción"
   ]
  },
  {
   "cell_type": "markdown",
   "metadata": {},
   "source": [
    "Los scrappers son herramientas poderosas para extraer automáticamente datos de una página web. ChatGPT puede ser una ayuda valiosa para generar expresiones XPath que indican dónde se encuentran los datos que deseamos extraer."
   ]
  },
  {
   "cell_type": "markdown",
   "metadata": {},
   "source": [
    "Debemos hacer el inspect y buscar un fragmento de html que le pueda dar contexto a ChatGTP sobre como hacer la consulta, Inspecciona la página hasta encontrar el nodo: ```<li class=\"col-xs-6 col-sm-4 col-md-3 col-lg-3\">```, copia esta información y pide a chatGTP que te dé el XPATH de los títulos. Pruebalo haciendo ctrl+f en la herramienta de inspección"
   ]
  },
  {
   "cell_type": "code",
   "execution_count": null,
   "metadata": {},
   "outputs": [],
   "source": [
    "#Obtener el XPATH del título de un libro en la página\n",
    "xpath_titulos = '...'"
   ]
  },
  {
   "cell_type": "markdown",
   "metadata": {},
   "source": [
    "Exploraremos cómo ChatGPT puede generar XPATH para extraer precios y otros datos específicos de una página web. "
   ]
  },
  {
   "cell_type": "code",
   "execution_count": null,
   "metadata": {},
   "outputs": [],
   "source": [
    "#Obtener el XPATH del URL de cada libro\n",
    "xpath_url_de_libros = '...'  "
   ]
  },
  {
   "cell_type": "code",
   "execution_count": null,
   "metadata": {},
   "outputs": [],
   "source": [
    "#Obtener el XPATH del precio de cada libro\n",
    "xpath_precios = '...'"
   ]
  },
  {
   "cell_type": "markdown",
   "metadata": {},
   "source": [
    "Con la información obtenida, guardala en un DataFrame de pandas y encuentrar el libro más barato y el más caro de la primera página mostrada y brinda sus URL's"
   ]
  },
  {
   "cell_type": "code",
   "execution_count": null,
   "metadata": {},
   "outputs": [],
   "source": [
    "df = \"...\""
   ]
  },
  {
   "cell_type": "markdown",
   "metadata": {},
   "source": [
    "## Punto extra\n",
    "Realiza la misma tarea que arriba pero considera todos los libros de la página"
   ]
  },
  {
   "cell_type": "markdown",
   "metadata": {},
   "source": [
    "## Help\n",
    "\n",
    "En caso de atorarte, en este video podrás encontrar la manera en la que se pueden hacer las consultas a ChatGTP para obtener dichos XPATHS:https://youtu.be/4YokIEUeSSY?si=OhBi5eum-joIXtkc"
   ]
  }
 ],
 "metadata": {
  "kernelspec": {
   "display_name": ".env-web-scrap",
   "language": "python",
   "name": ".env-web-scrap"
  },
  "language_info": {
   "codemirror_mode": {
    "name": "ipython",
    "version": 3
   },
   "file_extension": ".py",
   "mimetype": "text/x-python",
   "name": "python",
   "nbconvert_exporter": "python",
   "pygments_lexer": "ipython3",
   "version": "3.10.13"
  },
  "orig_nbformat": 4
 },
 "nbformat": 4,
 "nbformat_minor": 2
}
