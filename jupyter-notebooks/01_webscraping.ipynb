{
 "cells": [
  {
   "cell_type": "markdown",
   "metadata": {},
   "source": [
    "# Selenium Webscraping\n",
    "## Notebook de clase\n",
    "\n",
    "En este notebook podras encontrar el ejercicio que hicimos en clase para aprender las bases de selenium"
   ]
  },
  {
   "cell_type": "markdown",
   "metadata": {},
   "source": [
    "Hagamos los imports relevantes y conectémonos al driver de chrome. Se pueden usar otros navegadores, pero para tener orden usaremos este"
   ]
  },
  {
   "cell_type": "code",
   "execution_count": 4,
   "metadata": {},
   "outputs": [],
   "source": [
    "from selenium import webdriver\n",
    "\n",
    "# Por si falla algo. URL al driver de Chrome (descargar el driver desde https://sites.google.com/chromium.org/driver/)\n",
    "chrome_driver_path = 'driver/chromedriver_mac64/chromedriver' #remplazar esto con el path al chrome driver de tu compu\n",
    "\n",
    "options = webdriver.ChromeOptions()\n",
    "\n",
    "driver = webdriver.Chrome(options=options)"
   ]
  },
  {
   "cell_type": "markdown",
   "metadata": {},
   "source": [
    "El *driver* es el objeto que nos va a permitir hacer la automatización con Selenium. \n",
    "\n",
    "No es necesario que se abra Google Chrome:"
   ]
  },
  {
   "cell_type": "code",
   "execution_count": 5,
   "metadata": {},
   "outputs": [],
   "source": [
    "driver.close()"
   ]
  },
  {
   "cell_type": "markdown",
   "metadata": {},
   "source": [
    "Podemos trabajar sin necesidad de la interfaz gráfica. Esto es muy útil una vez que hemos terminado de debuggear nuestro código (ya estamos obteniendo los datos que queremos) pues consume menos RAM y es más rápido"
   ]
  },
  {
   "cell_type": "code",
   "execution_count": 6,
   "metadata": {},
   "outputs": [],
   "source": [
    "options.add_argument('--headless')  # Ejecutar en modo headless (sin interfaz gráfica)\n",
    "\n",
    "driver = webdriver.Chrome(options=options)"
   ]
  },
  {
   "cell_type": "markdown",
   "metadata": {},
   "source": [
    "Utilizaremos un sitio web de aprendizaje. Nota: en la vida diaria los sitios se van actualizando, lo cual puede dificultar mantener el código al día y funcionando "
   ]
  },
  {
   "cell_type": "code",
   "execution_count": 7,
   "metadata": {},
   "outputs": [],
   "source": [
    "options = webdriver.ChromeOptions()\n",
    "\n",
    "driver = webdriver.Chrome(options=options)"
   ]
  },
  {
   "cell_type": "code",
   "execution_count": 13,
   "metadata": {},
   "outputs": [],
   "source": [
    "url = 'https://scrapepark.org/courses/spanish/'\n",
    "\n",
    "driver.get(url)"
   ]
  },
  {
   "cell_type": "markdown",
   "metadata": {},
   "source": [
    "Obtengamos algunas cosas básicas"
   ]
  },
  {
   "cell_type": "code",
   "execution_count": 14,
   "metadata": {},
   "outputs": [],
   "source": [
    "#este import puede o no ser necesario\n",
    "from selenium.webdriver.common.by import By"
   ]
  },
  {
   "cell_type": "code",
   "execution_count": 16,
   "metadata": {},
   "outputs": [
    {
     "name": "stdout",
     "output_type": "stream",
     "text": [
      "ScrapePark.org\n"
     ]
    }
   ],
   "source": [
    "nom_pagina = driver.title #titulo de la página\n",
    "print(nom_pagina)"
   ]
  },
  {
   "cell_type": "code",
   "execution_count": 23,
   "metadata": {},
   "outputs": [
    {
     "name": "stdout",
     "output_type": "stream",
     "text": [
      "DIRECCIÓN: Calle falsa 123\n",
      "TELÉFONO: 4-444-4444\n",
      "EMAIL: ventas@mail.com\n"
     ]
    },
    {
     "ename": "TypeError",
     "evalue": "'WebElement' object is not iterable",
     "output_type": "error",
     "traceback": [
      "\u001b[0;31m---------------------------------------------------------------------------\u001b[0m",
      "\u001b[0;31mTypeError\u001b[0m                                 Traceback (most recent call last)",
      "\u001b[1;32m/Users/gerardoguerrero/selenium-web-scrapping/jupyter-notebooks/01_webscraping.ipynb Cell 14\u001b[0m line \u001b[0;36m6\n\u001b[1;32m      <a href='vscode-notebook-cell:/Users/gerardoguerrero/selenium-web-scrapping/jupyter-notebooks/01_webscraping.ipynb#X10sZmlsZQ%3D%3D?line=2'>3</a>\u001b[0m \u001b[39mprint\u001b[39m(info_marca\u001b[39m.\u001b[39mtext)\n\u001b[1;32m      <a href='vscode-notebook-cell:/Users/gerardoguerrero/selenium-web-scrapping/jupyter-notebooks/01_webscraping.ipynb#X10sZmlsZQ%3D%3D?line=4'>5</a>\u001b[0m testimonios \u001b[39m=\u001b[39m driver\u001b[39m.\u001b[39mfind_element(By\u001b[39m.\u001b[39mCLASS_NAME, \u001b[39m'\u001b[39m\u001b[39mdetail-box\u001b[39m\u001b[39m'\u001b[39m)\n\u001b[0;32m----> <a href='vscode-notebook-cell:/Users/gerardoguerrero/selenium-web-scrapping/jupyter-notebooks/01_webscraping.ipynb#X10sZmlsZQ%3D%3D?line=5'>6</a>\u001b[0m \u001b[39mfor\u001b[39;00m testimonio \u001b[39min\u001b[39;00m testimonios:\n\u001b[1;32m      <a href='vscode-notebook-cell:/Users/gerardoguerrero/selenium-web-scrapping/jupyter-notebooks/01_webscraping.ipynb#X10sZmlsZQ%3D%3D?line=6'>7</a>\u001b[0m     test \u001b[39m=\u001b[39m testimonio\u001b[39m.\u001b[39mfind_element(By\u001b[39m.\u001b[39mTAG_NAME, \u001b[39m'\u001b[39m\u001b[39mp\u001b[39m\u001b[39m'\u001b[39m)\n\u001b[1;32m      <a href='vscode-notebook-cell:/Users/gerardoguerrero/selenium-web-scrapping/jupyter-notebooks/01_webscraping.ipynb#X10sZmlsZQ%3D%3D?line=7'>8</a>\u001b[0m \u001b[39mprint\u001b[39m(test\u001b[39m.\u001b[39mtext)\n",
      "\u001b[0;31mTypeError\u001b[0m: 'WebElement' object is not iterable"
     ]
    }
   ],
   "source": [
    "#Obtengamos la información que se encuentra en el footer de la página\n",
    "info_marca = driver.find_element(By.CLASS_NAME, 'information-f') # buequda por clase\n",
    "print(info_marca.text)\n",
    "\n",
    "testimonios = driver.find_elements_by_class_name('detail-box') # buequda por clase\n",
    "for testimonio in testimonios:\n",
    "    test = testimonio.find_element(By.TAG_NAME, 'p')\n",
    "print(test.text) # .text nos da el texto de un elemento\n"
   ]
  },
  {
   "cell_type": "markdown",
   "metadata": {},
   "source": [
    "¿qué pasa si queremos el testimonio de todos los clientes? Necesitamos interectuar con el sitio a través de pithon"
   ]
  },
  {
   "cell_type": "code",
   "execution_count": null,
   "metadata": {},
   "outputs": [],
   "source": [
    "\n",
    "testimonio = driver.find_element(By.ID, 'testimonios')\n",
    "print(\"El texto es:\", testimonio.text) # .text nos da el texto de un elemento\n",
    "print('\\n')\n",
    "\n",
    "next = driver.find_element(By.CLASS_NAME, 'carousel-control-next')\n",
    "next.click()\n",
    "\n",
    "testimonio = driver.find_element(By.ID, 'testimonios')\n",
    "print(\"El texto es:\", testimonio.text) # .text nos da el texto de un elemento\n"
   ]
  },
  {
   "cell_type": "markdown",
   "metadata": {},
   "source": [
    "\n",
    "## paciencia\n",
    "en este caso se tiene que tomar en cuenta la velocidad del click contra la velocidad de extraccion y definición de un elemento"
   ]
  },
  {
   "cell_type": "code",
   "execution_count": null,
   "metadata": {},
   "outputs": [],
   "source": [
    "import time\n",
    "\n",
    "testimonio = driver.find_element(By.ID, 'testimonios')\n",
    "print(testimonio.text)\n",
    "print('\\n')\n",
    "\n",
    "next = driver.find_element(By.CLASS_NAME, 'carousel-control-next')\n",
    "next.click()\n",
    "\n",
    "time.sleep(.5) #espera medio segundo\n",
    "\n",
    "testimonio = driver.find_element(By.ID, 'testimonios')\n",
    "print(testimonio.text) \n"
   ]
  },
  {
   "cell_type": "markdown",
   "metadata": {},
   "source": [
    "¿Cómo localizar un objeto usando su Xpath.\n",
    "\n",
    "Ventaja: efectividad; \n",
    "Desventaja: trabajo"
   ]
  },
  {
   "cell_type": "markdown",
   "metadata": {},
   "source": [
    "Xpath Syntax:\n",
    "//tagName[@AttributeName=\"Value\"]"
   ]
  },
  {
   "cell_type": "code",
   "execution_count": null,
   "metadata": {},
   "outputs": [],
   "source": [
    "#//a[@href= \"#productos\"]\n",
    "botonProductos= driver.find_element(By.XPATH,'//a[@href= \"#productos\"]')\n",
    "#botonProductos= driver.find(By.XPATH('//*[@id=\"navbarSupportedContent\"]/ul/li[3]/a'))# Ej. No funciona\n",
    "botonProductos.click()\n"
   ]
  },
  {
   "cell_type": "code",
   "execution_count": null,
   "metadata": {},
   "outputs": [],
   "source": [
    "detailBoxes= driver.find_elements(By.XPATH,'//div[@class= \"detail-box\"]') #detail boxes es una lista\n",
    "\n",
    "for box in detailBoxes:\n",
    "    print(box.text)\n"
   ]
  },
  {
   "cell_type": "code",
   "execution_count": null,
   "metadata": {},
   "outputs": [],
   "source": [
    "#Queremos crear un data frame de los productos con sus precios \n",
    "#usaremos regex para obtener solo el texto de las boxes que necesitamos\n",
    "import re\n",
    "\n",
    "patronProducto= r\"Patineta (Nueva|Usada) \\d{1,2}\"\n",
    "\n",
    "#arreglo de productos\n",
    "matches = [box for box in detailBoxes if re.search(patronProducto, box.text)]\n",
    "\n",
    "for box in matches:\n",
    "    print(box.text)\n"
   ]
  },
  {
   "cell_type": "code",
   "execution_count": null,
   "metadata": {},
   "outputs": [],
   "source": [
    "import pandas as pd\n",
    "\n",
    "pattern = r\"Patineta (Nueva|Usada) (\\d{1,2})\\s*\\n*\\s*\\$(\\d+)\" #ahora más específico\n",
    "\n",
    "# Crear listas para almacenar los productos, estados, números y precios\n",
    "productos = [] #un producto es el estado de la patineta con su número\n",
    "estados = []\n",
    "numeros = []\n",
    "precios = []\n",
    "\n",
    "# Iteramos\n",
    "for match in matches:\n",
    "    resultado = re.search(pattern, match.text)\n",
    "    if resultado:\n",
    "        #separamos y definimos variables\n",
    "        tipo = resultado.group(1) + (resultado.group(2))\n",
    "        estado = resultado.group(1) \n",
    "        numero = int(resultado.group(2))\n",
    "        precio = int(resultado.group(3))\n",
    "        \n",
    "        #agregamos a las listas\n",
    "        productos.append(tipo)\n",
    "        estados.append(estado)\n",
    "        numeros.append(numero)\n",
    "        precios.append(precio)\n",
    "\n",
    "# Crear el DataFrame usando pandas\n",
    "data = {\n",
    "    'Producto': productos,\n",
    "    'Estado': estados,\n",
    "    'Número': numeros,\n",
    "    'Precio': precios\n",
    "}\n",
    "\n",
    "df = pd.DataFrame(data)\n",
    "\n",
    "print(df)"
   ]
  },
  {
   "cell_type": "markdown",
   "metadata": {},
   "source": [
    "Ya treniendo el data frame podemos usar las funciones de pandas para analizar los datos"
   ]
  },
  {
   "cell_type": "code",
   "execution_count": null,
   "metadata": {},
   "outputs": [],
   "source": [
    "print('Precio promedio:',df['Precio'].mean())\n",
    "print('Precio mínimo:',df['Precio'].min())\n",
    "print('Precio máximo',df['Precio'].max())"
   ]
  },
  {
   "cell_type": "code",
   "execution_count": null,
   "metadata": {},
   "outputs": [],
   "source": [
    "print('Precio promedio de las patinetas usadas', df[df['Estado'] == 'Usada']['Precio'].mean())\n",
    "print('Precio promedio de las patinetas nuevas', df[df['Estado'] == 'Nueva']['Precio'].mean())\n",
    "\n",
    "\n",
    "print('Rango de precios de las patinetas usadas', df[df['Estado'] == 'Usada']['Precio'].max()-df[df['Estado'] == 'Usada']['Precio'].min())\n",
    "print('Rango de precios de las patinetas nuevas', df[df['Estado'] == 'Nueva']['Precio'].max()-df[df['Estado'] == 'Nueva']['Precio'].min())"
   ]
  },
  {
   "cell_type": "code",
   "execution_count": null,
   "metadata": {},
   "outputs": [],
   "source": [
    "# Cerrar el navegador\n",
    "#driver.quit()\n",
    "\n"
   ]
  }
 ],
 "metadata": {
  "kernelspec": {
   "display_name": ".venv",
   "language": "python",
   "name": "python3"
  },
  "language_info": {
   "codemirror_mode": {
    "name": "ipython",
    "version": 3
   },
   "file_extension": ".py",
   "mimetype": "text/x-python",
   "name": "python",
   "nbconvert_exporter": "python",
   "pygments_lexer": "ipython3",
   "version": "3.10.13"
  },
  "orig_nbformat": 4
 },
 "nbformat": 4,
 "nbformat_minor": 2
}
