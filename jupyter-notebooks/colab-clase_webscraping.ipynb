{
  "cells": [
    {
      "cell_type": "markdown",
      "metadata": {
        "id": "AlrZaUVEoZda"
      },
      "source": [
        "# Selenium Webscraping\n",
        "## Notebook de clase\n",
        "\n",
        "En este notebook podras encontrar el ejercicio que hicimos en clase para aprender las bases de Selenium.\n",
        "\n",
        "Adicionalmente, se puede consultar la documentación oficial: https://www.selenium.dev/documentation/webdriver/"
      ]
    },
    {
      "cell_type": "code",
      "execution_count": null,
      "metadata": {
        "colab": {
          "base_uri": "https://localhost:8080/"
        },
        "id": "SFaW6JELoZde",
        "outputId": "2bbfa3ff-4784-4ef2-9f2f-97c78709d8a1"
      },
      "outputs": [],
      "source": [
        "!apt update\n",
        "!apt install chromium-chromedriver\n",
        "!pip install selenium\n"
      ]
    },
    {
      "cell_type": "code",
      "execution_count": null,
      "metadata": {
        "id": "fX_bxK76raLJ"
      },
      "outputs": [],
      "source": [
        "from selenium import webdriver\n",
        "from selenium.webdriver.common.by import By"
      ]
    },
    {
      "cell_type": "code",
      "execution_count": null,
      "metadata": {
        "id": "CRiz2dKGo2vH"
      },
      "outputs": [],
      "source": [
        "options = webdriver.ChromeOptions ()\n",
        "options.add_argument('--headless')\n",
        "options.add_argument('--no-sandbox')\n",
        "options.add_argument('--disable-dev-shm-usage')\n",
        "# Abrir un navegador\n",
        "driver = webdriver.Chrome(options=options)"
      ]
    },
    {
      "cell_type": "markdown",
      "metadata": {
        "id": "kqvLyH3UoZdf"
      },
      "source": [
        "Utilizaremos un sitio web de aprendizaje. Nota: en la vida diaria los sitios se van actualizando, lo cual puede dificultar mantener el código al día y funcionando"
      ]
    },
    {
      "cell_type": "code",
      "execution_count": null,
      "metadata": {
        "id": "4cxwDpRLoZdf"
      },
      "outputs": [],
      "source": [
        "url = 'https://scrapepark.org/courses/spanish/'\n",
        "\n",
        "# Abrir la página web\n",
        "driver.get(url)"
      ]
    },
    {
      "cell_type": "markdown",
      "metadata": {
        "id": "_HoxGrHIoZdg"
      },
      "source": [
        "## **Scrapeo básico**"
      ]
    },
    {
      "cell_type": "markdown",
      "metadata": {
        "id": "FQvIae6QoZdg"
      },
      "source": [
        " ``driver.find_element(By.<>,'html')``\n"
      ]
    },
    {
      "cell_type": "markdown",
      "metadata": {
        "id": "NPidAfIcoZdg"
      },
      "source": []
    },
    {
      "cell_type": "code",
      "execution_count": null,
      "metadata": {
        "colab": {
          "base_uri": "https://localhost:8080/"
        },
        "id": "nPbS4dVVoZdg",
        "outputId": "04f4090c-3b64-4cf1-b0a1-1698c903ce57"
      },
      "outputs": [],
      "source": [
        "nom_pagina = driver.title #titulo de la página\n",
        "print(\"El título de la página es:\", nom_pagina)\n"
      ]
    },
    {
      "cell_type": "markdown",
      "metadata": {
        "id": "3hxNme27oZdg"
      },
      "source": [
        "Hora de meternos al mundo de la inspección:"
      ]
    },
    {
      "cell_type": "code",
      "execution_count": null,
      "metadata": {
        "colab": {
          "base_uri": "https://localhost:8080/"
        },
        "id": "Xwle_Vh6oZdg",
        "outputId": "0e63873f-92a6-4a41-e762-f52b764f01e4"
      },
      "outputs": [],
      "source": [
        "#Obtener la información de la página hallada en el footer e imprimir su contenido:\n",
        "info_marca = driver.find_element(By.CLASS_NAME,\"information-f\")\n",
        "print(info_marca.text)"
      ]
    },
    {
      "cell_type": "code",
      "execution_count": null,
      "metadata": {
        "colab": {
          "base_uri": "https://localhost:8080/"
        },
        "id": "K_-jTPHeoZdg",
        "outputId": "cd564601-1a53-4e57-df19-366f76b0471f"
      },
      "outputs": [],
      "source": [
        "testimonio= driver.find_element(By.ID,'testimonios')\n",
        "print(testimonio.text)"
      ]
    },
    {
      "cell_type": "code",
      "execution_count": null,
      "metadata": {
        "colab": {
          "base_uri": "https://localhost:8080/"
        },
        "id": "RbKjG5wCoZdg",
        "outputId": "d71c7325-fefb-4b1a-8ccd-b2194a5eeeca"
      },
      "outputs": [],
      "source": [
        "#Obtener los testimonios:\n",
        "import time\n",
        "\n",
        "testimonio= driver.find_element(By.ID,'testimonios')\n",
        "print(testimonio.text)\n",
        "\n",
        "time.sleep(.5)\n",
        "\n",
        "testimonio= driver.find_element(By.ID,'testimonios')\n",
        "print(testimonio.text)\n"
      ]
    },
    {
      "cell_type": "markdown",
      "metadata": {
        "id": "otUeGUcPoZdh"
      },
      "source": [
        "¿Qué pasa si queremos el testimonio de todos los clientes? Necesitamos interectuar con el sitio."
      ]
    },
    {
      "cell_type": "markdown",
      "metadata": {
        "id": "XXhEEZQjoZdh"
      },
      "source": [
        "``.click()``"
      ]
    },
    {
      "cell_type": "code",
      "execution_count": null,
      "metadata": {
        "id": "6GVnTPhFoZdh"
      },
      "outputs": [],
      "source": [
        "#Interactuar con el sitio haciendo click() para obtener distintos testimonios:"
      ]
    },
    {
      "cell_type": "markdown",
      "metadata": {
        "id": "2SlPoxdgoZdh"
      },
      "source": [
        "¿Qué no estamos tomando en cuenta?"
      ]
    },
    {
      "cell_type": "code",
      "execution_count": null,
      "metadata": {
        "id": "0eb7t7_VoZdh"
      },
      "outputs": [],
      "source": [
        "#Arreglar el código de arriba"
      ]
    },
    {
      "cell_type": "markdown",
      "metadata": {
        "id": "je3Wz52hoZdh"
      },
      "source": [
        "**¿Cómo localizar un objeto usando su Xpath.**\n",
        "\n",
        "Ventaja: efectividad;\n",
        "Desventaja: trabajo"
      ]
    },
    {
      "cell_type": "markdown",
      "metadata": {
        "id": "6i8j7_Y6oZdh"
      },
      "source": [
        "Xpath Syntax:\n",
        "//tagName[@AttributeName=\"Value\"]"
      ]
    },
    {
      "cell_type": "markdown",
      "metadata": {
        "id": "yeRyJy7IoZdh"
      },
      "source": [
        "Obtengamos los productos de la página"
      ]
    },
    {
      "cell_type": "code",
      "execution_count": null,
      "metadata": {
        "colab": {
          "base_uri": "https://localhost:8080/",
          "height": 738
        },
        "id": "WAIzTEDyoZdh",
        "outputId": "a81d36d0-324f-4837-8b53-42d66a100dd8"
      },
      "outputs": [],
      "source": [
        "botonProductos = driver.find_element(By.XPATH,'//*[@id=\"navbarSupportedContent\"]/ul/li[4]/a')\n",
        "\n",
        "botonProductos.click()"
      ]
    },
    {
      "cell_type": "markdown",
      "metadata": {
        "id": "xKZyfl22oZdh"
      },
      "source": [
        "¿Y si la página cambia según el tamaño de la ventana?"
      ]
    },
    {
      "cell_type": "code",
      "execution_count": null,
      "metadata": {
        "colab": {
          "base_uri": "https://localhost:8080/"
        },
        "id": "qU4IP6UsoZdh",
        "outputId": "9cccb292-7a67-40d4-abde-ac3259bb3feb"
      },
      "outputs": [],
      "source": [
        "detailBoxes =driver.find_elements(By.XPATH,'//div[@class= \"detail-box\"]')\n",
        "\n",
        "for box in detailBoxes:\n",
        "    print(box.text)\n",
        "    print(\"\")"
      ]
    },
    {
      "cell_type": "markdown",
      "metadata": {
        "id": "uWIl1rE3oZdh"
      },
      "source": [
        "Regex para formatear los datos scrapeados"
      ]
    },
    {
      "cell_type": "code",
      "execution_count": null,
      "metadata": {
        "colab": {
          "base_uri": "https://localhost:8080/"
        },
        "id": "Zbo_oSTXoZdh",
        "outputId": "d6b786eb-040b-4ac1-cce1-77d674303661"
      },
      "outputs": [],
      "source": [
        "#Queremos crear un data frame de los productos con sus precios\n",
        "#usaremos regex para obtener solo el texto de las boxes que necesitamos\n",
        "import re\n",
        "\n",
        "patronProducto= r\"Patineta (Nueva|Usada) \\d{1,2}\"\n",
        "\n",
        "matches = [box for box in detailBoxes if re.search(patronProducto,box.text)]\n",
        "\n",
        "for box in matches:\n",
        "    print(box.text)"
      ]
    },
    {
      "cell_type": "code",
      "execution_count": null,
      "metadata": {
        "colab": {
          "base_uri": "https://localhost:8080/",
          "height": 426
        },
        "id": "UQgeMytuoZdi",
        "outputId": "5fc83153-d784-4121-9d25-38f2021ea495"
      },
      "outputs": [],
      "source": [
        "import pandas as pd\n",
        "\n",
        "pattern = r\"Patineta (Nueva|Usada) (\\d{1,2})\\s*\\n*\\s*\\$(\\d+)\" #ahora más específico\n",
        "\n",
        "# Crear listas para almacenar los productos, estados, números y precios\n",
        "productos = [] #un producto es el estado de la patineta con su número\n",
        "estados = []\n",
        "numeros = []\n",
        "precios = []\n",
        "\n",
        "# Iteramos\n",
        "for match in matches:\n",
        "    resultado = re.search(pattern, match.text)\n",
        "    if resultado:\n",
        "        #separamos y definimos variables\n",
        "        tipo = resultado.group(1) + (resultado.group(2))\n",
        "        estado = resultado.group(1)\n",
        "        numero = int(resultado.group(2))\n",
        "        precio = int(resultado.group(3))\n",
        "\n",
        "        #agregamos a las listas\n",
        "        productos.append(tipo)\n",
        "        estados.append(estado)\n",
        "        numeros.append(numero)\n",
        "        precios.append(precio)\n",
        "\n",
        "# Crear el DataFrame usando pandas\n",
        "data = {\n",
        "    'Producto': productos,\n",
        "    'Estado': estados,\n",
        "    'Número': numeros,\n",
        "    'Precio': precios\n",
        "}\n",
        "\n",
        "df = pd.DataFrame(data)\n",
        "\n",
        "df"
      ]
    },
    {
      "cell_type": "markdown",
      "metadata": {
        "id": "BWiwSfXzoZdi"
      },
      "source": [
        "Ya treniendo el data frame podemos usar las funciones de pandas para analizar los datos"
      ]
    },
    {
      "cell_type": "code",
      "execution_count": null,
      "metadata": {
        "id": "QSXsMVQfoZdi"
      },
      "outputs": [],
      "source": [
        "print('Precio promedio:',df['Precio'].mean())\n",
        "print('Precio mínimo:',df['Precio'].min())\n",
        "print('Precio máximo',df['Precio'].max())"
      ]
    },
    {
      "cell_type": "code",
      "execution_count": null,
      "metadata": {
        "id": "cZ4SwasJoZdi"
      },
      "outputs": [],
      "source": [
        "print('Precio promedio de las patinetas usadas', df[df['Estado'] == 'Usada']['Precio'].mean())\n",
        "print('Precio promedio de las patinetas nuevas', df[df['Estado'] == 'Nueva']['Precio'].mean())\n",
        "\n",
        "\n",
        "print('Rango de precios de las patinetas usadas', df[df['Estado'] == 'Usada']['Precio'].max()-df[df['Estado'] == 'Usada']['Precio'].min())\n",
        "print('Rango de precios de las patinetas nuevas', df[df['Estado'] == 'Nueva']['Precio'].max()-df[df['Estado'] == 'Nueva']['Precio'].min())"
      ]
    },
    {
      "cell_type": "code",
      "execution_count": null,
      "metadata": {
        "id": "4D2dXpnDoZdi"
      },
      "outputs": [],
      "source": [
        "driver.quit()"
      ]
    },
    {
      "cell_type": "markdown",
      "metadata": {
        "id": "vE3X_nrzoZdj"
      },
      "source": [
        "### ¡Acabamos! ###"
      ]
    }
  ],
  "metadata": {
    "colab": {
      "provenance": []
    },
    "kernelspec": {
      "display_name": ".env-web-scrap",
      "language": "python",
      "name": ".env-web-scrap"
    },
    "language_info": {
      "codemirror_mode": {
        "name": "ipython",
        "version": 3
      },
      "file_extension": ".py",
      "mimetype": "text/x-python",
      "name": "python",
      "nbconvert_exporter": "python",
      "pygments_lexer": "ipython3",
      "version": "3.10.13"
    },
    "orig_nbformat": 4
  },
  "nbformat": 4,
  "nbformat_minor": 0
}
