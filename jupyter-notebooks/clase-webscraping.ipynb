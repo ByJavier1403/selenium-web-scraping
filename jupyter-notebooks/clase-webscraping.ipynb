{
 "cells": [
  {
   "cell_type": "markdown",
   "metadata": {},
   "source": [
    "# Selenium Webscraping\n",
    "## Notebook de clase\n",
    "\n",
    "En este notebook podras encontrar el ejercicio que hicimos en clase para aprender las bases de Selenium.\n",
    "\n",
    "Adicionalmente, se puede consultar la documentación oficial: https://www.selenium.dev/documentation/webdriver/"
   ]
  },
  {
   "cell_type": "markdown",
   "metadata": {},
   "source": [
    "Hagamos los imports relevantes y conectémonos al driver de Chrome. "
   ]
  },
  {
   "cell_type": "code",
   "execution_count": 37,
   "metadata": {},
   "outputs": [],
   "source": [
    "from selenium import webdriver\n",
    "from selenium.webdriver.common.by import By"
   ]
  },
  {
   "cell_type": "code",
   "execution_count": null,
   "metadata": {},
   "outputs": [],
   "source": [
    "driver = webdriver.Remote(command_executor='http://localhost:4444/wd/hub',options = webdriver.ChromeOptions())"
   ]
  },
  {
   "cell_type": "code",
   "execution_count": null,
   "metadata": {},
   "outputs": [],
   "source": [
    "#options.add_argument('--headless')  # Ejecutar en modo headless (sin interfaz gráfica)\n",
    "driver = webdriver.Chrome(options= webdriver.ChromeOptions())"
   ]
  },
  {
   "cell_type": "code",
   "execution_count": null,
   "metadata": {},
   "outputs": [],
   "source": [
    "\n",
    "# Por si falla algo. URL al driver de Chrome (descargar el driver desde https://sites.google.com/chromium.org/driver/)\n",
    "#chrome_driver_path = 'driver/chromedriver_mac64/chromedriver' #remplazar esto con el path al chrome driver de tu compu\n"
   ]
  },
  {
   "cell_type": "markdown",
   "metadata": {},
   "source": [
    "Utilizaremos un sitio web de aprendizaje. Nota: en la vida diaria los sitios se van actualizando, lo cual puede dificultar mantener el código al día y funcionando "
   ]
  },
  {
   "cell_type": "code",
   "execution_count": 38,
   "metadata": {},
   "outputs": [],
   "source": [
    "url = 'https://scrapepark.org/courses/spanish/'\n",
    "\n",
    "# Abrir la página web\n",
    "driver.get(url)"
   ]
  },
  {
   "cell_type": "markdown",
   "metadata": {},
   "source": [
    "## **Scrapeo básico** "
   ]
  },
  {
   "cell_type": "markdown",
   "metadata": {},
   "source": [
    " ``driver.find_element(By.<>,'html')``\n"
   ]
  },
  {
   "cell_type": "code",
   "execution_count": 40,
   "metadata": {},
   "outputs": [
    {
     "name": "stdout",
     "output_type": "stream",
     "text": [
      "El título de la página es: ScrapePark.org\n",
      "\n",
      "\n",
      "La información del sitio es: DIRECCIÓN: Calle falsa 123\n",
      "TELÉFONO: 4-444-4444\n",
      "EMAIL: ventas@mail.com\n",
      "\n",
      "\n",
      "El texto es: Testimonios de clientes\n",
      "Cliente 1\n",
      "Los productos me encantaron y los precios son muy buenos. Lo recomiendo.\n",
      "Anterior\n",
      "Siguiente\n"
     ]
    }
   ],
   "source": [
    "nom_pagina = driver.title #titulo de la página\n",
    "print(\"El título de la página es:\", nom_pagina)\n",
    "\n",
    "print('\\n')\n",
    "\n",
    "info_marca = driver.find_element(By.CLASS_NAME, 'information-f')\n",
    "print(\"La información del sitio es:\", info_marca.text) # .text nos da el texto de un elemento\n",
    "\n",
    "print('\\n')\n",
    "\n",
    "testimonio = driver.find_element(By.ID, 'testimonios') # buequda por ID\n",
    "print(\"El texto es:\", testimonio.text) # .text nos da el texto de un elemento\n"
   ]
  },
  {
   "cell_type": "markdown",
   "metadata": {},
   "source": [
    "¿qué pasa si queremos el testimonio de todos los clientes? Necesitamos interectuar con el sitio a través de pithon"
   ]
  },
  {
   "cell_type": "code",
   "execution_count": 41,
   "metadata": {},
   "outputs": [
    {
     "name": "stdout",
     "output_type": "stream",
     "text": [
      "El texto es: Testimonios de clientes\n",
      "Cliente 1\n",
      "Los productos me encantaron y los precios son muy buenos. Lo recomiendo.\n",
      "Anterior\n",
      "Siguiente\n",
      "\n",
      "\n",
      "El texto es: Testimonios de clientes\n",
      "Cliente 1\n",
      "Los productos me encantaron y los precios son muy buenos. Lo recomiendo.\n",
      "Anterior\n",
      "Siguiente\n"
     ]
    }
   ],
   "source": [
    "\n",
    "testimonio = driver.find_element(By.ID, 'testimonios')\n",
    "print(\"El texto es:\", testimonio.text) # .text nos da el texto de un elemento\n",
    "print('\\n')\n",
    "\n",
    "next = driver.find_element(By.CLASS_NAME, 'carousel-control-next')\n",
    "next.click()\n",
    "\n",
    "testimonio = driver.find_element(By.ID, 'testimonios')\n",
    "print(\"El texto es:\", testimonio.text) # .text nos da el texto de un elemento\n"
   ]
  },
  {
   "cell_type": "markdown",
   "metadata": {},
   "source": [
    "\n",
    "## paciencia\n",
    "en este caso se tiene que tomar en cuenta la velocidad del click contra la velocidad de extraccion y definición de un elemento"
   ]
  },
  {
   "cell_type": "code",
   "execution_count": 42,
   "metadata": {},
   "outputs": [
    {
     "name": "stdout",
     "output_type": "stream",
     "text": [
      "Testimonios de clientes\n",
      "Cliente 1\n",
      "Los productos me encantaron y los precios son muy buenos. Lo recomiendo.\n",
      "Cliente 2\n",
      "¡La calidad y variedad de patinetas es impresionante! Definitivamente volveré a comprar.\n",
      "Anterior\n",
      "Siguiente\n",
      "\n",
      "\n",
      "Testimonios de clientes\n",
      "Cliente 2\n",
      "¡La calidad y variedad de patinetas es impresionante! Definitivamente volveré a comprar.\n",
      "Anterior\n",
      "Siguiente\n"
     ]
    }
   ],
   "source": [
    "import time\n",
    "\n",
    "testimonio = driver.find_element(By.ID, 'testimonios')\n",
    "print(testimonio.text)\n",
    "print('\\n')\n",
    "\n",
    "next = driver.find_element(By.CLASS_NAME, 'carousel-control-next')\n",
    "next.click()\n",
    "\n",
    "time.sleep(.5) #espera medio segundo\n",
    "\n",
    "testimonio = driver.find_element(By.ID, 'testimonios')\n",
    "print(testimonio.text) \n"
   ]
  },
  {
   "cell_type": "markdown",
   "metadata": {},
   "source": [
    "¿Cómo localizar un objeto usando su Xpath.\n",
    "\n",
    "Ventaja: efectividad; \n",
    "Desventaja: trabajo"
   ]
  },
  {
   "cell_type": "markdown",
   "metadata": {},
   "source": [
    "Xpath Syntax:\n",
    "//tagName[@AttributeName=\"Value\"]"
   ]
  },
  {
   "cell_type": "code",
   "execution_count": 43,
   "metadata": {},
   "outputs": [],
   "source": [
    "#//a[@href= \"#productos\"]\n",
    "botonProductos= driver.find_element(By.XPATH,'//a[@href= \"#productos\"]')\n",
    "#botonProductos= driver.find(By.XPATH('//*[@id=\"navbarSupportedContent\"]/ul/li[3]/a'))# Ej. No funciona\n",
    "botonProductos.click()\n"
   ]
  },
  {
   "cell_type": "code",
   "execution_count": 44,
   "metadata": {},
   "outputs": [
    {
     "name": "stdout",
     "output_type": "stream",
     "text": [
      "Descuentos 20% Off\n",
      "¡En todos los productos!\n",
      "Aprovechá nuestras ofertas.\n",
      "Comprar ahora\n",
      "\n",
      "\n",
      "Entrega rápida\n",
      "Envío gratuito\n",
      "La mejor calidad\n",
      "Patineta Nueva 1\n",
      "$75\n",
      "Patineta Usada 2\n",
      "$80\n",
      "Patineta Nueva 3\n",
      "$68\n",
      "Patineta Usada 4\n",
      "$70\n",
      "Patineta Nueva 5\n",
      "$75\n",
      "Patineta Nueva 6\n",
      "$58\n",
      "Patineta Nueva 7\n",
      "$80\n",
      "Patineta Nueva 8\n",
      "$35\n",
      "Patineta Nueva 9\n",
      "$165\n",
      "Patineta Usada 10\n",
      "$54\n",
      "Patineta Usada 11\n",
      "$99\n",
      "Patineta Nueva 12\n",
      "$110\n",
      "\n",
      "Cliente 2\n",
      "¡La calidad y variedad de patinetas es impresionante! Definitivamente volveré a comprar.\n",
      "\n"
     ]
    }
   ],
   "source": [
    "detailBoxes= driver.find_elements(By.XPATH,'//div[@class= \"detail-box\"]') #detail boxes es una lista\n",
    "\n",
    "for box in detailBoxes:\n",
    "    print(box.text)\n"
   ]
  },
  {
   "cell_type": "code",
   "execution_count": 45,
   "metadata": {},
   "outputs": [
    {
     "name": "stdout",
     "output_type": "stream",
     "text": [
      "Patineta Nueva 1\n",
      "$75\n",
      "Patineta Usada 2\n",
      "$80\n",
      "Patineta Nueva 3\n",
      "$68\n",
      "Patineta Usada 4\n",
      "$70\n",
      "Patineta Nueva 5\n",
      "$75\n",
      "Patineta Nueva 6\n",
      "$58\n",
      "Patineta Nueva 7\n",
      "$80\n",
      "Patineta Nueva 8\n",
      "$35\n",
      "Patineta Nueva 9\n",
      "$165\n",
      "Patineta Usada 10\n",
      "$54\n",
      "Patineta Usada 11\n",
      "$99\n",
      "Patineta Nueva 12\n",
      "$110\n"
     ]
    }
   ],
   "source": [
    "#Queremos crear un data frame de los productos con sus precios \n",
    "#usaremos regex para obtener solo el texto de las boxes que necesitamos\n",
    "import re\n",
    "\n",
    "patronProducto= r\"Patineta (Nueva|Usada) \\d{1,2}\"\n",
    "\n",
    "#arreglo de productos\n",
    "matches = [box for box in detailBoxes if re.search(patronProducto, box.text)]\n",
    "\n",
    "for box in matches:\n",
    "    print(box.text)\n"
   ]
  },
  {
   "cell_type": "code",
   "execution_count": 57,
   "metadata": {},
   "outputs": [
    {
     "name": "stdout",
     "output_type": "stream",
     "text": [
      "   Producto Estado  Número  Precio\n",
      "0    Nueva1  Nueva       1      75\n",
      "1    Usada2  Usada       2      80\n",
      "2    Nueva3  Nueva       3      68\n",
      "3    Usada4  Usada       4      70\n",
      "4    Nueva5  Nueva       5      75\n",
      "5    Nueva6  Nueva       6      58\n",
      "6    Nueva7  Nueva       7      80\n",
      "7    Nueva8  Nueva       8      35\n",
      "8    Nueva9  Nueva       9     165\n",
      "9   Usada10  Usada      10      54\n",
      "10  Usada11  Usada      11      99\n",
      "11  Nueva12  Nueva      12     110\n"
     ]
    }
   ],
   "source": [
    "import pandas as pd\n",
    "\n",
    "pattern = r\"Patineta (Nueva|Usada) (\\d{1,2})\\s*\\n*\\s*\\$(\\d+)\" #ahora más específico\n",
    "\n",
    "# Crear listas para almacenar los productos, estados, números y precios\n",
    "productos = [] #un producto es el estado de la patineta con su número\n",
    "estados = []\n",
    "numeros = []\n",
    "precios = []\n",
    "\n",
    "# Iteramos\n",
    "for match in matches:\n",
    "    resultado = re.search(pattern, match.text)\n",
    "    if resultado:\n",
    "        #separamos y definimos variables\n",
    "        tipo = resultado.group(1) + (resultado.group(2))\n",
    "        estado = resultado.group(1) \n",
    "        numero = int(resultado.group(2))\n",
    "        precio = int(resultado.group(3))\n",
    "        \n",
    "        #agregamos a las listas\n",
    "        productos.append(tipo)\n",
    "        estados.append(estado)\n",
    "        numeros.append(numero)\n",
    "        precios.append(precio)\n",
    "\n",
    "# Crear el DataFrame usando pandas\n",
    "data = {\n",
    "    'Producto': productos,\n",
    "    'Estado': estados,\n",
    "    'Número': numeros,\n",
    "    'Precio': precios\n",
    "}\n",
    "\n",
    "df = pd.DataFrame(data)\n",
    "\n",
    "print(df)"
   ]
  },
  {
   "cell_type": "markdown",
   "metadata": {},
   "source": [
    "Ya treniendo el data frame podemos usar las funciones de pandas para analizar los datos"
   ]
  },
  {
   "cell_type": "code",
   "execution_count": 63,
   "metadata": {},
   "outputs": [
    {
     "name": "stdout",
     "output_type": "stream",
     "text": [
      "Precio promedio: 80.75\n",
      "Precio mínimo: 35\n",
      "Precio máximo 165\n"
     ]
    }
   ],
   "source": [
    "print('Precio promedio:',df['Precio'].mean())\n",
    "print('Precio mínimo:',df['Precio'].min())\n",
    "print('Precio máximo',df['Precio'].max())"
   ]
  },
  {
   "cell_type": "code",
   "execution_count": 68,
   "metadata": {},
   "outputs": [
    {
     "name": "stdout",
     "output_type": "stream",
     "text": [
      "Precio promedio de las patinetas usadas 75.75\n",
      "Precio promedio de las patinetas nuevas 83.25\n",
      "Rango de precios de las patinetas usadas 45\n",
      "Rango de precios de las patinetas nuevas 130\n"
     ]
    }
   ],
   "source": [
    "print('Precio promedio de las patinetas usadas', df[df['Estado'] == 'Usada']['Precio'].mean())\n",
    "print('Precio promedio de las patinetas nuevas', df[df['Estado'] == 'Nueva']['Precio'].mean())\n",
    "\n",
    "\n",
    "print('Rango de precios de las patinetas usadas', df[df['Estado'] == 'Usada']['Precio'].max()-df[df['Estado'] == 'Usada']['Precio'].min())\n",
    "print('Rango de precios de las patinetas nuevas', df[df['Estado'] == 'Nueva']['Precio'].max()-df[df['Estado'] == 'Nueva']['Precio'].min())"
   ]
  },
  {
   "cell_type": "code",
   "execution_count": null,
   "metadata": {},
   "outputs": [],
   "source": [
    "# Cerrar el navegador\n",
    "#driver.quit()\n",
    "\n"
   ]
  }
 ],
 "metadata": {
  "kernelspec": {
   "display_name": ".venv",
   "language": "python",
   "name": "python3"
  },
  "language_info": {
   "codemirror_mode": {
    "name": "ipython",
    "version": 3
   },
   "file_extension": ".py",
   "mimetype": "text/x-python",
   "name": "python",
   "nbconvert_exporter": "python",
   "pygments_lexer": "ipython3",
   "version": "3.10.9"
  },
  "orig_nbformat": 4
 },
 "nbformat": 4,
 "nbformat_minor": 2
}
