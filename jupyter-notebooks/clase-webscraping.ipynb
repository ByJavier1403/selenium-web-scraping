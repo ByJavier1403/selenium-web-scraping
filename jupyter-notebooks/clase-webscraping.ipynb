{
 "cells": [
  {
   "cell_type": "markdown",
   "metadata": {},
   "source": [
    "# Selenium Webscraping\n",
    "## Notebook de clase\n",
    "\n",
    "En este notebook podras encontrar el ejercicio que hicimos en clase para aprender las bases de Selenium.\n",
    "\n",
    "Adicionalmente, se puede consultar la documentación oficial: https://www.selenium.dev/documentation/webdriver/"
   ]
  },
  {
   "cell_type": "markdown",
   "metadata": {},
   "source": [
    "Hagamos los imports relevantes y conectémonos al driver de Chrome que está montado en docker. "
   ]
  },
  {
   "cell_type": "code",
   "execution_count": null,
   "metadata": {},
   "outputs": [],
   "source": [
    "!docker stop sel-docker\n",
    "!docker rm sel-docker\n",
    "!docker run -d --name \"sel-docker\" -p 4444:4444 --shm-size=2g \\\n",
    "  -e SE_NODE_MAX_SESSIONS=6 \\\n",
    "  -e SE_NODE_SESSION_TIMEOUT=1200 \\ \n",
    "  -e SE_VNC_NO_PASSWORD=1 \\\n",
    "  selenium/standalone-chrome"
   ]
  },
  {
   "cell_type": "code",
   "execution_count": 1,
   "metadata": {},
   "outputs": [],
   "source": [
    "from selenium import webdriver\n",
    "from selenium.webdriver.common.by import By"
   ]
  },
  {
   "cell_type": "code",
   "execution_count": null,
   "metadata": {},
   "outputs": [],
   "source": [
    "driver = webdriver.Remote(command_executor='http://localhost:4444/wd/hub',options = webdriver.ChromeOptions())"
   ]
  },
  {
   "cell_type": "markdown",
   "metadata": {},
   "source": [
    "El siguiente código solo lo vamos a usar en caso de tener el Chrome Driver local."
   ]
  },
  {
   "cell_type": "code",
   "execution_count": 9,
   "metadata": {},
   "outputs": [],
   "source": [
    "#Por si falla algo. URL al driver de Chrome (descargar el driver desde https://sites.google.com/chromium.org/driver/)\n",
    "#driver = webdriver.Chrome(options = webdriver.ChromeOptions())"
   ]
  },
  {
   "cell_type": "markdown",
   "metadata": {},
   "source": [
    "Utilizaremos un sitio web de aprendizaje. Nota: en la vida diaria los sitios se van actualizando, lo cual puede dificultar mantener el código al día y funcionando "
   ]
  },
  {
   "cell_type": "code",
   "execution_count": 10,
   "metadata": {},
   "outputs": [],
   "source": [
    "url = 'https://scrapepark.org/courses/spanish/'\n",
    "\n",
    "# Abrir la página web\n",
    "driver.get(url)"
   ]
  },
  {
   "cell_type": "markdown",
   "metadata": {},
   "source": [
    "No es necesario que se abra la ventana de Google, pero al principio es muy útil para saber qué está pasando exactamente con nuestra automatización. Una vez que terminamos de debuggear, es recomendable utilizar el driver sin visualizar la ventana para ahorrar RAM y hacer más rápido los procesos."
   ]
  },
  {
   "cell_type": "code",
   "execution_count": 5,
   "metadata": {},
   "outputs": [],
   "source": [
    "#options = webdriver.ChromeOptions()\n",
    "#options.add_argument('--headless')  # Ejecutar en modo headless (sin interfaz gráfica)\n"
   ]
  },
  {
   "cell_type": "code",
   "execution_count": 4,
   "metadata": {},
   "outputs": [],
   "source": [
    "#driver.close()"
   ]
  },
  {
   "cell_type": "code",
   "execution_count": 34,
   "metadata": {},
   "outputs": [],
   "source": [
    "driver = webdriver.Remote(command_executor='http://localhost:4444/wd/hub',options = webdriver.ChromeOptions())\n",
    "#driver = webdriver.Chrome(options = options)"
   ]
  },
  {
   "cell_type": "markdown",
   "metadata": {},
   "source": [
    "En este caso es importante cerrar las sesiones con el siguiente comando:"
   ]
  },
  {
   "cell_type": "code",
   "execution_count": 35,
   "metadata": {},
   "outputs": [],
   "source": [
    "#driver.close()"
   ]
  },
  {
   "cell_type": "markdown",
   "metadata": {},
   "source": [
    "## **Scrapeo básico** "
   ]
  },
  {
   "cell_type": "markdown",
   "metadata": {},
   "source": [
    " ``driver.find_element(By.<>,'html')``\n"
   ]
  },
  {
   "cell_type": "markdown",
   "metadata": {},
   "source": []
  },
  {
   "cell_type": "code",
   "execution_count": 11,
   "metadata": {},
   "outputs": [
    {
     "name": "stdout",
     "output_type": "stream",
     "text": [
      "El título de la página es: ScrapePark.org\n"
     ]
    }
   ],
   "source": [
    "nom_pagina = driver.title #titulo de la página\n",
    "print(\"El título de la página es:\", nom_pagina)\n"
   ]
  },
  {
   "cell_type": "markdown",
   "metadata": {},
   "source": [
    "Hora de meternos al mundo de la inspección:"
   ]
  },
  {
   "cell_type": "code",
   "execution_count": 13,
   "metadata": {},
   "outputs": [
    {
     "name": "stdout",
     "output_type": "stream",
     "text": [
      "DIRECCIÓN: Calle falsa 123\n",
      "TELÉFONO: 4-444-4444\n",
      "EMAIL: ventas@mail.com\n"
     ]
    }
   ],
   "source": [
    "#Obtener la información de la página hallada en el footer e imprimir su contenido:\n",
    "info_marca = driver.find_element(By.CLASS_NAME,\"information-f\")\n",
    "print(info_marca.text)"
   ]
  },
  {
   "cell_type": "code",
   "execution_count": 18,
   "metadata": {},
   "outputs": [
    {
     "name": "stdout",
     "output_type": "stream",
     "text": [
      "Testimonios de clientes\n",
      "Cliente 3\n",
      "Estoy muy conforme. Hay muchas patinetas y los diseños son fantásticos.\n",
      "Anterior\n",
      "Siguiente\n"
     ]
    }
   ],
   "source": [
    "testimonio= driver.find_element(By.ID,'testimonios')\n",
    "print(testimonio.text)"
   ]
  },
  {
   "cell_type": "code",
   "execution_count": 22,
   "metadata": {},
   "outputs": [
    {
     "name": "stdout",
     "output_type": "stream",
     "text": [
      "Testimonios de clientes\n",
      "Cliente 3\n",
      "Estoy muy conforme. Hay muchas patinetas y los diseños son fantásticos.\n",
      "Anterior\n",
      "Siguiente\n",
      "Testimonios de clientes\n",
      "Cliente 3\n",
      "Estoy muy conforme. Hay muchas patinetas y los diseños son fantásticos.\n",
      "Anterior\n",
      "Siguiente\n"
     ]
    }
   ],
   "source": [
    "#Obtener los testimonios:\n",
    "import time\n",
    "\n",
    "testimonio= driver.find_element(By.ID,'testimonios')\n",
    "print(testimonio.text)\n",
    "\n",
    "time.sleep(.5)\n",
    "\n",
    "testimonio= driver.find_element(By.ID,'testimonios')\n",
    "print(testimonio.text)\n"
   ]
  },
  {
   "cell_type": "markdown",
   "metadata": {},
   "source": [
    "¿Qué pasa si queremos el testimonio de todos los clientes? Necesitamos interectuar con el sitio."
   ]
  },
  {
   "cell_type": "markdown",
   "metadata": {},
   "source": [
    "``.click()``"
   ]
  },
  {
   "cell_type": "code",
   "execution_count": null,
   "metadata": {},
   "outputs": [],
   "source": [
    "#Interactuar con el sitio haciendo click() para obtener distintos testimonios:"
   ]
  },
  {
   "cell_type": "markdown",
   "metadata": {},
   "source": [
    "¿Qué no estamos tomando en cuenta?"
   ]
  },
  {
   "cell_type": "code",
   "execution_count": null,
   "metadata": {},
   "outputs": [],
   "source": [
    "#Arreglar el código de arriba"
   ]
  },
  {
   "cell_type": "markdown",
   "metadata": {},
   "source": [
    "**¿Cómo localizar un objeto usando su Xpath.**\n",
    "\n",
    "Ventaja: efectividad; \n",
    "Desventaja: trabajo"
   ]
  },
  {
   "cell_type": "markdown",
   "metadata": {},
   "source": [
    "Xpath Syntax:\n",
    "//tagName[@AttributeName=\"Value\"]"
   ]
  },
  {
   "cell_type": "markdown",
   "metadata": {},
   "source": [
    "Obtengamos los productos de la página"
   ]
  },
  {
   "cell_type": "code",
   "execution_count": 25,
   "metadata": {},
   "outputs": [],
   "source": [
    "\n",
    "botonProductos = driver.find_element(By.XPATH,'//*[@id=\"navbarSupportedContent\"]/ul/li[4]/a')\n",
    "\n",
    "botonProductos.click()"
   ]
  },
  {
   "cell_type": "code",
   "execution_count": null,
   "metadata": {},
   "outputs": [],
   "source": [
    "\n"
   ]
  },
  {
   "cell_type": "markdown",
   "metadata": {},
   "source": [
    "¿Y si la página cambia según el tamaño de la ventana?"
   ]
  },
  {
   "cell_type": "code",
   "execution_count": 28,
   "metadata": {},
   "outputs": [
    {
     "name": "stdout",
     "output_type": "stream",
     "text": [
      "\n",
      "\n",
      "Descuentos 20% Off\n",
      "¡En todos los productos!\n",
      "Aprovechá nuestras ofertas.\n",
      "Comprar ahora\n",
      "\n",
      "\n",
      "\n",
      "Entrega rápida\n",
      "\n",
      "Envío gratuito\n",
      "\n",
      "La mejor calidad\n",
      "\n",
      "Patineta Nueva 1\n",
      "$75\n",
      "\n",
      "Patineta Usada 2\n",
      "$80\n",
      "\n",
      "Patineta Nueva 3\n",
      "$68\n",
      "\n",
      "Patineta Usada 4\n",
      "$70\n",
      "\n",
      "Patineta Nueva 5\n",
      "$75\n",
      "\n",
      "Patineta Nueva 6\n",
      "$58\n",
      "\n",
      "Patineta Nueva 7\n",
      "$80\n",
      "\n",
      "Patineta Nueva 8\n",
      "$35\n",
      "\n",
      "Patineta Nueva 9\n",
      "$165\n",
      "\n",
      "Patineta Usada 10\n",
      "$54\n",
      "\n",
      "Patineta Usada 11\n",
      "$99\n",
      "\n",
      "Patineta Nueva 12\n",
      "$110\n",
      "\n",
      "\n",
      "\n",
      "Cliente 2\n",
      "¡La calidad y variedad de patinetas es impresionante! Definitivamente volveré a comprar.\n",
      "\n",
      "\n",
      "\n"
     ]
    }
   ],
   "source": [
    "detailBoxes =driver.find_elements(By.XPATH,'//div[@class= \"detail-box\"]')\n",
    "\n",
    "for box in detailBoxes:\n",
    "    print(box.text)\n",
    "    print(\"\")"
   ]
  },
  {
   "cell_type": "markdown",
   "metadata": {},
   "source": [
    "Regex para formatear los datos scrapeados"
   ]
  },
  {
   "cell_type": "code",
   "execution_count": 29,
   "metadata": {},
   "outputs": [
    {
     "name": "stdout",
     "output_type": "stream",
     "text": [
      "Patineta Nueva 1\n",
      "$75\n",
      "Patineta Usada 2\n",
      "$80\n",
      "Patineta Nueva 3\n",
      "$68\n",
      "Patineta Usada 4\n",
      "$70\n",
      "Patineta Nueva 5\n",
      "$75\n",
      "Patineta Nueva 6\n",
      "$58\n",
      "Patineta Nueva 7\n",
      "$80\n",
      "Patineta Nueva 8\n",
      "$35\n",
      "Patineta Nueva 9\n",
      "$165\n",
      "Patineta Usada 10\n",
      "$54\n",
      "Patineta Usada 11\n",
      "$99\n",
      "Patineta Nueva 12\n",
      "$110\n"
     ]
    }
   ],
   "source": [
    "#Queremos crear un data frame de los productos con sus precios \n",
    "#usaremos regex para obtener solo el texto de las boxes que necesitamos\n",
    "import re\n",
    "\n",
    "patronProducto= r\"Patineta (Nueva|Usada) \\d{1,2}\"\n",
    "\n",
    "matches = [box for box in detailBoxes if re.search(patronProducto,box.text)]\n",
    "\n",
    "for box in matches:\n",
    "    print(box.text)"
   ]
  },
  {
   "cell_type": "code",
   "execution_count": 30,
   "metadata": {},
   "outputs": [
    {
     "name": "stdout",
     "output_type": "stream",
     "text": [
      "Intel MKL WARNING: Support of Intel(R) Streaming SIMD Extensions 4.2 (Intel(R) SSE4.2) enabled only processors has been deprecated. Intel oneAPI Math Kernel Library 2025.0 will require Intel(R) Advanced Vector Extensions (Intel(R) AVX) instructions.\n",
      "Intel MKL WARNING: Support of Intel(R) Streaming SIMD Extensions 4.2 (Intel(R) SSE4.2) enabled only processors has been deprecated. Intel oneAPI Math Kernel Library 2025.0 will require Intel(R) Advanced Vector Extensions (Intel(R) AVX) instructions.\n"
     ]
    },
    {
     "data": {
      "text/html": [
       "<div>\n",
       "<style scoped>\n",
       "    .dataframe tbody tr th:only-of-type {\n",
       "        vertical-align: middle;\n",
       "    }\n",
       "\n",
       "    .dataframe tbody tr th {\n",
       "        vertical-align: top;\n",
       "    }\n",
       "\n",
       "    .dataframe thead th {\n",
       "        text-align: right;\n",
       "    }\n",
       "</style>\n",
       "<table border=\"1\" class=\"dataframe\">\n",
       "  <thead>\n",
       "    <tr style=\"text-align: right;\">\n",
       "      <th></th>\n",
       "      <th>Producto</th>\n",
       "      <th>Estado</th>\n",
       "      <th>Número</th>\n",
       "      <th>Precio</th>\n",
       "    </tr>\n",
       "  </thead>\n",
       "  <tbody>\n",
       "    <tr>\n",
       "      <th>0</th>\n",
       "      <td>Nueva1</td>\n",
       "      <td>Nueva</td>\n",
       "      <td>1</td>\n",
       "      <td>75</td>\n",
       "    </tr>\n",
       "    <tr>\n",
       "      <th>1</th>\n",
       "      <td>Usada2</td>\n",
       "      <td>Usada</td>\n",
       "      <td>2</td>\n",
       "      <td>80</td>\n",
       "    </tr>\n",
       "    <tr>\n",
       "      <th>2</th>\n",
       "      <td>Nueva3</td>\n",
       "      <td>Nueva</td>\n",
       "      <td>3</td>\n",
       "      <td>68</td>\n",
       "    </tr>\n",
       "    <tr>\n",
       "      <th>3</th>\n",
       "      <td>Usada4</td>\n",
       "      <td>Usada</td>\n",
       "      <td>4</td>\n",
       "      <td>70</td>\n",
       "    </tr>\n",
       "    <tr>\n",
       "      <th>4</th>\n",
       "      <td>Nueva5</td>\n",
       "      <td>Nueva</td>\n",
       "      <td>5</td>\n",
       "      <td>75</td>\n",
       "    </tr>\n",
       "    <tr>\n",
       "      <th>5</th>\n",
       "      <td>Nueva6</td>\n",
       "      <td>Nueva</td>\n",
       "      <td>6</td>\n",
       "      <td>58</td>\n",
       "    </tr>\n",
       "    <tr>\n",
       "      <th>6</th>\n",
       "      <td>Nueva7</td>\n",
       "      <td>Nueva</td>\n",
       "      <td>7</td>\n",
       "      <td>80</td>\n",
       "    </tr>\n",
       "    <tr>\n",
       "      <th>7</th>\n",
       "      <td>Nueva8</td>\n",
       "      <td>Nueva</td>\n",
       "      <td>8</td>\n",
       "      <td>35</td>\n",
       "    </tr>\n",
       "    <tr>\n",
       "      <th>8</th>\n",
       "      <td>Nueva9</td>\n",
       "      <td>Nueva</td>\n",
       "      <td>9</td>\n",
       "      <td>165</td>\n",
       "    </tr>\n",
       "    <tr>\n",
       "      <th>9</th>\n",
       "      <td>Usada10</td>\n",
       "      <td>Usada</td>\n",
       "      <td>10</td>\n",
       "      <td>54</td>\n",
       "    </tr>\n",
       "    <tr>\n",
       "      <th>10</th>\n",
       "      <td>Usada11</td>\n",
       "      <td>Usada</td>\n",
       "      <td>11</td>\n",
       "      <td>99</td>\n",
       "    </tr>\n",
       "    <tr>\n",
       "      <th>11</th>\n",
       "      <td>Nueva12</td>\n",
       "      <td>Nueva</td>\n",
       "      <td>12</td>\n",
       "      <td>110</td>\n",
       "    </tr>\n",
       "  </tbody>\n",
       "</table>\n",
       "</div>"
      ],
      "text/plain": [
       "   Producto Estado  Número  Precio\n",
       "0    Nueva1  Nueva       1      75\n",
       "1    Usada2  Usada       2      80\n",
       "2    Nueva3  Nueva       3      68\n",
       "3    Usada4  Usada       4      70\n",
       "4    Nueva5  Nueva       5      75\n",
       "5    Nueva6  Nueva       6      58\n",
       "6    Nueva7  Nueva       7      80\n",
       "7    Nueva8  Nueva       8      35\n",
       "8    Nueva9  Nueva       9     165\n",
       "9   Usada10  Usada      10      54\n",
       "10  Usada11  Usada      11      99\n",
       "11  Nueva12  Nueva      12     110"
      ]
     },
     "execution_count": 30,
     "metadata": {},
     "output_type": "execute_result"
    }
   ],
   "source": [
    "import pandas as pd\n",
    "\n",
    "pattern = r\"Patineta (Nueva|Usada) (\\d{1,2})\\s*\\n*\\s*\\$(\\d+)\" #ahora más específico\n",
    "\n",
    "# Crear listas para almacenar los productos, estados, números y precios\n",
    "productos = [] #un producto es el estado de la patineta con su número\n",
    "estados = []\n",
    "numeros = []\n",
    "precios = []\n",
    "\n",
    "# Iteramos\n",
    "for match in matches:\n",
    "    resultado = re.search(pattern, match.text)\n",
    "    if resultado:\n",
    "        #separamos y definimos variables\n",
    "        tipo = resultado.group(1) + (resultado.group(2))\n",
    "        estado = resultado.group(1) \n",
    "        numero = int(resultado.group(2))\n",
    "        precio = int(resultado.group(3))\n",
    "        \n",
    "        #agregamos a las listas\n",
    "        productos.append(tipo)\n",
    "        estados.append(estado)\n",
    "        numeros.append(numero)\n",
    "        precios.append(precio)\n",
    "\n",
    "# Crear el DataFrame usando pandas\n",
    "data = {\n",
    "    'Producto': productos,\n",
    "    'Estado': estados,\n",
    "    'Número': numeros,\n",
    "    'Precio': precios\n",
    "}\n",
    "\n",
    "df = pd.DataFrame(data)\n",
    "\n",
    "df"
   ]
  },
  {
   "cell_type": "markdown",
   "metadata": {},
   "source": [
    "Ya treniendo el data frame podemos usar las funciones de pandas para analizar los datos"
   ]
  },
  {
   "cell_type": "code",
   "execution_count": 31,
   "metadata": {},
   "outputs": [
    {
     "name": "stdout",
     "output_type": "stream",
     "text": [
      "Precio promedio: 80.75\n",
      "Precio mínimo: 35\n",
      "Precio máximo 165\n"
     ]
    }
   ],
   "source": [
    "print('Precio promedio:',df['Precio'].mean())\n",
    "print('Precio mínimo:',df['Precio'].min())\n",
    "print('Precio máximo',df['Precio'].max())"
   ]
  },
  {
   "cell_type": "code",
   "execution_count": 32,
   "metadata": {},
   "outputs": [
    {
     "name": "stdout",
     "output_type": "stream",
     "text": [
      "Precio promedio de las patinetas usadas 75.75\n",
      "Precio promedio de las patinetas nuevas 83.25\n",
      "Rango de precios de las patinetas usadas 45\n",
      "Rango de precios de las patinetas nuevas 130\n"
     ]
    }
   ],
   "source": [
    "print('Precio promedio de las patinetas usadas', df[df['Estado'] == 'Usada']['Precio'].mean())\n",
    "print('Precio promedio de las patinetas nuevas', df[df['Estado'] == 'Nueva']['Precio'].mean())\n",
    "\n",
    "\n",
    "print('Rango de precios de las patinetas usadas', df[df['Estado'] == 'Usada']['Precio'].max()-df[df['Estado'] == 'Usada']['Precio'].min())\n",
    "print('Rango de precios de las patinetas nuevas', df[df['Estado'] == 'Nueva']['Precio'].max()-df[df['Estado'] == 'Nueva']['Precio'].min())"
   ]
  },
  {
   "cell_type": "code",
   "execution_count": 33,
   "metadata": {},
   "outputs": [],
   "source": [
    "driver.quit()"
   ]
  },
  {
   "cell_type": "markdown",
   "metadata": {},
   "source": [
    "### ¡Acabamos! ###"
   ]
  },
  {
   "cell_type": "code",
   "execution_count": null,
   "metadata": {},
   "outputs": [],
   "source": [
    "!docker stop sel-docker\n",
    "!docker rm sel-docker"
   ]
  }
 ],
 "metadata": {
  "kernelspec": {
   "display_name": ".env-web-scrap",
   "language": "python",
   "name": ".env-web-scrap"
  },
  "language_info": {
   "codemirror_mode": {
    "name": "ipython",
    "version": 3
   },
   "file_extension": ".py",
   "mimetype": "text/x-python",
   "name": "python",
   "nbconvert_exporter": "python",
   "pygments_lexer": "ipython3",
   "version": "3.10.13"
  },
  "orig_nbformat": 4
 },
 "nbformat": 4,
 "nbformat_minor": 2
}
