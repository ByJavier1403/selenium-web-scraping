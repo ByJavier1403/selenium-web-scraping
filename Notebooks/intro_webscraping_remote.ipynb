{
 "cells": [
  {
   "cell_type": "markdown",
   "metadata": {},
   "source": [
    "# Selenium Webscraping\n",
    "## Notebook de clase\n",
    "\n",
    "En este ¡notebook podras encontrar el ejercicio que hicimos en clase para aprender las bases de selenium"
   ]
  },
  {
   "cell_type": "markdown",
   "metadata": {},
   "source": [
    "Hagamos los imports relevantes y conectémonos al driver de chrome. Se pueden usar otros navegadores, pero para tener orden usaremos este"
   ]
  },
  {
   "cell_type": "code",
   "execution_count": 1,
   "metadata": {},
   "outputs": [],
   "source": [
    "from selenium import webdriver\n",
    "from selenium.webdriver.common.desired_capabilities import DesiredCapabilities\n",
    "import time"
   ]
  },
  {
   "cell_type": "markdown",
   "metadata": {},
   "source": [
    "Utilizaremos un sitio web de aprendizaje. Nota: en la vida diaria los sitios se van actualizando, lo cual puede dificultar mantener el código al día y funcionando "
   ]
  },
  {
   "cell_type": "markdown",
   "metadata": {},
   "source": [
    "Obtengamos algunas cosas básicas"
   ]
  },
  {
   "cell_type": "code",
   "execution_count": 2,
   "metadata": {},
   "outputs": [],
   "source": [
    "#este import puede o no ser necesario\n",
    "from selenium.webdriver.common.by import By"
   ]
  },
  {
   "cell_type": "code",
   "execution_count": 10,
   "metadata": {},
   "outputs": [
    {
     "name": "stdout",
     "output_type": "stream",
     "text": [
      "El título de la página es: ScrapePark.org\n",
      "\n",
      "\n",
      "La información del sitio es: DIRECCIÓN: Calle falsa 123\n",
      "TELÉFONO: 4-444-4444\n",
      "EMAIL: ventas@mail.com\n",
      "\n",
      "\n",
      "El texto es: Testimonios de clientes\n",
      "Cliente 1\n",
      "Los productos me encantaron y los precios son muy buenos. Lo recomiendo.\n",
      "Anterior\n",
      "Siguiente\n"
     ]
    }
   ],
   "source": [
    "driver = driver = webdriver.Remote(command_executor='http://selenium-hub:4444/wd/hub', options=webdriver.ChromeOptions())\n",
    "\n",
    "# Abrir la página web\n",
    "driver.get('https://scrapepark.org/courses/spanish/')\n",
    "\n",
    "nom_pagina = driver.title #titulo de la página\n",
    "print(\"El título de la página es:\", nom_pagina)\n",
    "\n",
    "print('\\n')\n",
    "\n",
    "info_marca = driver.find_element(By.CLASS_NAME, 'information-f')\n",
    "print(\"La información del sitio es:\", info_marca.text) # .text nos da el texto de un elemento\n",
    "\n",
    "print('\\n')\n",
    "\n",
    "testimonio = driver.find_element(By.ID, 'testimonios') # buequda por ID\n",
    "print(\"El texto es:\", testimonio.text) # .text nos da el texto de un elemento\n",
    "\n",
    "driver.close()\n",
    "\n"
   ]
  },
  {
   "cell_type": "markdown",
   "metadata": {},
   "source": [
    "back(): Navega hacia atrás en el historial del navegador.\n",
    "\n",
    "forward(): Navega hacia adelante en el historial del navegador.\n",
    "\n",
    "refresh(): Actualiza la página actual."
   ]
  },
  {
   "cell_type": "markdown",
   "metadata": {},
   "source": []
  },
  {
   "cell_type": "code",
   "execution_count": null,
   "metadata": {},
   "outputs": [],
   "source": []
  },
  {
   "cell_type": "markdown",
   "metadata": {},
   "source": []
  }
 ],
 "metadata": {
  "kernelspec": {
   "display_name": "Python 3 (ipykernel)",
   "language": "python",
   "name": "python3"
  },
  "language_info": {
   "codemirror_mode": {
    "name": "ipython",
    "version": 3
   },
   "file_extension": ".py",
   "mimetype": "text/x-python",
   "name": "python",
   "nbconvert_exporter": "python",
   "pygments_lexer": "ipython3",
   "version": "3.9.18"
  }
 },
 "nbformat": 4,
 "nbformat_minor": 4
}
