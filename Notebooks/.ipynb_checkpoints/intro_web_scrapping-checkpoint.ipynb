{
 "cells": [
  {
   "cell_type": "markdown",
   "metadata": {},
   "source": [
    "# Selenium Webscraping\n",
    "## Notebook de clase\n",
    "\n",
    "En este notebook podras encontrar el ejercicio que hicimos en clase para aprender las bases de selenium"
   ]
  }
 ],
 "metadata": {
  "language_info": {
   "name": "python"
  }
 },
 "nbformat": 4,
 "nbformat_minor": 2
}
