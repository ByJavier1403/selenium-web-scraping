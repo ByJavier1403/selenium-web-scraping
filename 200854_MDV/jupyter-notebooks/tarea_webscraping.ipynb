{
 "cells": [
  {
   "cell_type": "markdown",
   "metadata": {},
   "source": [
    "## Tarea Web-scrapping\n",
    "\n",
    "### Crea una carpeta en 'tasks' con el formato *INICIALES_3UltimosDigitosCU* y copia de este archivo dentro de ella. NO ALTERES ESTA VERSIÓN DEL DOCUMENTO.\n",
    "\n",
    "### Realiza `push` a tus cambios y haz el `pull request`."
   ]
  },
  {
   "cell_type": "markdown",
   "metadata": {},
   "source": [
    "Utiliza la siguiente página para scrapear: https://books.toscrape.com/"
   ]
  },
  {
   "cell_type": "code",
   "execution_count": 66,
   "metadata": {},
   "outputs": [],
   "source": [
    "from selenium import webdriver\n",
    "from selenium.webdriver.common.by import By\n",
    "import pandas\n",
    "\n",
    "# Inicializar el driver de Selenium\n",
    "driver = webdriver.Remote('http://localhost:4444/wd/hub',options=webdriver.ChromeOptions())"
   ]
  },
  {
   "cell_type": "markdown",
   "metadata": {},
   "source": [
    "Abre la página"
   ]
  },
  {
   "cell_type": "code",
   "execution_count": 67,
   "metadata": {},
   "outputs": [],
   "source": [
    "#Abrir la página\n",
    "driver = webdriver.Chrome(options = webdriver.ChromeOptions())\n",
    "url = 'https://books.toscrape.com/'\n",
    "driver.get(url)"
   ]
  },
  {
   "cell_type": "markdown",
   "metadata": {},
   "source": [
    "Extraer el título de la página"
   ]
  },
  {
   "cell_type": "code",
   "execution_count": 68,
   "metadata": {},
   "outputs": [
    {
     "name": "stdout",
     "output_type": "stream",
     "text": [
      "Título de la página: All products | Books to Scrape - Sandbox\n"
     ]
    }
   ],
   "source": [
    "#Extrae el título de la página \n",
    "titulo_pagina = driver.title\n",
    "print(\"Título de la página:\", titulo_pagina)"
   ]
  },
  {
   "cell_type": "markdown",
   "metadata": {},
   "source": [
    "\n",
    "Encontrar un elemento (puede ser un botón, un enlace, un campo de entrada, etc.) utilizando XPath, ID, u otra estrategia de localización de elementos."
   ]
  },
  {
   "cell_type": "code",
   "execution_count": 69,
   "metadata": {},
   "outputs": [],
   "source": [
    "#Encontramos un boton por Xpath\n",
    "boton = driver.find_element(By.XPATH, '//*[@id=\"default\"]/div/div/div/div/section/div[2]/ol/li[1]/article/div[2]/form/button')\n"
   ]
  },
  {
   "cell_type": "markdown",
   "metadata": {},
   "source": [
    "Realizar alguna acción con el elemento del markdown anterior (por ejemplo, hacer clic en el botón, introducir texto en un campo de entrada, etc.).\n"
   ]
  },
  {
   "cell_type": "code",
   "execution_count": 70,
   "metadata": {},
   "outputs": [],
   "source": [
    "#Realiza la acción\n",
    "#presionamos el boton para agregar el articulo\n",
    "boton.click()"
   ]
  },
  {
   "cell_type": "markdown",
   "metadata": {},
   "source": [
    "Los scrappers son herramientas poderosas para extraer automáticamente datos de una página web. ChatGPT puede ser una ayuda valiosa para generar expresiones XPath que indican dónde se encuentran los datos que deseamos extraer."
   ]
  },
  {
   "cell_type": "markdown",
   "metadata": {},
   "source": [
    "Debemos hacer el inspect y buscar un fragmento de html que le pueda dar contexto a ChatGTP sobre como hacer la consulta, Inspecciona la página hasta encontrar el nodo: ```<li class=\"col-xs-6 col-sm-4 col-md-3 col-lg-3\">```, copia esta información y pide a chatGTP que te dé el XPATH de los títulos. Pruebalo haciendo ctrl+f en la herramienta de inspección"
   ]
  },
  {
   "cell_type": "code",
   "execution_count": 71,
   "metadata": {},
   "outputs": [
    {
     "name": "stdout",
     "output_type": "stream",
     "text": [
      "Título del libro: A Light in the ...\n",
      "Título del libro: Tipping the Velvet\n",
      "Título del libro: Soumission\n",
      "Título del libro: Sharp Objects\n",
      "Título del libro: Sapiens: A Brief History ...\n",
      "Título del libro: The Requiem Red\n",
      "Título del libro: The Dirty Little Secrets ...\n",
      "Título del libro: The Coming Woman: A ...\n",
      "Título del libro: The Boys in the ...\n",
      "Título del libro: The Black Maria\n",
      "Título del libro: Starving Hearts (Triangular Trade ...\n",
      "Título del libro: Shakespeare's Sonnets\n",
      "Título del libro: Set Me Free\n",
      "Título del libro: Scott Pilgrim's Precious Little ...\n",
      "Título del libro: Rip it Up and ...\n",
      "Título del libro: Our Band Could Be ...\n",
      "Título del libro: Olio\n",
      "Título del libro: Mesaerion: The Best Science ...\n",
      "Título del libro: Libertarianism for Beginners\n",
      "Título del libro: It's Only the Himalayas\n"
     ]
    }
   ],
   "source": [
    "#Obtener el XPATH del título de cada libro en la página\n",
    "#Xpath del del libro 14, scott pilgrim's precious little life\n",
    "elementos_libros = driver.find_elements(By.XPATH,'//li[@class=\"col-xs-6 col-sm-4 col-md-3 col-lg-3\"]')\n",
    "titulos = []\n",
    "for elemento_libro in elementos_libros:\n",
    "    titulo_libro = elemento_libro.find_element(By.XPATH,'.//h3/a').text\n",
    "    titulos.append(titulo_libro)\n",
    "    print(\"Título del libro:\", titulo_libro)"
   ]
  },
  {
   "cell_type": "markdown",
   "metadata": {},
   "source": [
    "Exploraremos cómo ChatGPT puede generar XPATH para extraer precios y otros datos específicos de una página web. "
   ]
  },
  {
   "cell_type": "code",
   "execution_count": 72,
   "metadata": {},
   "outputs": [
    {
     "name": "stdout",
     "output_type": "stream",
     "text": [
      "URL del libro: https://books.toscrape.com/catalogue/a-light-in-the-attic_1000/index.html\n",
      "URL del libro: https://books.toscrape.com/catalogue/tipping-the-velvet_999/index.html\n",
      "URL del libro: https://books.toscrape.com/catalogue/soumission_998/index.html\n",
      "URL del libro: https://books.toscrape.com/catalogue/sharp-objects_997/index.html\n",
      "URL del libro: https://books.toscrape.com/catalogue/sapiens-a-brief-history-of-humankind_996/index.html\n",
      "URL del libro: https://books.toscrape.com/catalogue/the-requiem-red_995/index.html\n",
      "URL del libro: https://books.toscrape.com/catalogue/the-dirty-little-secrets-of-getting-your-dream-job_994/index.html\n",
      "URL del libro: https://books.toscrape.com/catalogue/the-coming-woman-a-novel-based-on-the-life-of-the-infamous-feminist-victoria-woodhull_993/index.html\n",
      "URL del libro: https://books.toscrape.com/catalogue/the-boys-in-the-boat-nine-americans-and-their-epic-quest-for-gold-at-the-1936-berlin-olympics_992/index.html\n",
      "URL del libro: https://books.toscrape.com/catalogue/the-black-maria_991/index.html\n",
      "URL del libro: https://books.toscrape.com/catalogue/starving-hearts-triangular-trade-trilogy-1_990/index.html\n",
      "URL del libro: https://books.toscrape.com/catalogue/shakespeares-sonnets_989/index.html\n",
      "URL del libro: https://books.toscrape.com/catalogue/set-me-free_988/index.html\n",
      "URL del libro: https://books.toscrape.com/catalogue/scott-pilgrims-precious-little-life-scott-pilgrim-1_987/index.html\n",
      "URL del libro: https://books.toscrape.com/catalogue/rip-it-up-and-start-again_986/index.html\n",
      "URL del libro: https://books.toscrape.com/catalogue/our-band-could-be-your-life-scenes-from-the-american-indie-underground-1981-1991_985/index.html\n",
      "URL del libro: https://books.toscrape.com/catalogue/olio_984/index.html\n",
      "URL del libro: https://books.toscrape.com/catalogue/mesaerion-the-best-science-fiction-stories-1800-1849_983/index.html\n",
      "URL del libro: https://books.toscrape.com/catalogue/libertarianism-for-beginners_982/index.html\n",
      "URL del libro: https://books.toscrape.com/catalogue/its-only-the-himalayas_981/index.html\n"
     ]
    }
   ],
   "source": [
    "#Obtener el XPATH del URL de cada libro\n",
    "\n",
    "\n",
    "urls = []\n",
    "for elemento_libro in elementos_libros:\n",
    "    url_libro = elemento_libro.find_element(By.XPATH,'.//article/h3/a').get_attribute('href')\n",
    "    urls.append(url_libro)\n",
    "    print(\"URL del libro:\", url_libro)"
   ]
  },
  {
   "cell_type": "code",
   "execution_count": 73,
   "metadata": {},
   "outputs": [
    {
     "name": "stdout",
     "output_type": "stream",
     "text": [
      "Price of the book: £51.77\n",
      "Price of the book: £53.74\n",
      "Price of the book: £50.10\n",
      "Price of the book: £47.82\n",
      "Price of the book: £54.23\n"
     ]
    },
    {
     "name": "stdout",
     "output_type": "stream",
     "text": [
      "Price of the book: £22.65\n",
      "Price of the book: £33.34\n",
      "Price of the book: £17.93\n",
      "Price of the book: £22.60\n",
      "Price of the book: £52.15\n",
      "Price of the book: £13.99\n",
      "Price of the book: £20.66\n",
      "Price of the book: £17.46\n",
      "Price of the book: £52.29\n",
      "Price of the book: £35.02\n",
      "Price of the book: £57.25\n",
      "Price of the book: £23.88\n",
      "Price of the book: £37.59\n",
      "Price of the book: £51.33\n",
      "Price of the book: £45.17\n"
     ]
    }
   ],
   "source": [
    "#Obtener el XPATH del precio de cada libro\n",
    "prices = []\n",
    "for book_element in elementos_libros:\n",
    "    price = book_element.find_element(By.XPATH,'.//article/div[@class=\"product_price\"]/p[@class=\"price_color\"]').text\n",
    "    prices.append(price)\n",
    "    print(\"Price of the book:\", price)"
   ]
  },
  {
   "cell_type": "markdown",
   "metadata": {},
   "source": [
    "Con la información obtenida, guardala en un DataFrame de pandas y encuentrar el libro más barato y el más caro de la primera página mostrada y brinda sus URL's"
   ]
  },
  {
   "cell_type": "code",
   "execution_count": 74,
   "metadata": {},
   "outputs": [
    {
     "data": {
      "text/plain": [
       "10    https://books.toscrape.com/catalogue/starving-...\n",
       "Name: URL, dtype: object"
      ]
     },
     "execution_count": 74,
     "metadata": {},
     "output_type": "execute_result"
    }
   ],
   "source": [
    "#convertirlo a un dataframe\n",
    "df = pandas.DataFrame({\n",
    "    'Title': titulos,\n",
    "    'URL': urls,\n",
    "    'Price': prices\n",
    "})\n",
    "#OBtener el url del libro mas caro\n",
    "df.loc[df['Price'] == df['Price'].max(),'URL']\n",
    "\n",
    "#OBtener el url del libro mas barato\n",
    "df.loc[df['Price'] == df['Price'].min(),'URL']\n",
    "\n"
   ]
  },
  {
   "cell_type": "markdown",
   "metadata": {},
   "source": [
    "## Punto extra\n",
    "Realiza la misma tarea que arriba pero considera todos los libros de la página"
   ]
  },
  {
   "cell_type": "code",
   "execution_count": null,
   "metadata": {},
   "outputs": [],
   "source": []
  },
  {
   "cell_type": "code",
   "execution_count": 78,
   "metadata": {},
   "outputs": [
    {
     "name": "stdout",
     "output_type": "stream",
     "text": [
      "No hay mas paginas\n",
      "                                   Title  \\\n",
      "0                           Frankenstein   \n",
      "1        Forever Rockers (The Rocker ...   \n",
      "2            Fighting Fate (Fighting #6)   \n",
      "3                                   Emma   \n",
      "4                        Eat, Pray, Love   \n",
      "5        Deep Under (Walker Security ...   \n",
      "6         Choosing Our Religion: The ...   \n",
      "7          Charlie and the Chocolate ...   \n",
      "8     Charity's Cross (Charles Towne ...   \n",
      "9                           Bright Lines   \n",
      "10    Bridget Jones's Diary (Bridget ...   \n",
      "11         Bounty (Colorado Mountain #7)   \n",
      "12  Blood Defense (Samantha Brinkman ...   \n",
      "13        Bleach, Vol. 1: Strawberry ...   \n",
      "14                  Beyond Good and Evil   \n",
      "15      Alice in Wonderland (Alice's ...   \n",
      "16        Ajin: Demi-Human, Volume 1 ...   \n",
      "17             A Spy's Devotion (The ...   \n",
      "18               1st to Die (Women's ...   \n",
      "19               1,000 Places to See ...   \n",
      "\n",
      "                                                  URL   Price  \n",
      "0   https://books.toscrape.com/catalogue/frankenst...  £38.00  \n",
      "1   https://books.toscrape.com/catalogue/forever-r...  £28.80  \n",
      "2   https://books.toscrape.com/catalogue/fighting-...  £39.24  \n",
      "3   https://books.toscrape.com/catalogue/emma_17/i...  £32.93  \n",
      "4   https://books.toscrape.com/catalogue/eat-pray-...  £51.32  \n",
      "5   https://books.toscrape.com/catalogue/deep-unde...  £47.09  \n",
      "6   https://books.toscrape.com/catalogue/choosing-...  £28.42  \n",
      "7   https://books.toscrape.com/catalogue/charlie-a...  £22.85  \n",
      "8   https://books.toscrape.com/catalogue/charitys-...  £41.24  \n",
      "9   https://books.toscrape.com/catalogue/bright-li...  £39.07  \n",
      "10  https://books.toscrape.com/catalogue/bridget-j...  £29.82  \n",
      "11  https://books.toscrape.com/catalogue/bounty-co...  £37.26  \n",
      "12  https://books.toscrape.com/catalogue/blood-def...  £20.30  \n",
      "13  https://books.toscrape.com/catalogue/bleach-vo...  £34.65  \n",
      "14  https://books.toscrape.com/catalogue/beyond-go...  £43.38  \n",
      "15  https://books.toscrape.com/catalogue/alice-in-...  £55.53  \n",
      "16  https://books.toscrape.com/catalogue/ajin-demi...  £57.06  \n",
      "17  https://books.toscrape.com/catalogue/a-spys-de...  £16.97  \n",
      "18  https://books.toscrape.com/catalogue/1st-to-di...  £53.98  \n",
      "19  https://books.toscrape.com/catalogue/1000-plac...  £26.08  \n",
      "16    https://books.toscrape.com/catalogue/ajin-demi...\n",
      "Name: URL, dtype: object\n",
      "17    https://books.toscrape.com/catalogue/a-spys-de...\n",
      "Name: URL, dtype: object\n"
     ]
    }
   ],
   "source": [
    "\n",
    "# Código para navegar por todas las páginas\n",
    "flag = True\n",
    "while flag:\n",
    "    elementos_libros = driver.find_elements(By.XPATH,'//li[@class=\"col-xs-6 col-sm-4 col-md-3 col-lg-3\"]')\n",
    "\n",
    "\n",
    "    titulos = []\n",
    "    urls = []\n",
    "    prices = []\n",
    "\n",
    "    for elemento_libro in elementos_libros:\n",
    "        # Obtener el título del libro\n",
    "        titulo_libro = elemento_libro.find_element(By.XPATH, './/h3/a').text\n",
    "        titulos.append(titulo_libro)\n",
    "\n",
    "        # Obtener la URL del libro\n",
    "        url_libro = elemento_libro.find_element(By.XPATH, './/h3/a').get_attribute('href')\n",
    "        urls.append(url_libro)\n",
    "\n",
    "        # Obtener el precio del libro\n",
    "        price = elemento_libro.find_element(By.XPATH, './/div[@class=\"product_price\"]/p[@class=\"price_color\"]').text\n",
    "        prices.append(price)\n",
    "\n",
    "    # Buscar el botón de \"Next\" y hacer clic en él si está presente\n",
    "    try:\n",
    "        next_button = driver.find_element(By.XPATH, '//li[@class=\"next\"]/a')\n",
    "        if 'disabled' in next_button.get_attribute('class'):\n",
    "            # Si el botón de \"Next\" está deshabilitado, hemos llegado a la última página\n",
    "            break\n",
    "        else:\n",
    "            # Hacer clic en el botón de \"Next\" para ir a la siguiente página\n",
    "            next_button.click()\n",
    "            \n",
    "    except:\n",
    "        print('No hay mas paginas')\n",
    "        flag = False\n",
    "\n",
    "df = pandas.DataFrame({\n",
    "    'Title': titulos,\n",
    "    'URL': urls,\n",
    "    'Price': prices\n",
    "})\n",
    "\n",
    "print(df)\n",
    "\n",
    "#OBtener el url del libro mas caro\n",
    "print(df.loc[df['Price'] == df['Price'].max(),'URL'])\n",
    "\n",
    "#OBtener el url del libro mas barato\n",
    "print(df.loc[df['Price'] == df['Price'].min(),'URL'])\n"
   ]
  },
  {
   "cell_type": "markdown",
   "metadata": {},
   "source": []
  },
  {
   "cell_type": "markdown",
   "metadata": {},
   "source": [
    "## Help\n",
    "\n",
    "En caso de atorarte, en este video podrás encontrar la manera en la que se pueden hacer las consultas a ChatGTP para obtener dichos XPATHS:https://youtu.be/4YokIEUeSSY?si=OhBi5eum-joIXtkc"
   ]
  }
 ],
 "metadata": {
  "kernelspec": {
   "display_name": "base",
   "language": "python",
   "name": "python3"
  },
  "language_info": {
   "codemirror_mode": {
    "name": "ipython",
    "version": 3
   },
   "file_extension": ".py",
   "mimetype": "text/x-python",
   "name": "python",
   "nbconvert_exporter": "python",
   "pygments_lexer": "ipython3",
   "version": "3.11.4"
  },
  "orig_nbformat": 4
 },
 "nbformat": 4,
 "nbformat_minor": 2
}
