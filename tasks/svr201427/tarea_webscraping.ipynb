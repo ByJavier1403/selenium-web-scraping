{
 "cells": [
  {
   "cell_type": "markdown",
   "metadata": {},
   "source": [
    "## Tarea Web-scrapping\n",
    "\n",
    "### Crea una carpeta en 'tasks' con el formato *INICIALES_3UltimosDigitosCU* y copia de este archivo dentro de ella. NO ALTERES ESTA VERSIÓN DEL DOCUMENTO.\n",
    "\n",
    "### Realiza `push` a tus cambios y haz el `pull request`."
   ]
  },
  {
   "cell_type": "markdown",
   "metadata": {},
   "source": [
    "Utiliza la siguiente página para scrapear: https://books.toscrape.com/"
   ]
  },
  {
   "cell_type": "code",
   "execution_count": 7,
   "metadata": {},
   "outputs": [],
   "source": [
    "from selenium import webdriver\n",
    "from selenium.webdriver.common.by import By\n",
    "import pandas\n",
    "\n",
    "# Inicializar el driver de Selenium\n",
    "driver = webdriver.Chrome(options=webdriver.ChromeOptions())"
   ]
  },
  {
   "cell_type": "markdown",
   "metadata": {},
   "source": [
    "Abre la página"
   ]
  },
  {
   "cell_type": "code",
   "execution_count": 8,
   "metadata": {},
   "outputs": [],
   "source": [
    "driver.get(\"https://books.toscrape.com/\")"
   ]
  },
  {
   "cell_type": "markdown",
   "metadata": {},
   "source": [
    "Extraer el título de la página"
   ]
  },
  {
   "cell_type": "code",
   "execution_count": 19,
   "metadata": {},
   "outputs": [
    {
     "name": "stdout",
     "output_type": "stream",
     "text": [
      "El título de la página es: All products | Books to Scrape - Sandbox\n"
     ]
    }
   ],
   "source": [
    "#Extrae el título de la página \n",
    "nom_pagina = driver.title #titulo de la página\n",
    "\n",
    "print(\"El título de la página es:\", nom_pagina)"
   ]
  },
  {
   "cell_type": "markdown",
   "metadata": {},
   "source": [
    "\n",
    "Encontrar un elemento (puede ser un botón, un enlace, un campo de entrada, etc.) utilizando XPath, ID, u otra estrategia de localización de elementos."
   ]
  },
  {
   "cell_type": "code",
   "execution_count": 23,
   "metadata": {},
   "outputs": [
    {
     "name": "stdout",
     "output_type": "stream",
     "text": [
      "next\n"
     ]
    }
   ],
   "source": [
    "#Encuentra algun elemento\n",
    "next_button = driver.find_element(By.XPATH, \"/html/body/div/div/div/div/section/div[2]/div/ul/li[2]/a\")\n",
    "print(next_button.text)"
   ]
  },
  {
   "cell_type": "markdown",
   "metadata": {},
   "source": [
    "Realizar alguna acción con el elemento del markdown anterior (por ejemplo, hacer clic en el botón, introducir texto en un campo de entrada, etc.).\n"
   ]
  },
  {
   "cell_type": "code",
   "execution_count": 24,
   "metadata": {},
   "outputs": [],
   "source": [
    "#Realiza la acción\n",
    "next_button.click()"
   ]
  },
  {
   "cell_type": "markdown",
   "metadata": {},
   "source": [
    "Los scrappers son herramientas poderosas para extraer automáticamente datos de una página web. ChatGPT puede ser una ayuda valiosa para generar expresiones XPath que indican dónde se encuentran los datos que deseamos extraer."
   ]
  },
  {
   "cell_type": "markdown",
   "metadata": {},
   "source": [
    "Debemos hacer el inspect y buscar un fragmento de html que le pueda dar contexto a ChatGTP sobre como hacer la consulta, Inspecciona la página hasta encontrar el nodo: ```<li class=\"col-xs-6 col-sm-4 col-md-3 col-lg-3\">```, copia esta información y pide a chatGTP que te dé el XPATH de los títulos. Pruebalo haciendo ctrl+f en la herramienta de inspección"
   ]
  },
  {
   "cell_type": "code",
   "execution_count": 26,
   "metadata": {},
   "outputs": [
    {
     "name": "stdout",
     "output_type": "stream",
     "text": [
      "In Her Wake\n",
      "£12.84\n",
      "In stock\n",
      "Add to basket\n",
      "How Music Works\n",
      "£37.32\n",
      "In stock\n",
      "Add to basket\n",
      "Foolproof Preserving: A Guide ...\n",
      "£30.52\n",
      "In stock\n",
      "Add to basket\n",
      "Chase Me (Paris Nights ...\n",
      "£25.27\n",
      "In stock\n",
      "Add to basket\n",
      "Black Dust\n",
      "£34.53\n",
      "In stock\n",
      "Add to basket\n",
      "Birdsong: A Story in ...\n",
      "£54.64\n",
      "In stock\n",
      "Add to basket\n",
      "America's Cradle of Quarterbacks: ...\n",
      "£22.50\n",
      "In stock\n",
      "Add to basket\n",
      "Aladdin and His Wonderful ...\n",
      "£53.13\n",
      "In stock\n",
      "Add to basket\n",
      "Worlds Elsewhere: Journeys Around ...\n",
      "£40.30\n",
      "In stock\n",
      "Add to basket\n",
      "Wall and Piece\n",
      "£44.18\n",
      "In stock\n",
      "Add to basket\n",
      "The Four Agreements: A ...\n",
      "£17.66\n",
      "In stock\n",
      "Add to basket\n",
      "The Five Love Languages: ...\n",
      "£31.05\n",
      "In stock\n",
      "Add to basket\n",
      "The Elephant Tree\n",
      "£23.82\n",
      "In stock\n",
      "Add to basket\n",
      "The Bear and the ...\n",
      "£36.89\n",
      "In stock\n",
      "Add to basket\n",
      "Sophie's World\n",
      "£15.94\n",
      "In stock\n",
      "Add to basket\n",
      "Penny Maybe\n",
      "£33.29\n",
      "In stock\n",
      "Add to basket\n",
      "Maude (1883-1993):She Grew Up ...\n",
      "£18.02\n",
      "In stock\n",
      "Add to basket\n",
      "In a Dark, Dark ...\n",
      "£19.63\n",
      "In stock\n",
      "Add to basket\n",
      "Behind Closed Doors\n",
      "£52.22\n",
      "In stock\n",
      "Add to basket\n",
      "You can't bury them ...\n",
      "£33.63\n",
      "In stock\n",
      "Add to basket\n"
     ]
    }
   ],
   "source": [
    "#Obtener el XPATH del título de un libro en la página\n",
    "title_elements = driver.find_elements(By.XPATH, \"//li[contains(@class, 'col-xs-6') and contains(@class, 'col-sm-4') and contains(@class, 'col-md-3') and contains(@class, 'col-lg-3')]\")\n",
    "for title_element in title_elements:\n",
    "    print(title_element.text)"
   ]
  },
  {
   "cell_type": "markdown",
   "metadata": {},
   "source": [
    "Exploraremos cómo ChatGPT puede generar XPATH para extraer precios y otros datos específicos de una página web. "
   ]
  },
  {
   "cell_type": "code",
   "execution_count": 28,
   "metadata": {},
   "outputs": [
    {
     "name": "stdout",
     "output_type": "stream",
     "text": [
      "https://books.toscrape.com/catalogue/in-her-wake_980/index.html\n",
      "https://books.toscrape.com/catalogue/in-her-wake_980/index.html\n",
      "https://books.toscrape.com/catalogue/how-music-works_979/index.html\n",
      "https://books.toscrape.com/catalogue/how-music-works_979/index.html\n",
      "https://books.toscrape.com/catalogue/foolproof-preserving-a-guide-to-small-batch-jams-jellies-pickles-condiments-and-more-a-foolproof-guide-to-making-small-batch-jams-jellies-pickles-condiments-and-more_978/index.html\n",
      "https://books.toscrape.com/catalogue/foolproof-preserving-a-guide-to-small-batch-jams-jellies-pickles-condiments-and-more-a-foolproof-guide-to-making-small-batch-jams-jellies-pickles-condiments-and-more_978/index.html\n",
      "https://books.toscrape.com/catalogue/chase-me-paris-nights-2_977/index.html\n",
      "https://books.toscrape.com/catalogue/chase-me-paris-nights-2_977/index.html\n",
      "https://books.toscrape.com/catalogue/black-dust_976/index.html\n",
      "https://books.toscrape.com/catalogue/black-dust_976/index.html\n",
      "https://books.toscrape.com/catalogue/birdsong-a-story-in-pictures_975/index.html\n",
      "https://books.toscrape.com/catalogue/birdsong-a-story-in-pictures_975/index.html\n",
      "https://books.toscrape.com/catalogue/americas-cradle-of-quarterbacks-western-pennsylvanias-football-factory-from-johnny-unitas-to-joe-montana_974/index.html\n",
      "https://books.toscrape.com/catalogue/americas-cradle-of-quarterbacks-western-pennsylvanias-football-factory-from-johnny-unitas-to-joe-montana_974/index.html\n",
      "https://books.toscrape.com/catalogue/aladdin-and-his-wonderful-lamp_973/index.html\n",
      "https://books.toscrape.com/catalogue/aladdin-and-his-wonderful-lamp_973/index.html\n",
      "https://books.toscrape.com/catalogue/worlds-elsewhere-journeys-around-shakespeares-globe_972/index.html\n",
      "https://books.toscrape.com/catalogue/worlds-elsewhere-journeys-around-shakespeares-globe_972/index.html\n",
      "https://books.toscrape.com/catalogue/wall-and-piece_971/index.html\n",
      "https://books.toscrape.com/catalogue/wall-and-piece_971/index.html\n",
      "https://books.toscrape.com/catalogue/the-four-agreements-a-practical-guide-to-personal-freedom_970/index.html\n",
      "https://books.toscrape.com/catalogue/the-four-agreements-a-practical-guide-to-personal-freedom_970/index.html\n",
      "https://books.toscrape.com/catalogue/the-five-love-languages-how-to-express-heartfelt-commitment-to-your-mate_969/index.html\n",
      "https://books.toscrape.com/catalogue/the-five-love-languages-how-to-express-heartfelt-commitment-to-your-mate_969/index.html\n",
      "https://books.toscrape.com/catalogue/the-elephant-tree_968/index.html\n",
      "https://books.toscrape.com/catalogue/the-elephant-tree_968/index.html\n",
      "https://books.toscrape.com/catalogue/the-bear-and-the-piano_967/index.html\n",
      "https://books.toscrape.com/catalogue/the-bear-and-the-piano_967/index.html\n",
      "https://books.toscrape.com/catalogue/sophies-world_966/index.html\n",
      "https://books.toscrape.com/catalogue/sophies-world_966/index.html\n",
      "https://books.toscrape.com/catalogue/penny-maybe_965/index.html\n",
      "https://books.toscrape.com/catalogue/penny-maybe_965/index.html\n",
      "https://books.toscrape.com/catalogue/maude-1883-1993she-grew-up-with-the-country_964/index.html\n",
      "https://books.toscrape.com/catalogue/maude-1883-1993she-grew-up-with-the-country_964/index.html\n",
      "https://books.toscrape.com/catalogue/in-a-dark-dark-wood_963/index.html\n",
      "https://books.toscrape.com/catalogue/in-a-dark-dark-wood_963/index.html\n",
      "https://books.toscrape.com/catalogue/behind-closed-doors_962/index.html\n",
      "https://books.toscrape.com/catalogue/behind-closed-doors_962/index.html\n",
      "https://books.toscrape.com/catalogue/you-cant-bury-them-all-poems_961/index.html\n",
      "https://books.toscrape.com/catalogue/you-cant-bury-them-all-poems_961/index.html\n"
     ]
    }
   ],
   "source": [
    "#Obtener el XPATH del URL de cada libro\n",
    "url_elements = driver.find_elements(By.XPATH, \"//li[contains(@class, 'col-xs-6') and contains(@class, 'col-sm-4') and contains(@class, 'col-md-3') and contains(@class, 'col-lg-3')]//a\")\n",
    "\n",
    "# Print the href attribute of each URL\n",
    "for url_element in url_elements:\n",
    "    href_value = url_element.get_attribute(\"href\")\n",
    "    print(href_value)"
   ]
  },
  {
   "cell_type": "code",
   "execution_count": 41,
   "metadata": {},
   "outputs": [
    {
     "data": {
      "text/plain": [
       "'.//article[@class=\"product_pod\"]/div[@class=\"product_price\"]/p[@class=\"price_color\"]'"
      ]
     },
     "execution_count": 41,
     "metadata": {},
     "output_type": "execute_result"
    }
   ],
   "source": [
    "    #Obtener el XPATH del precio de cada libro\n",
    "    xpath_precios = './/article[@class=\\\"product_pod\\\"]/div[@class=\\\"product_price\\\"]/p[@class=\\\"price_color\\\"]'\n",
    "    xpath_precios"
   ]
  },
  {
   "cell_type": "markdown",
   "metadata": {},
   "source": [
    "Con la información obtenida, guardala en un DataFrame de pandas y encuentrar el libro más barato y el más caro de la primera página mostrada y brinda sus URL's"
   ]
  },
  {
   "cell_type": "code",
   "execution_count": 42,
   "metadata": {},
   "outputs": [
    {
     "data": {
      "text/plain": [
       "20"
      ]
     },
     "execution_count": 42,
     "metadata": {},
     "output_type": "execute_result"
    }
   ],
   "source": [
    "books = driver.find_elements(By.XPATH, \"/html/body/div/div/div/div/section/div[2]/ol/li\")\n",
    "len(books)"
   ]
  },
  {
   "cell_type": "markdown",
   "metadata": {},
   "source": [
    "## Punto extra\n",
    "Realiza la misma tarea que arriba pero considera todos los libros de la página"
   ]
  },
  {
   "cell_type": "markdown",
   "metadata": {},
   "source": [
    "## Help\n",
    "\n",
    "En caso de atorarte, en este video podrás encontrar la manera en la que se pueden hacer las consultas a ChatGTP para obtener dichos XPATHS:https://youtu.be/4YokIEUeSSY?si=OhBi5eum-joIXtkc"
   ]
  }
 ],
 "metadata": {
  "kernelspec": {
   "display_name": "base",
   "language": "python",
   "name": "python3"
  },
  "language_info": {
   "codemirror_mode": {
    "name": "ipython",
    "version": 3
   },
   "file_extension": ".py",
   "mimetype": "text/x-python",
   "name": "python",
   "nbconvert_exporter": "python",
   "pygments_lexer": "ipython3",
   "version": "3.11.7"
  },
  "orig_nbformat": 4
 },
 "nbformat": 4,
 "nbformat_minor": 2
}
