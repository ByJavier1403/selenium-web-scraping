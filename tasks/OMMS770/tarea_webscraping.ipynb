{
 "cells": [
  {
   "cell_type": "markdown",
   "metadata": {},
   "source": [
    "## Tarea Web-scrapping\n",
    "\n",
    "### Crea una carpeta en 'tasks' con el formato *INICIALES_3UltimosDigitosCU* y copia de este archivo dentro de ella. NO ALTERES ESTA VERSIÓN DEL DOCUMENTO.\n",
    "\n",
    "### Realiza `push` a tus cambios y haz el `pull request`."
   ]
  },
  {
   "cell_type": "markdown",
   "metadata": {},
   "source": [
    "Utiliza la siguiente página para scrapear: https://books.toscrape.com/"
   ]
  },
  {
   "cell_type": "code",
   "execution_count": 7,
   "metadata": {},
   "outputs": [],
   "source": [
    "from selenium import webdriver\n",
    "from selenium.webdriver.common.by import By\n",
    "import pandas as pd\n",
    "\n",
    "# Inicializar el driver de Selenium\n",
    "driver = webdriver.Remote('http://localhost:4444/wd/hub', options=webdriver.ChromeOptions())\n"
   ]
  },
  {
   "cell_type": "markdown",
   "metadata": {},
   "source": [
    "Abre la página"
   ]
  },
  {
   "cell_type": "code",
   "execution_count": 8,
   "metadata": {},
   "outputs": [],
   "source": [
    "#Abrir la página\n",
    "driver.get(\"https://books.toscrape.com/\")"
   ]
  },
  {
   "cell_type": "markdown",
   "metadata": {},
   "source": [
    "Extraer el título de la página"
   ]
  },
  {
   "cell_type": "code",
   "execution_count": 9,
   "metadata": {},
   "outputs": [
    {
     "name": "stdout",
     "output_type": "stream",
     "text": [
      "El título de la página es: All products | Books to Scrape - Sandbox\n"
     ]
    }
   ],
   "source": [
    "#Extrae el título de la página \n",
    "# Extraer el título de la página\n",
    "titulo_pagina = driver.title\n",
    "print(\"El título de la página es:\", titulo_pagina)\n"
   ]
  },
  {
   "cell_type": "markdown",
   "metadata": {},
   "source": [
    "\n",
    "Encontrar un elemento (puede ser un botón, un enlace, un campo de entrada, etc.) utilizando XPath, ID, u otra estrategia de localización de elementos."
   ]
  },
  {
   "cell_type": "code",
   "execution_count": 14,
   "metadata": {},
   "outputs": [],
   "source": [
    "#Encuentra algun elemento\n",
    "# Encontrar el botón \"Add to basket\" del primer producto\n",
    "boton_add_to_basket = driver.find_element(By.XPATH, \"(//article[@class='product_pod']//button[@type='submit'])[1]\")\n"
   ]
  },
  {
   "cell_type": "markdown",
   "metadata": {},
   "source": [
    "Realizar alguna acción con el elemento del markdown anterior (por ejemplo, hacer clic en el botón, introducir texto en un campo de entrada, etc.).\n"
   ]
  },
  {
   "cell_type": "code",
   "execution_count": 15,
   "metadata": {},
   "outputs": [],
   "source": [
    "#Realiza la acción\n",
    "# Hacer clic en el botón \"Add to basket\"\n",
    "boton_add_to_basket.click()\n"
   ]
  },
  {
   "cell_type": "markdown",
   "metadata": {},
   "source": [
    "Los scrappers son herramientas poderosas para extraer automáticamente datos de una página web. ChatGPT puede ser una ayuda valiosa para generar expresiones XPath que indican dónde se encuentran los datos que deseamos extraer."
   ]
  },
  {
   "cell_type": "markdown",
   "metadata": {},
   "source": [
    "Debemos hacer el inspect y buscar un fragmento de html que le pueda dar contexto a ChatGTP sobre como hacer la consulta, Inspecciona la página hasta encontrar el nodo: ```<li class=\"col-xs-6 col-sm-4 col-md-3 col-lg-3\">```, copia esta información y pide a chatGTP que te dé el XPATH de los títulos. Pruebalo haciendo ctrl+f en la herramienta de inspección"
   ]
  },
  {
   "cell_type": "code",
   "execution_count": 19,
   "metadata": {},
   "outputs": [],
   "source": [
    "#Obtener el XPATH del título de un libro en la página\n",
    "xpath_titulos = \"//li[contains(@class, 'col-xs-6 col-sm-4 col-md-3 col-lg-3')]//h3/a/@title\"\n",
    "\n"
   ]
  },
  {
   "cell_type": "markdown",
   "metadata": {},
   "source": [
    "Exploraremos cómo ChatGPT puede generar XPATH para extraer precios y otros datos específicos de una página web. "
   ]
  },
  {
   "cell_type": "code",
   "execution_count": 20,
   "metadata": {},
   "outputs": [],
   "source": [
    "#Obtener el XPATH del URL de cada libro\n",
    "# Obtener el XPATH del URL de cada libro\n",
    "xpath_url_de_libros = \"//li[contains(@class, 'col-xs-6 col-sm-4 col-md-3 col-lg-3')]//h3/a/@href\"\n"
   ]
  },
  {
   "cell_type": "code",
   "execution_count": null,
   "metadata": {},
   "outputs": [],
   "source": [
    "#Obtener el XPATH del precio de cada libro\n",
    "# Obtener el XPATH del precio de cada libro\n",
    "xpath_precios = \"//article[@class='product_pod']//p[@class='price_color']/text()\"\n"
   ]
  },
  {
   "cell_type": "markdown",
   "metadata": {},
   "source": [
    "Con la información obtenida, guardala en un DataFrame de pandas y encuentrar el libro más barato y el más caro de la primera página mostrada y brinda sus URL's"
   ]
  },
  {
   "cell_type": "code",
   "execution_count": 23,
   "metadata": {},
   "outputs": [],
   "source": [
    "\n",
    "\n",
    "# Iniciar el WebDriver y abrir la página\n",
    "driver = webdriver.Chrome()  # Asegúrate de tener el driver correspondiente instalado\n",
    "driver.get(\"https://books.toscrape.com/\")\n",
    "\n",
    "# XPaths\n",
    "# XPaths corregidos\n",
    "xpath_titulos = \"//article[@class='product_pod']//h3/a\"\n",
    "xpath_urls = \"//article[@class='product_pod']//h3/a\"\n",
    "xpath_precios = \"//article[@class='product_pod']//p[@class='price_color']\"\n",
    "\n",
    "# Extraer la información\n",
    "titulos = [element.get_attribute('title') for element in driver.find_elements(By.XPATH, xpath_titulos)]\n",
    "urls = [element.get_attribute('href') for element in driver.find_elements(By.XPATH, xpath_urls)]\n",
    "precios = [element.text for element in driver.find_elements(By.XPATH, xpath_precios)]\n",
    "\n",
    "\n",
    "# Cerrar el WebDriver\n",
    "driver.quit()\n",
    "\n",
    "# Crear DataFrame\n",
    "df_libros = pd.DataFrame({'Titulo': titulos, 'Precio': precios, 'URL': urls})\n"
   ]
  },
  {
   "cell_type": "code",
   "execution_count": 24,
   "metadata": {},
   "outputs": [
    {
     "name": "stdout",
     "output_type": "stream",
     "text": [
      "Libro más barato:\n",
      "Titulo       Starving Hearts (Triangular Trade Trilogy, #1)\n",
      "Precio                                                13.99\n",
      "URL       https://books.toscrape.com/catalogue/starving-...\n",
      "Name: 10, dtype: object\n",
      "\n",
      "Libro más caro:\n",
      "Titulo    Our Band Could Be Your Life: Scenes from the A...\n",
      "Precio                                                57.25\n",
      "URL       https://books.toscrape.com/catalogue/our-band-...\n",
      "Name: 15, dtype: object\n"
     ]
    }
   ],
   "source": [
    "# Convertir precios a números\n",
    "df_libros['Precio'] = df_libros['Precio'].str.replace('£', '').astype(float)\n",
    "\n",
    "# Encontrar el libro más barato y el más caro\n",
    "libro_mas_barato = df_libros.loc[df_libros['Precio'].idxmin()]\n",
    "libro_mas_caro = df_libros.loc[df_libros['Precio'].idxmax()]\n",
    "\n",
    "# Imprimir resultados\n",
    "print(\"Libro más barato:\")\n",
    "print(libro_mas_barato)\n",
    "print(\"\\nLibro más caro:\")\n",
    "print(libro_mas_caro)\n"
   ]
  },
  {
   "cell_type": "markdown",
   "metadata": {},
   "source": [
    "## Punto extra\n",
    "Realiza la misma tarea que arriba pero considera todos los libros de la página"
   ]
  },
  {
   "cell_type": "markdown",
   "metadata": {},
   "source": [
    "## Help\n",
    "\n",
    "En caso de atorarte, en este video podrás encontrar la manera en la que se pueden hacer las consultas a ChatGTP para obtener dichos XPATHS:https://youtu.be/4YokIEUeSSY?si=OhBi5eum-joIXtkc"
   ]
  }
 ],
 "metadata": {
  "kernelspec": {
   "display_name": "base",
   "language": "python",
   "name": "python3"
  },
  "language_info": {
   "codemirror_mode": {
    "name": "ipython",
    "version": 3
   },
   "file_extension": ".py",
   "mimetype": "text/x-python",
   "name": "python",
   "nbconvert_exporter": "python",
   "pygments_lexer": "ipython3",
   "version": "3.10.13"
  },
  "orig_nbformat": 4
 },
 "nbformat": 4,
 "nbformat_minor": 2
}
