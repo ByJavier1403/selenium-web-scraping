{
 "cells": [
  {
   "cell_type": "markdown",
   "metadata": {},
   "source": [
    "## Tarea Web-scrapping\n",
    "\n",
    "### Crea una carpeta en 'tasks' con el formato *INICIALES_3UltimosDigitosCU* y copia de este archivo dentro de ella. NO ALTERES ESTA VERSIÓN DEL DOCUMENTO.\n",
    "\n",
    "### Realiza `push` a tus cambios y haz el `pull request`."
   ]
  },
  {
   "cell_type": "markdown",
   "metadata": {},
   "source": [
    "Utiliza la siguiente página para scrapear: https://books.toscrape.com/"
   ]
  },
  {
   "cell_type": "code",
   "execution_count": 161,
   "metadata": {},
   "outputs": [],
   "source": [
    "from selenium import webdriver\n",
    "from selenium.webdriver.common.by import By\n",
    "import pandas as pd\n",
    "\n",
    "# Inicializar el driver de Selenium\n",
    "driver = webdriver.Remote('http://localhost:4444/wd/hub',options=webdriver.ChromeOptions())"
   ]
  },
  {
   "cell_type": "markdown",
   "metadata": {},
   "source": [
    "Abre la página"
   ]
  },
  {
   "cell_type": "code",
   "execution_count": 162,
   "metadata": {},
   "outputs": [],
   "source": [
    "# Abrir la página\n",
    "url = 'https://books.toscrape.com/'\n",
    "driver.get(url)"
   ]
  },
  {
   "cell_type": "markdown",
   "metadata": {},
   "source": [
    "Extraer el título de la página"
   ]
  },
  {
   "cell_type": "code",
   "execution_count": 163,
   "metadata": {},
   "outputs": [
    {
     "name": "stdout",
     "output_type": "stream",
     "text": [
      "Nombre de la pagina: All products | Books to Scrape - Sandbox\n"
     ]
    }
   ],
   "source": [
    "# Extrae el título de la página\n",
    "titulo_pagina = driver.title\n",
    "print(f\"Nombre de la pagina: {titulo_pagina}\")"
   ]
  },
  {
   "cell_type": "markdown",
   "metadata": {},
   "source": [
    "\n",
    "Encontrar un elemento (puede ser un botón, un enlace, un campo de entrada, etc.) utilizando XPath, ID, u otra estrategia de localización de elementos."
   ]
  },
  {
   "cell_type": "code",
   "execution_count": 164,
   "metadata": {},
   "outputs": [
    {
     "name": "stdout",
     "output_type": "stream",
     "text": [
      "Add to basket\n"
     ]
    }
   ],
   "source": [
    "# Encuentra algun elemento\n",
    "xpath = '//*[@id=\"default\"]/div/div/div/div/section/div[2]/ol/li[14]/article/div[2]/form/button'\n",
    "boton = driver.find_element(By.XPATH, xpath)\n",
    "print(boton.text)"
   ]
  },
  {
   "cell_type": "markdown",
   "metadata": {},
   "source": [
    "Realizar alguna acción con el elemento del markdown anterior (por ejemplo, hacer clic en el botón, introducir texto en un campo de entrada, etc.).\n"
   ]
  },
  {
   "cell_type": "code",
   "execution_count": 165,
   "metadata": {},
   "outputs": [],
   "source": [
    "# Realiza la acción\n",
    "boton.click()"
   ]
  },
  {
   "cell_type": "markdown",
   "metadata": {},
   "source": [
    "Los scrappers son herramientas poderosas para extraer automáticamente datos de una página web. ChatGPT puede ser una ayuda valiosa para generar expresiones XPath que indican dónde se encuentran los datos que deseamos extraer."
   ]
  },
  {
   "cell_type": "markdown",
   "metadata": {},
   "source": [
    "Debemos hacer el inspect y buscar un fragmento de html que le pueda dar contexto a ChatGTP sobre como hacer la consulta, Inspecciona la página hasta encontrar el nodo: ```<li class=\"col-xs-6 col-sm-4 col-md-3 col-lg-3\">```, copia esta información y pide a chatGTP que te dé el XPATH de los títulos. Pruebalo haciendo ctrl+f en la herramienta de inspección"
   ]
  },
  {
   "cell_type": "code",
   "execution_count": 166,
   "metadata": {},
   "outputs": [
    {
     "name": "stdout",
     "output_type": "stream",
     "text": [
      "Título del libro: A Light in the Attic\n"
     ]
    }
   ],
   "source": [
    "# Obtener el XPATH del título de un libro en la página\n",
    "xpath_titulos = './/article[@class=\"product_pod\"]/h3/a'\n",
    "titulo_libro = driver.find_element(By.XPATH, xpath_titulos)\n",
    "print(\"Título del libro:\", titulo_libro.get_attribute(\"title\"))"
   ]
  },
  {
   "cell_type": "code",
   "execution_count": 167,
   "metadata": {},
   "outputs": [
    {
     "name": "stdout",
     "output_type": "stream",
     "text": [
      "Título del libro: A Light in the Attic\n",
      "Título del libro: Tipping the Velvet\n",
      "Título del libro: Soumission\n",
      "Título del libro: Sharp Objects\n",
      "Título del libro: Sapiens: A Brief History of Humankind\n",
      "Título del libro: The Requiem Red\n",
      "Título del libro: The Dirty Little Secrets of Getting Your Dream Job\n",
      "Título del libro: The Coming Woman: A Novel Based on the Life of the Infamous Feminist, Victoria Woodhull\n",
      "Título del libro: The Boys in the Boat: Nine Americans and Their Epic Quest for Gold at the 1936 Berlin Olympics\n",
      "Título del libro: The Black Maria\n",
      "Título del libro: Starving Hearts (Triangular Trade Trilogy, #1)\n",
      "Título del libro: Shakespeare's Sonnets\n",
      "Título del libro: Set Me Free\n",
      "Título del libro: Scott Pilgrim's Precious Little Life (Scott Pilgrim #1)\n",
      "Título del libro: Rip it Up and Start Again\n",
      "Título del libro: Our Band Could Be Your Life: Scenes from the American Indie Underground, 1981-1991\n",
      "Título del libro: Olio\n",
      "Título del libro: Mesaerion: The Best Science Fiction Stories 1800-1849\n",
      "Título del libro: Libertarianism for Beginners\n",
      "Título del libro: It's Only the Himalayas\n"
     ]
    }
   ],
   "source": [
    "# Obtener el XPATH del URL de cada libro\n",
    "xpath_titulo_de_libros = './/article[@class=\"product_pod\"]/h3/a'\n",
    "urls_libros = driver.find_elements(By.XPATH, xpath_titulo_de_libros)\n",
    "lista_titulos = []\n",
    "# Imprimir las URLs de los libros\n",
    "for titulo_libro in urls_libros:\n",
    "    titulo = titulo_libro.get_attribute(\"title\")\n",
    "    print(\"Título del libro:\", titulo)\n",
    "    lista_titulos.append(titulo)"
   ]
  },
  {
   "cell_type": "markdown",
   "metadata": {},
   "source": [
    "Exploraremos cómo ChatGPT puede generar XPATH para extraer precios y otros datos específicos de una página web. "
   ]
  },
  {
   "cell_type": "code",
   "execution_count": 168,
   "metadata": {},
   "outputs": [
    {
     "name": "stdout",
     "output_type": "stream",
     "text": [
      "URL del libro: https://books.toscrape.com/catalogue/a-light-in-the-attic_1000/index.html\n"
     ]
    },
    {
     "name": "stdout",
     "output_type": "stream",
     "text": [
      "URL del libro: https://books.toscrape.com/catalogue/tipping-the-velvet_999/index.html\n",
      "URL del libro: https://books.toscrape.com/catalogue/soumission_998/index.html\n",
      "URL del libro: https://books.toscrape.com/catalogue/sharp-objects_997/index.html\n",
      "URL del libro: https://books.toscrape.com/catalogue/sapiens-a-brief-history-of-humankind_996/index.html\n",
      "URL del libro: https://books.toscrape.com/catalogue/the-requiem-red_995/index.html\n",
      "URL del libro: https://books.toscrape.com/catalogue/the-dirty-little-secrets-of-getting-your-dream-job_994/index.html\n",
      "URL del libro: https://books.toscrape.com/catalogue/the-coming-woman-a-novel-based-on-the-life-of-the-infamous-feminist-victoria-woodhull_993/index.html\n",
      "URL del libro: https://books.toscrape.com/catalogue/the-boys-in-the-boat-nine-americans-and-their-epic-quest-for-gold-at-the-1936-berlin-olympics_992/index.html\n",
      "URL del libro: https://books.toscrape.com/catalogue/the-black-maria_991/index.html\n",
      "URL del libro: https://books.toscrape.com/catalogue/starving-hearts-triangular-trade-trilogy-1_990/index.html\n",
      "URL del libro: https://books.toscrape.com/catalogue/shakespeares-sonnets_989/index.html\n",
      "URL del libro: https://books.toscrape.com/catalogue/set-me-free_988/index.html\n",
      "URL del libro: https://books.toscrape.com/catalogue/scott-pilgrims-precious-little-life-scott-pilgrim-1_987/index.html\n",
      "URL del libro: https://books.toscrape.com/catalogue/rip-it-up-and-start-again_986/index.html\n",
      "URL del libro: https://books.toscrape.com/catalogue/our-band-could-be-your-life-scenes-from-the-american-indie-underground-1981-1991_985/index.html\n",
      "URL del libro: https://books.toscrape.com/catalogue/olio_984/index.html\n",
      "URL del libro: https://books.toscrape.com/catalogue/mesaerion-the-best-science-fiction-stories-1800-1849_983/index.html\n",
      "URL del libro: https://books.toscrape.com/catalogue/libertarianism-for-beginners_982/index.html\n",
      "URL del libro: https://books.toscrape.com/catalogue/its-only-the-himalayas_981/index.html\n"
     ]
    }
   ],
   "source": [
    "# Obtener el XPATH del URL de cada libro\n",
    "xpath_url_de_libros = './/article[@class=\"product_pod\"]/h3/a'\n",
    "urls_libros = driver.find_elements(By.XPATH, xpath_url_de_libros)\n",
    "lista_url = []\n",
    "# Imprimir las URLs de los libros\n",
    "for url_libro in urls_libros:\n",
    "    url = url_libro.get_attribute(\"href\")\n",
    "    print(\"URL del libro:\", url)\n",
    "    lista_url.append(url)"
   ]
  },
  {
   "cell_type": "code",
   "execution_count": 169,
   "metadata": {},
   "outputs": [
    {
     "name": "stdout",
     "output_type": "stream",
     "text": [
      "Precio del libro: £51.77\n",
      "Precio del libro: £53.74\n",
      "Precio del libro: £50.10\n",
      "Precio del libro: £47.82\n",
      "Precio del libro: £54.23\n",
      "Precio del libro: £22.65\n",
      "Precio del libro: £33.34\n",
      "Precio del libro: £17.93\n",
      "Precio del libro: £22.60\n",
      "Precio del libro: £52.15\n",
      "Precio del libro: £13.99\n",
      "Precio del libro: £20.66\n",
      "Precio del libro: £17.46\n",
      "Precio del libro: £52.29\n",
      "Precio del libro: £35.02\n",
      "Precio del libro: £57.25\n",
      "Precio del libro: £23.88\n",
      "Precio del libro: £37.59\n",
      "Precio del libro: £51.33\n",
      "Precio del libro: £45.17\n"
     ]
    }
   ],
   "source": [
    "# Obtener el XPATH del precio de cada libro\n",
    "xpath_precios = './/article[@class=\"product_pod\"]/div[@class=\"product_price\"]/p[@class=\"price_color\"]'\n",
    "precios_libros = driver.find_elements(By.XPATH, xpath_precios)\n",
    "lista_precios = []\n",
    "\n",
    "# Imprimir los precios de los libros\n",
    "for precio_libro in precios_libros:\n",
    "    precio = precio_libro.text\n",
    "    print(\"Precio del libro:\", precio)\n",
    "    lista_precios.append(precio)"
   ]
  },
  {
   "cell_type": "markdown",
   "metadata": {},
   "source": [
    "Con la información obtenida, guardala en un DataFrame de pandas y encuentrar el libro más barato y el más caro de la primera página mostrada y brinda sus URL's"
   ]
  },
  {
   "cell_type": "code",
   "execution_count": 170,
   "metadata": {},
   "outputs": [
    {
     "data": {
      "text/html": [
       "<div>\n",
       "<style scoped>\n",
       "    .dataframe tbody tr th:only-of-type {\n",
       "        vertical-align: middle;\n",
       "    }\n",
       "\n",
       "    .dataframe tbody tr th {\n",
       "        vertical-align: top;\n",
       "    }\n",
       "\n",
       "    .dataframe thead th {\n",
       "        text-align: right;\n",
       "    }\n",
       "</style>\n",
       "<table border=\"1\" class=\"dataframe\">\n",
       "  <thead>\n",
       "    <tr style=\"text-align: right;\">\n",
       "      <th></th>\n",
       "      <th>Titulo</th>\n",
       "      <th>URL</th>\n",
       "      <th>Precio</th>\n",
       "    </tr>\n",
       "  </thead>\n",
       "  <tbody>\n",
       "    <tr>\n",
       "      <th>15</th>\n",
       "      <td>Our Band Could Be Your Life: Scenes from the A...</td>\n",
       "      <td>https://books.toscrape.com/catalogue/our-band-...</td>\n",
       "      <td>£57.25</td>\n",
       "    </tr>\n",
       "    <tr>\n",
       "      <th>4</th>\n",
       "      <td>Sapiens: A Brief History of Humankind</td>\n",
       "      <td>https://books.toscrape.com/catalogue/sapiens-a...</td>\n",
       "      <td>£54.23</td>\n",
       "    </tr>\n",
       "    <tr>\n",
       "      <th>1</th>\n",
       "      <td>Tipping the Velvet</td>\n",
       "      <td>https://books.toscrape.com/catalogue/tipping-t...</td>\n",
       "      <td>£53.74</td>\n",
       "    </tr>\n",
       "    <tr>\n",
       "      <th>13</th>\n",
       "      <td>Scott Pilgrim's Precious Little Life (Scott Pi...</td>\n",
       "      <td>https://books.toscrape.com/catalogue/scott-pil...</td>\n",
       "      <td>£52.29</td>\n",
       "    </tr>\n",
       "    <tr>\n",
       "      <th>9</th>\n",
       "      <td>The Black Maria</td>\n",
       "      <td>https://books.toscrape.com/catalogue/the-black...</td>\n",
       "      <td>£52.15</td>\n",
       "    </tr>\n",
       "    <tr>\n",
       "      <th>0</th>\n",
       "      <td>A Light in the Attic</td>\n",
       "      <td>https://books.toscrape.com/catalogue/a-light-i...</td>\n",
       "      <td>£51.77</td>\n",
       "    </tr>\n",
       "    <tr>\n",
       "      <th>18</th>\n",
       "      <td>Libertarianism for Beginners</td>\n",
       "      <td>https://books.toscrape.com/catalogue/libertari...</td>\n",
       "      <td>£51.33</td>\n",
       "    </tr>\n",
       "    <tr>\n",
       "      <th>2</th>\n",
       "      <td>Soumission</td>\n",
       "      <td>https://books.toscrape.com/catalogue/soumissio...</td>\n",
       "      <td>£50.10</td>\n",
       "    </tr>\n",
       "    <tr>\n",
       "      <th>3</th>\n",
       "      <td>Sharp Objects</td>\n",
       "      <td>https://books.toscrape.com/catalogue/sharp-obj...</td>\n",
       "      <td>£47.82</td>\n",
       "    </tr>\n",
       "    <tr>\n",
       "      <th>19</th>\n",
       "      <td>It's Only the Himalayas</td>\n",
       "      <td>https://books.toscrape.com/catalogue/its-only-...</td>\n",
       "      <td>£45.17</td>\n",
       "    </tr>\n",
       "    <tr>\n",
       "      <th>17</th>\n",
       "      <td>Mesaerion: The Best Science Fiction Stories 18...</td>\n",
       "      <td>https://books.toscrape.com/catalogue/mesaerion...</td>\n",
       "      <td>£37.59</td>\n",
       "    </tr>\n",
       "    <tr>\n",
       "      <th>14</th>\n",
       "      <td>Rip it Up and Start Again</td>\n",
       "      <td>https://books.toscrape.com/catalogue/rip-it-up...</td>\n",
       "      <td>£35.02</td>\n",
       "    </tr>\n",
       "    <tr>\n",
       "      <th>6</th>\n",
       "      <td>The Dirty Little Secrets of Getting Your Dream...</td>\n",
       "      <td>https://books.toscrape.com/catalogue/the-dirty...</td>\n",
       "      <td>£33.34</td>\n",
       "    </tr>\n",
       "    <tr>\n",
       "      <th>16</th>\n",
       "      <td>Olio</td>\n",
       "      <td>https://books.toscrape.com/catalogue/olio_984/...</td>\n",
       "      <td>£23.88</td>\n",
       "    </tr>\n",
       "    <tr>\n",
       "      <th>5</th>\n",
       "      <td>The Requiem Red</td>\n",
       "      <td>https://books.toscrape.com/catalogue/the-requi...</td>\n",
       "      <td>£22.65</td>\n",
       "    </tr>\n",
       "    <tr>\n",
       "      <th>8</th>\n",
       "      <td>The Boys in the Boat: Nine Americans and Their...</td>\n",
       "      <td>https://books.toscrape.com/catalogue/the-boys-...</td>\n",
       "      <td>£22.60</td>\n",
       "    </tr>\n",
       "    <tr>\n",
       "      <th>11</th>\n",
       "      <td>Shakespeare's Sonnets</td>\n",
       "      <td>https://books.toscrape.com/catalogue/shakespea...</td>\n",
       "      <td>£20.66</td>\n",
       "    </tr>\n",
       "    <tr>\n",
       "      <th>7</th>\n",
       "      <td>The Coming Woman: A Novel Based on the Life of...</td>\n",
       "      <td>https://books.toscrape.com/catalogue/the-comin...</td>\n",
       "      <td>£17.93</td>\n",
       "    </tr>\n",
       "    <tr>\n",
       "      <th>12</th>\n",
       "      <td>Set Me Free</td>\n",
       "      <td>https://books.toscrape.com/catalogue/set-me-fr...</td>\n",
       "      <td>£17.46</td>\n",
       "    </tr>\n",
       "    <tr>\n",
       "      <th>10</th>\n",
       "      <td>Starving Hearts (Triangular Trade Trilogy, #1)</td>\n",
       "      <td>https://books.toscrape.com/catalogue/starving-...</td>\n",
       "      <td>£13.99</td>\n",
       "    </tr>\n",
       "  </tbody>\n",
       "</table>\n",
       "</div>"
      ],
      "text/plain": [
       "                                               Titulo  \\\n",
       "15  Our Band Could Be Your Life: Scenes from the A...   \n",
       "4               Sapiens: A Brief History of Humankind   \n",
       "1                                  Tipping the Velvet   \n",
       "13  Scott Pilgrim's Precious Little Life (Scott Pi...   \n",
       "9                                     The Black Maria   \n",
       "0                                A Light in the Attic   \n",
       "18                       Libertarianism for Beginners   \n",
       "2                                          Soumission   \n",
       "3                                       Sharp Objects   \n",
       "19                            It's Only the Himalayas   \n",
       "17  Mesaerion: The Best Science Fiction Stories 18...   \n",
       "14                          Rip it Up and Start Again   \n",
       "6   The Dirty Little Secrets of Getting Your Dream...   \n",
       "16                                               Olio   \n",
       "5                                     The Requiem Red   \n",
       "8   The Boys in the Boat: Nine Americans and Their...   \n",
       "11                              Shakespeare's Sonnets   \n",
       "7   The Coming Woman: A Novel Based on the Life of...   \n",
       "12                                        Set Me Free   \n",
       "10     Starving Hearts (Triangular Trade Trilogy, #1)   \n",
       "\n",
       "                                                  URL  Precio  \n",
       "15  https://books.toscrape.com/catalogue/our-band-...  £57.25  \n",
       "4   https://books.toscrape.com/catalogue/sapiens-a...  £54.23  \n",
       "1   https://books.toscrape.com/catalogue/tipping-t...  £53.74  \n",
       "13  https://books.toscrape.com/catalogue/scott-pil...  £52.29  \n",
       "9   https://books.toscrape.com/catalogue/the-black...  £52.15  \n",
       "0   https://books.toscrape.com/catalogue/a-light-i...  £51.77  \n",
       "18  https://books.toscrape.com/catalogue/libertari...  £51.33  \n",
       "2   https://books.toscrape.com/catalogue/soumissio...  £50.10  \n",
       "3   https://books.toscrape.com/catalogue/sharp-obj...  £47.82  \n",
       "19  https://books.toscrape.com/catalogue/its-only-...  £45.17  \n",
       "17  https://books.toscrape.com/catalogue/mesaerion...  £37.59  \n",
       "14  https://books.toscrape.com/catalogue/rip-it-up...  £35.02  \n",
       "6   https://books.toscrape.com/catalogue/the-dirty...  £33.34  \n",
       "16  https://books.toscrape.com/catalogue/olio_984/...  £23.88  \n",
       "5   https://books.toscrape.com/catalogue/the-requi...  £22.65  \n",
       "8   https://books.toscrape.com/catalogue/the-boys-...  £22.60  \n",
       "11  https://books.toscrape.com/catalogue/shakespea...  £20.66  \n",
       "7   https://books.toscrape.com/catalogue/the-comin...  £17.93  \n",
       "12  https://books.toscrape.com/catalogue/set-me-fr...  £17.46  \n",
       "10  https://books.toscrape.com/catalogue/starving-...  £13.99  "
      ]
     },
     "execution_count": 170,
     "metadata": {},
     "output_type": "execute_result"
    }
   ],
   "source": [
    "datos = {\n",
    "    'Titulo':lista_titulos,\n",
    "    'URL': lista_url,\n",
    "    'Precio': lista_precios\n",
    "}\n",
    "df = pd.DataFrame(datos)\n",
    "df = df.sort_values(by='Precio', ascending = False)\n",
    "df"
   ]
  },
  {
   "cell_type": "code",
   "execution_count": 171,
   "metadata": {},
   "outputs": [
    {
     "name": "stdout",
     "output_type": "stream",
     "text": [
      "Libro mas barato: Starving Hearts (Triangular Trade Trilogy, #1). URL: https://books.toscrape.com/catalogue/starving-hearts-triangular-trade-trilogy-1_990/index.html\n",
      "Libro mas caro: Our Band Could Be Your Life: Scenes from the American Indie Underground, 1981-1991. URL: https://books.toscrape.com/catalogue/our-band-could-be-your-life-scenes-from-the-american-indie-underground-1981-1991_985/index.html\n"
     ]
    }
   ],
   "source": [
    "resultado = f\"Libro mas barato: {df['Titulo'].tail(1).values[0]}. URL: {df['URL'].tail(1).values[0]}\"\n",
    "resultado += '\\n'\n",
    "resultado += f\"Libro mas caro: {df['Titulo'].head(1).values[0]}. URL: {df['URL'].head(1).values[0]}\"\n",
    "print(resultado)"
   ]
  },
  {
   "cell_type": "markdown",
   "metadata": {},
   "source": [
    "## Punto extra\n",
    "Realiza la misma tarea que arriba pero considera todos los libros de la página"
   ]
  },
  {
   "cell_type": "code",
   "execution_count": 172,
   "metadata": {},
   "outputs": [
    {
     "name": "stdout",
     "output_type": "stream",
     "text": [
      "Título: Our Band Could Be Your Life: Scenes from the American Indie Underground, 1981-1991, URL: https://books.toscrape.com/catalogue/our-band-could-be-your-life-scenes-from-the-american-indie-underground-1981-1991_985/index.html\n",
      "Título: Sapiens: A Brief History of Humankind, URL: https://books.toscrape.com/catalogue/sapiens-a-brief-history-of-humankind_996/index.html\n",
      "Título: Tipping the Velvet, URL: https://books.toscrape.com/catalogue/tipping-the-velvet_999/index.html\n",
      "Título: Scott Pilgrim's Precious Little Life (Scott Pilgrim #1), URL: https://books.toscrape.com/catalogue/scott-pilgrims-precious-little-life-scott-pilgrim-1_987/index.html\n",
      "Título: The Black Maria, URL: https://books.toscrape.com/catalogue/the-black-maria_991/index.html\n",
      "Título: A Light in the Attic, URL: https://books.toscrape.com/catalogue/a-light-in-the-attic_1000/index.html\n",
      "Título: Libertarianism for Beginners, URL: https://books.toscrape.com/catalogue/libertarianism-for-beginners_982/index.html\n",
      "Título: Soumission, URL: https://books.toscrape.com/catalogue/soumission_998/index.html\n",
      "Título: Sharp Objects, URL: https://books.toscrape.com/catalogue/sharp-objects_997/index.html\n",
      "Título: It's Only the Himalayas, URL: https://books.toscrape.com/catalogue/its-only-the-himalayas_981/index.html\n",
      "Título: Mesaerion: The Best Science Fiction Stories 1800-1849, URL: https://books.toscrape.com/catalogue/mesaerion-the-best-science-fiction-stories-1800-1849_983/index.html\n",
      "Título: Rip it Up and Start Again, URL: https://books.toscrape.com/catalogue/rip-it-up-and-start-again_986/index.html\n",
      "Título: The Dirty Little Secrets of Getting Your Dream Job, URL: https://books.toscrape.com/catalogue/the-dirty-little-secrets-of-getting-your-dream-job_994/index.html\n",
      "Título: Olio, URL: https://books.toscrape.com/catalogue/olio_984/index.html\n",
      "Título: The Requiem Red, URL: https://books.toscrape.com/catalogue/the-requiem-red_995/index.html\n",
      "Título: The Boys in the Boat: Nine Americans and Their Epic Quest for Gold at the 1936 Berlin Olympics, URL: https://books.toscrape.com/catalogue/the-boys-in-the-boat-nine-americans-and-their-epic-quest-for-gold-at-the-1936-berlin-olympics_992/index.html\n",
      "Título: Shakespeare's Sonnets, URL: https://books.toscrape.com/catalogue/shakespeares-sonnets_989/index.html\n",
      "Título: The Coming Woman: A Novel Based on the Life of the Infamous Feminist, Victoria Woodhull, URL: https://books.toscrape.com/catalogue/the-coming-woman-a-novel-based-on-the-life-of-the-infamous-feminist-victoria-woodhull_993/index.html\n",
      "Título: Set Me Free, URL: https://books.toscrape.com/catalogue/set-me-free_988/index.html\n",
      "Título: Starving Hearts (Triangular Trade Trilogy, #1), URL: https://books.toscrape.com/catalogue/starving-hearts-triangular-trade-trilogy-1_990/index.html\n"
     ]
    }
   ],
   "source": [
    "# Imprimir el título y la URL de cada libro\n",
    "\n",
    "for index, row in df.iterrows():\n",
    "    titulo = row['Titulo']\n",
    "    url = row['URL']\n",
    "    print(f\"Título: {titulo}, URL: {url}\")"
   ]
  },
  {
   "cell_type": "markdown",
   "metadata": {},
   "source": [
    "## Help\n",
    "\n",
    "En caso de atorarte, en este video podrás encontrar la manera en la que se pueden hacer las consultas a ChatGTP para obtener dichos XPATHS:https://youtu.be/4YokIEUeSSY?si=OhBi5eum-joIXtkc"
   ]
  }
 ],
 "metadata": {
  "kernelspec": {
   "display_name": ".env-web-scrap",
   "language": "python",
   "name": ".env-web-scrap"
  },
  "language_info": {
   "codemirror_mode": {
    "name": "ipython",
    "version": 3
   },
   "file_extension": ".py",
   "mimetype": "text/x-python",
   "name": "python",
   "nbconvert_exporter": "python",
   "pygments_lexer": "ipython3",
   "version": "3.11.0"
  },
  "orig_nbformat": 4
 },
 "nbformat": 4,
 "nbformat_minor": 2
}
