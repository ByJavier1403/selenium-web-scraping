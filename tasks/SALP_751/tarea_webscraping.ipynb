{
 "cells": [
  {
   "cell_type": "markdown",
   "metadata": {},
   "source": [
    "## Tarea Web-scrapping\n",
    "\n",
    "### Crea una carpeta en 'tasks' con el formato *INICIALES_3UltimosDigitosCU* y copia de este archivo dentro de ella. NO ALTERES ESTA VERSIÓN DEL DOCUMENTO.\n",
    "\n",
    "### Realiza `push` a tus cambios y haz el `pull request`."
   ]
  },
  {
   "cell_type": "markdown",
   "metadata": {},
   "source": [
    "Utiliza la siguiente página para scrapear: https://books.toscrape.com/"
   ]
  },
  {
   "cell_type": "code",
   "execution_count": 106,
   "metadata": {},
   "outputs": [],
   "source": [
    "from selenium import webdriver\n",
    "from selenium.webdriver.common.by import By\n",
    "import pandas\n",
    "\n",
    "# Inicializar el driver de Selenium\n",
    "driver = webdriver.Remote('http://localhost:4444/wd/hub',options=webdriver.ChromeOptions())"
   ]
  },
  {
   "cell_type": "markdown",
   "metadata": {},
   "source": [
    "Abre la página"
   ]
  },
  {
   "cell_type": "code",
   "execution_count": 107,
   "metadata": {},
   "outputs": [],
   "source": [
    "url = 'https://books.toscrape.com/'\n",
    "driver.get(url)"
   ]
  },
  {
   "cell_type": "markdown",
   "metadata": {},
   "source": [
    "Extraer el título de la página"
   ]
  },
  {
   "cell_type": "code",
   "execution_count": 108,
   "metadata": {},
   "outputs": [
    {
     "name": "stdout",
     "output_type": "stream",
     "text": [
      "El título de la página es: All products | Books to Scrape - Sandbox\n"
     ]
    }
   ],
   "source": [
    "title = driver.title\n",
    "print(\"El título de la página es:\", title)"
   ]
  },
  {
   "cell_type": "markdown",
   "metadata": {},
   "source": [
    "\n",
    "Encontrar un elemento (puede ser un botón, un enlace, un campo de entrada, etc.) utilizando XPath, ID, u otra estrategia de localización de elementos."
   ]
  },
  {
   "cell_type": "code",
   "execution_count": 47,
   "metadata": {},
   "outputs": [
    {
     "name": "stdout",
     "output_type": "stream",
     "text": [
      "next\n"
     ]
    }
   ],
   "source": [
    "#Encuentra algun elemento\n",
    "next_button = driver.find_element(By.XPATH,\"/html/body/div/div/div/div/section/div[2]/div/ul/li[2]/a\")\n",
    "print(next_button.text)"
   ]
  },
  {
   "cell_type": "markdown",
   "metadata": {},
   "source": [
    "Realizar alguna acción con el elemento del markdown anterior (por ejemplo, hacer clic en el botón, introducir texto en un campo de entrada, etc.).\n"
   ]
  },
  {
   "cell_type": "code",
   "execution_count": 6,
   "metadata": {},
   "outputs": [],
   "source": [
    "#Realiza la acción\n",
    "next_button.click()"
   ]
  },
  {
   "cell_type": "markdown",
   "metadata": {},
   "source": [
    "Los scrappers son herramientas poderosas para extraer automáticamente datos de una página web. ChatGPT puede ser una ayuda valiosa para generar expresiones XPath que indican dónde se encuentran los datos que deseamos extraer."
   ]
  },
  {
   "cell_type": "markdown",
   "metadata": {},
   "source": [
    "Debemos hacer el inspect y buscar un fragmento de html que le pueda dar contexto a ChatGTP sobre como hacer la consulta, Inspecciona la página hasta encontrar el nodo: ```<li class=\"col-xs-6 col-sm-4 col-md-3 col-lg-3\">```, copia esta información y pide a chatGTP que te dé el XPATH de los títulos. Pruebalo haciendo ctrl+f en la herramienta de inspección"
   ]
  },
  {
   "cell_type": "code",
   "execution_count": 109,
   "metadata": {},
   "outputs": [],
   "source": [
    "#Obtener el XPATH del título de un libro en la página\n",
    "xpath_titulos = './/article[@class=\"product_pod\"]/h3/a'"
   ]
  },
  {
   "cell_type": "markdown",
   "metadata": {},
   "source": [
    "Exploraremos cómo ChatGPT puede generar XPATH para extraer precios y otros datos específicos de una página web. "
   ]
  },
  {
   "cell_type": "code",
   "execution_count": 110,
   "metadata": {},
   "outputs": [],
   "source": [
    "#Obtener el XPATH del URL de cada libro\n",
    "xpath_url_de_libros = './/article[@class=\"product_pod\"]/h3/a'"
   ]
  },
  {
   "cell_type": "code",
   "execution_count": 111,
   "metadata": {},
   "outputs": [],
   "source": [
    "#Obtener el XPATH del precio de cada libro\n",
    "xpath_precios = './/article[@class=\"product_pod\"]/div[@class=\"product_price\"]/p[@class=\"price_color\"]'"
   ]
  },
  {
   "cell_type": "markdown",
   "metadata": {},
   "source": [
    "Con la información obtenida, guardala en un DataFrame de pandas y encuentrar el libro más barato y el más caro de la primera página mostrada y brinda sus URL's"
   ]
  },
  {
   "cell_type": "code",
   "execution_count": 112,
   "metadata": {},
   "outputs": [
    {
     "data": {
      "text/plain": [
       "20"
      ]
     },
     "execution_count": 112,
     "metadata": {},
     "output_type": "execute_result"
    }
   ],
   "source": [
    "books = driver.find_elements(By.XPATH, \"/html/body/div/div/div/div/section/div[2]/ol/li\")\n",
    "len(books)"
   ]
  },
  {
   "cell_type": "code",
   "execution_count": 121,
   "metadata": {},
   "outputs": [
    {
     "name": "stdout",
     "output_type": "stream",
     "text": [
      "A Light in the ... £51.77 https://books.toscrape.com/catalogue/a-light-in-the-attic_1000/index.html\n",
      "Tipping the Velvet £53.74 https://books.toscrape.com/catalogue/tipping-the-velvet_999/index.html\n",
      "Soumission £50.10 https://books.toscrape.com/catalogue/soumission_998/index.html\n",
      "Sharp Objects £47.82 https://books.toscrape.com/catalogue/sharp-objects_997/index.html\n",
      "Sapiens: A Brief History ... £54.23 https://books.toscrape.com/catalogue/sapiens-a-brief-history-of-humankind_996/index.html\n",
      "The Requiem Red £22.65 https://books.toscrape.com/catalogue/the-requiem-red_995/index.html\n",
      "The Dirty Little Secrets ... £33.34 https://books.toscrape.com/catalogue/the-dirty-little-secrets-of-getting-your-dream-job_994/index.html\n",
      "The Coming Woman: A ... £17.93 https://books.toscrape.com/catalogue/the-coming-woman-a-novel-based-on-the-life-of-the-infamous-feminist-victoria-woodhull_993/index.html\n",
      "The Boys in the ... £22.60 https://books.toscrape.com/catalogue/the-boys-in-the-boat-nine-americans-and-their-epic-quest-for-gold-at-the-1936-berlin-olympics_992/index.html\n",
      "The Black Maria £52.15 https://books.toscrape.com/catalogue/the-black-maria_991/index.html\n",
      "Starving Hearts (Triangular Trade ... £13.99 https://books.toscrape.com/catalogue/starving-hearts-triangular-trade-trilogy-1_990/index.html\n",
      "Shakespeare's Sonnets £20.66 https://books.toscrape.com/catalogue/shakespeares-sonnets_989/index.html\n",
      "Set Me Free £17.46 https://books.toscrape.com/catalogue/set-me-free_988/index.html\n",
      "Scott Pilgrim's Precious Little ... £52.29 https://books.toscrape.com/catalogue/scott-pilgrims-precious-little-life-scott-pilgrim-1_987/index.html\n",
      "Rip it Up and ... £35.02 https://books.toscrape.com/catalogue/rip-it-up-and-start-again_986/index.html\n",
      "Our Band Could Be ... £57.25 https://books.toscrape.com/catalogue/our-band-could-be-your-life-scenes-from-the-american-indie-underground-1981-1991_985/index.html\n",
      "Olio £23.88 https://books.toscrape.com/catalogue/olio_984/index.html\n",
      "Mesaerion: The Best Science ... £37.59 https://books.toscrape.com/catalogue/mesaerion-the-best-science-fiction-stories-1800-1849_983/index.html\n",
      "Libertarianism for Beginners £51.33 https://books.toscrape.com/catalogue/libertarianism-for-beginners_982/index.html\n",
      "It's Only the Himalayas £45.17 https://books.toscrape.com/catalogue/its-only-the-himalayas_981/index.html\n",
      "[{'title': 'A Light in the ...', 'price': '£51.77', 'url': 'https://books.toscrape.com/catalogue/a-light-in-the-attic_1000/index.html'}, {'title': 'Tipping the Velvet', 'price': '£53.74', 'url': 'https://books.toscrape.com/catalogue/tipping-the-velvet_999/index.html'}, {'title': 'Soumission', 'price': '£50.10', 'url': 'https://books.toscrape.com/catalogue/soumission_998/index.html'}, {'title': 'Sharp Objects', 'price': '£47.82', 'url': 'https://books.toscrape.com/catalogue/sharp-objects_997/index.html'}, {'title': 'Sapiens: A Brief History ...', 'price': '£54.23', 'url': 'https://books.toscrape.com/catalogue/sapiens-a-brief-history-of-humankind_996/index.html'}, {'title': 'The Requiem Red', 'price': '£22.65', 'url': 'https://books.toscrape.com/catalogue/the-requiem-red_995/index.html'}, {'title': 'The Dirty Little Secrets ...', 'price': '£33.34', 'url': 'https://books.toscrape.com/catalogue/the-dirty-little-secrets-of-getting-your-dream-job_994/index.html'}, {'title': 'The Coming Woman: A ...', 'price': '£17.93', 'url': 'https://books.toscrape.com/catalogue/the-coming-woman-a-novel-based-on-the-life-of-the-infamous-feminist-victoria-woodhull_993/index.html'}, {'title': 'The Boys in the ...', 'price': '£22.60', 'url': 'https://books.toscrape.com/catalogue/the-boys-in-the-boat-nine-americans-and-their-epic-quest-for-gold-at-the-1936-berlin-olympics_992/index.html'}, {'title': 'The Black Maria', 'price': '£52.15', 'url': 'https://books.toscrape.com/catalogue/the-black-maria_991/index.html'}, {'title': 'Starving Hearts (Triangular Trade ...', 'price': '£13.99', 'url': 'https://books.toscrape.com/catalogue/starving-hearts-triangular-trade-trilogy-1_990/index.html'}, {'title': \"Shakespeare's Sonnets\", 'price': '£20.66', 'url': 'https://books.toscrape.com/catalogue/shakespeares-sonnets_989/index.html'}, {'title': 'Set Me Free', 'price': '£17.46', 'url': 'https://books.toscrape.com/catalogue/set-me-free_988/index.html'}, {'title': \"Scott Pilgrim's Precious Little ...\", 'price': '£52.29', 'url': 'https://books.toscrape.com/catalogue/scott-pilgrims-precious-little-life-scott-pilgrim-1_987/index.html'}, {'title': 'Rip it Up and ...', 'price': '£35.02', 'url': 'https://books.toscrape.com/catalogue/rip-it-up-and-start-again_986/index.html'}, {'title': 'Our Band Could Be ...', 'price': '£57.25', 'url': 'https://books.toscrape.com/catalogue/our-band-could-be-your-life-scenes-from-the-american-indie-underground-1981-1991_985/index.html'}, {'title': 'Olio', 'price': '£23.88', 'url': 'https://books.toscrape.com/catalogue/olio_984/index.html'}, {'title': 'Mesaerion: The Best Science ...', 'price': '£37.59', 'url': 'https://books.toscrape.com/catalogue/mesaerion-the-best-science-fiction-stories-1800-1849_983/index.html'}, {'title': 'Libertarianism for Beginners', 'price': '£51.33', 'url': 'https://books.toscrape.com/catalogue/libertarianism-for-beginners_982/index.html'}, {'title': \"It's Only the Himalayas\", 'price': '£45.17', 'url': 'https://books.toscrape.com/catalogue/its-only-the-himalayas_981/index.html'}]\n"
     ]
    }
   ],
   "source": [
    "extracted_books = []\n",
    "for book in books:\n",
    "    book_title = book.find_element(By.XPATH, xpath_titulos).text\n",
    "    book_price = book.find_element(By.XPATH, xpath_precios).text\n",
    "    book_url = book.find_element(By.XPATH, xpath_url_de_libros).get_attribute(\"href\")\n",
    "    extracted_books.append({\"title\": book_title, \"price\": book_price, \"url\": book_url})\n",
    "    print(book_title, book_price, book_url)\n",
    "print(extracted_books)"
   ]
  },
  {
   "cell_type": "code",
   "execution_count": 114,
   "metadata": {},
   "outputs": [],
   "source": [
    "import pandas as pd"
   ]
  },
  {
   "cell_type": "code",
   "execution_count": 123,
   "metadata": {},
   "outputs": [
    {
     "name": "stdout",
     "output_type": "stream",
     "text": [
      "                                    title   price  \\\n",
      "0                      A Light in the ...  £51.77   \n",
      "1                      Tipping the Velvet  £53.74   \n",
      "2                              Soumission  £50.10   \n",
      "3                           Sharp Objects  £47.82   \n",
      "4            Sapiens: A Brief History ...  £54.23   \n",
      "5                         The Requiem Red  £22.65   \n",
      "6            The Dirty Little Secrets ...  £33.34   \n",
      "7                 The Coming Woman: A ...  £17.93   \n",
      "8                     The Boys in the ...  £22.60   \n",
      "9                         The Black Maria  £52.15   \n",
      "10  Starving Hearts (Triangular Trade ...  £13.99   \n",
      "11                  Shakespeare's Sonnets  £20.66   \n",
      "12                            Set Me Free  £17.46   \n",
      "13    Scott Pilgrim's Precious Little ...  £52.29   \n",
      "14                      Rip it Up and ...  £35.02   \n",
      "15                  Our Band Could Be ...  £57.25   \n",
      "16                                   Olio  £23.88   \n",
      "17        Mesaerion: The Best Science ...  £37.59   \n",
      "18           Libertarianism for Beginners  £51.33   \n",
      "19                It's Only the Himalayas  £45.17   \n",
      "\n",
      "                                                  url  \n",
      "0   https://books.toscrape.com/catalogue/a-light-i...  \n",
      "1   https://books.toscrape.com/catalogue/tipping-t...  \n",
      "2   https://books.toscrape.com/catalogue/soumissio...  \n",
      "3   https://books.toscrape.com/catalogue/sharp-obj...  \n",
      "4   https://books.toscrape.com/catalogue/sapiens-a...  \n",
      "5   https://books.toscrape.com/catalogue/the-requi...  \n",
      "6   https://books.toscrape.com/catalogue/the-dirty...  \n",
      "7   https://books.toscrape.com/catalogue/the-comin...  \n",
      "8   https://books.toscrape.com/catalogue/the-boys-...  \n",
      "9   https://books.toscrape.com/catalogue/the-black...  \n",
      "10  https://books.toscrape.com/catalogue/starving-...  \n",
      "11  https://books.toscrape.com/catalogue/shakespea...  \n",
      "12  https://books.toscrape.com/catalogue/set-me-fr...  \n",
      "13  https://books.toscrape.com/catalogue/scott-pil...  \n",
      "14  https://books.toscrape.com/catalogue/rip-it-up...  \n",
      "15  https://books.toscrape.com/catalogue/our-band-...  \n",
      "16  https://books.toscrape.com/catalogue/olio_984/...  \n",
      "17  https://books.toscrape.com/catalogue/mesaerion...  \n",
      "18  https://books.toscrape.com/catalogue/libertari...  \n",
      "19  https://books.toscrape.com/catalogue/its-only-...  \n"
     ]
    }
   ],
   "source": [
    "books_dataframe = pd.DataFrame.from_records(extracted_books)\n",
    "print(books_dataframe)"
   ]
  },
  {
   "cell_type": "code",
   "execution_count": 124,
   "metadata": {},
   "outputs": [],
   "source": [
    "most_expensive_price = books_dataframe.max()['price']\n",
    "less_expensive_price = books_dataframe.min()['price']"
   ]
  },
  {
   "cell_type": "code",
   "execution_count": 125,
   "metadata": {},
   "outputs": [
    {
     "name": "stdout",
     "output_type": "stream",
     "text": [
      "Most expensive url:  15    https://books.toscrape.com/catalogue/our-band-...\n",
      "Name: url, dtype: object\n",
      "Less expensive url:  10    https://books.toscrape.com/catalogue/starving-...\n",
      "Name: url, dtype: object\n"
     ]
    }
   ],
   "source": [
    "print(\"Most expensive url: \", books_dataframe[books_dataframe['price'] == most_expensive_price]['url'])\n",
    "print(\"Less expensive url: \", books_dataframe[books_dataframe['price'] == less_expensive_price]['url'])"
   ]
  },
  {
   "cell_type": "markdown",
   "metadata": {},
   "source": [
    "## Punto extra\n",
    "Realiza la misma tarea que arriba pero considera todos los libros de la página"
   ]
  },
  {
   "cell_type": "markdown",
   "metadata": {},
   "source": [
    "## Help\n",
    "\n",
    "En caso de atorarte, en este video podrás encontrar la manera en la que se pueden hacer las consultas a ChatGTP para obtener dichos XPATHS:https://youtu.be/4YokIEUeSSY?si=OhBi5eum-joIXtkc"
   ]
  }
 ],
 "metadata": {
  "kernelspec": {
   "display_name": "base",
   "language": "python",
   "name": "python3"
  },
  "language_info": {
   "codemirror_mode": {
    "name": "ipython",
    "version": 3
   },
   "file_extension": ".py",
   "mimetype": "text/x-python",
   "name": "python",
   "nbconvert_exporter": "python",
   "pygments_lexer": "ipython3",
   "version": "3.11.4"
  },
  "orig_nbformat": 4
 },
 "nbformat": 4,
 "nbformat_minor": 2
}
