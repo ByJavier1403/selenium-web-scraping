{
 "cells": [
  {
   "cell_type": "markdown",
   "metadata": {},
   "source": [
    "## Tarea Web-scrapping\n",
    "\n",
    "### Crea una carpeta en 'tasks' con el formato *INICIALES_3UltimosDigitosCU* y copia de este archivo dentro de ella. NO ALTERES ESTA VERSIÓN DEL DOCUMENTO.\n",
    "\n",
    "### Realiza `push` a tus cambios y haz el `pull request`."
   ]
  },
  {
   "cell_type": "markdown",
   "metadata": {},
   "source": [
    "Utiliza la siguiente página para scrapear: https://books.toscrape.com/"
   ]
  },
  {
   "cell_type": "code",
   "execution_count": 2,
   "metadata": {},
   "outputs": [
    {
     "name": "stdout",
     "output_type": "stream",
     "text": [
      "sel-docker\n",
      "sel-docker\n",
      "fac2571d1a60cb2fa486745b268b83da25a38d65f7ffdd59724957b4b2c3f1a2\n"
     ]
    }
   ],
   "source": [
    "!docker stop sel-docker\n",
    "!docker rm sel-docker\n",
    "!docker run -d --name \"sel-docker\" -p 4444:4444 --shm-size=2g \\\n",
    "  -e SE_NODE_MAX_SESSIONS=6 \\\n",
    "  -e SE_NODE_SESSION_TIMEOUT=1200 \\\n",
    "  -e SE_VNC_NO_PASSWORD=1 \\\n",
    "  selenium/standalone-chrome"
   ]
  },
  {
   "cell_type": "code",
   "execution_count": 5,
   "metadata": {},
   "outputs": [],
   "source": [
    "from selenium import webdriver\n",
    "from selenium.webdriver.common.by import By\n",
    "import pandas\n",
    "\n",
    "# Inicializar el driver de Selenium\n",
    "driver = webdriver.Remote('http://localhost:4444/wd/hub',options=webdriver.ChromeOptions())"
   ]
  },
  {
   "cell_type": "markdown",
   "metadata": {},
   "source": [
    "Abre la página"
   ]
  },
  {
   "cell_type": "code",
   "execution_count": 19,
   "metadata": {},
   "outputs": [],
   "source": [
    "#Abrir la página\n",
    "url = 'https://books.toscrape.com/'\n",
    "driver.get(url)"
   ]
  },
  {
   "cell_type": "markdown",
   "metadata": {},
   "source": [
    "Extraer el título de la página"
   ]
  },
  {
   "cell_type": "code",
   "execution_count": 7,
   "metadata": {},
   "outputs": [
    {
     "name": "stdout",
     "output_type": "stream",
     "text": [
      "Título de la página: All products | Books to Scrape - Sandbox\n"
     ]
    }
   ],
   "source": [
    "#Extrae el título de la página \n",
    "titulo_pagina = driver.title\n",
    "print(f'Título de la página: {titulo_pagina}')"
   ]
  },
  {
   "cell_type": "markdown",
   "metadata": {},
   "source": [
    "\n",
    "Encontrar un elemento (puede ser un botón, un enlace, un campo de entrada, etc.) utilizando XPath, ID, u otra estrategia de localización de elementos."
   ]
  },
  {
   "cell_type": "code",
   "execution_count": 8,
   "metadata": {},
   "outputs": [
    {
     "name": "stdout",
     "output_type": "stream",
     "text": [
      "Elemento encontrado usando XPath: Books to Scrape\n"
     ]
    }
   ],
   "source": [
    "#Encuentra algun elemento\n",
    "elemento_xpath = driver.find_element(By.XPATH, '//*[@href=\"index.html\"]')  # Reemplazar con tu XPath específico\n",
    "print(f'Elemento encontrado usando XPath: {elemento_xpath.text}')"
   ]
  },
  {
   "cell_type": "markdown",
   "metadata": {},
   "source": [
    "Realizar alguna acción con el elemento del markdown anterior (por ejemplo, hacer clic en el botón, introducir texto en un campo de entrada, etc.).\n"
   ]
  },
  {
   "cell_type": "code",
   "execution_count": 9,
   "metadata": {},
   "outputs": [],
   "source": [
    "#Realiza la acción\n",
    "elemento_xpath.click()"
   ]
  },
  {
   "cell_type": "markdown",
   "metadata": {},
   "source": [
    "Los scrappers son herramientas poderosas para extraer automáticamente datos de una página web. ChatGPT puede ser una ayuda valiosa para generar expresiones XPath que indican dónde se encuentran los datos que deseamos extraer."
   ]
  },
  {
   "cell_type": "markdown",
   "metadata": {},
   "source": [
    "Debemos hacer el inspect y buscar un fragmento de html que le pueda dar contexto a ChatGTP sobre como hacer la consulta, Inspecciona la página hasta encontrar el nodo: ```<li class=\"col-xs-6 col-sm-4 col-md-3 col-lg-3\">```, copia esta información y pide a chatGTP que te dé el XPATH de los títulos. Pruebalo haciendo ctrl+f en la herramienta de inspección"
   ]
  },
  {
   "cell_type": "code",
   "execution_count": 28,
   "metadata": {},
   "outputs": [
    {
     "name": "stdout",
     "output_type": "stream",
     "text": [
      "Título del libro: A Light in the ...\n"
     ]
    }
   ],
   "source": [
    "#Obtener el XPATH del título de un libro en la página\n",
    "xpath_titulos = driver.find_element(By.XPATH, '//li[@class=\"col-xs-6 col-sm-4 col-md-3 col-lg-3\"]//h3/a')\n",
    "\n",
    "# Imprimir el texto del título del libro\n",
    "print(f'Título del libro: {xpath_titulos.text}')\n"
   ]
  },
  {
   "cell_type": "markdown",
   "metadata": {},
   "source": [
    "Exploraremos cómo ChatGPT puede generar XPATH para extraer precios y otros datos específicos de una página web. "
   ]
  },
  {
   "cell_type": "code",
   "execution_count": 22,
   "metadata": {},
   "outputs": [
    {
     "name": "stdout",
     "output_type": "stream",
     "text": [
      "URL del libro: https://books.toscrape.com/catalogue/a-light-in-the-attic_1000/index.html\n",
      "URL del libro: https://books.toscrape.com/catalogue/tipping-the-velvet_999/index.html\n",
      "URL del libro: https://books.toscrape.com/catalogue/soumission_998/index.html\n",
      "URL del libro: https://books.toscrape.com/catalogue/sharp-objects_997/index.html\n",
      "URL del libro: https://books.toscrape.com/catalogue/sapiens-a-brief-history-of-humankind_996/index.html\n",
      "URL del libro: https://books.toscrape.com/catalogue/the-requiem-red_995/index.html\n",
      "URL del libro: https://books.toscrape.com/catalogue/the-dirty-little-secrets-of-getting-your-dream-job_994/index.html\n",
      "URL del libro: https://books.toscrape.com/catalogue/the-coming-woman-a-novel-based-on-the-life-of-the-infamous-feminist-victoria-woodhull_993/index.html\n",
      "URL del libro: https://books.toscrape.com/catalogue/the-boys-in-the-boat-nine-americans-and-their-epic-quest-for-gold-at-the-1936-berlin-olympics_992/index.html\n",
      "URL del libro: https://books.toscrape.com/catalogue/the-black-maria_991/index.html\n",
      "URL del libro: https://books.toscrape.com/catalogue/starving-hearts-triangular-trade-trilogy-1_990/index.html\n",
      "URL del libro: https://books.toscrape.com/catalogue/shakespeares-sonnets_989/index.html\n",
      "URL del libro: https://books.toscrape.com/catalogue/set-me-free_988/index.html\n",
      "URL del libro: https://books.toscrape.com/catalogue/scott-pilgrims-precious-little-life-scott-pilgrim-1_987/index.html\n",
      "URL del libro: https://books.toscrape.com/catalogue/rip-it-up-and-start-again_986/index.html\n",
      "URL del libro: https://books.toscrape.com/catalogue/our-band-could-be-your-life-scenes-from-the-american-indie-underground-1981-1991_985/index.html\n",
      "URL del libro: https://books.toscrape.com/catalogue/olio_984/index.html\n",
      "URL del libro: https://books.toscrape.com/catalogue/mesaerion-the-best-science-fiction-stories-1800-1849_983/index.html\n",
      "URL del libro: https://books.toscrape.com/catalogue/libertarianism-for-beginners_982/index.html\n",
      "URL del libro: https://books.toscrape.com/catalogue/its-only-the-himalayas_981/index.html\n"
     ]
    }
   ],
   "source": [
    "# Obtener los elementos que contienen los URLs de los libros\n",
    "elementos_libros = driver.find_elements(By.XPATH, '//li[@class=\"col-xs-6 col-sm-4 col-md-3 col-lg-3\"]//h3/a')\n",
    "\n",
    "# Extraer y imprimir los URLs de los libros\n",
    "urls_libros = [elemento.get_attribute('href') for elemento in elementos_libros]\n",
    "for url_libro in urls_libros:\n",
    "    print(f'URL del libro: {url_libro}')"
   ]
  },
  {
   "cell_type": "code",
   "execution_count": 23,
   "metadata": {},
   "outputs": [
    {
     "name": "stdout",
     "output_type": "stream",
     "text": [
      "Precio del libro: £51.77\n",
      "Precio del libro: £53.74\n",
      "Precio del libro: £50.10\n",
      "Precio del libro: £47.82\n",
      "Precio del libro: £54.23\n",
      "Precio del libro: £22.65\n",
      "Precio del libro: £33.34\n",
      "Precio del libro: £17.93\n",
      "Precio del libro: £22.60\n",
      "Precio del libro: £52.15\n",
      "Precio del libro: £13.99\n",
      "Precio del libro: £20.66\n",
      "Precio del libro: £17.46\n",
      "Precio del libro: £52.29\n",
      "Precio del libro: £35.02\n",
      "Precio del libro: £57.25\n",
      "Precio del libro: £23.88\n",
      "Precio del libro: £37.59\n",
      "Precio del libro: £51.33\n",
      "Precio del libro: £45.17\n"
     ]
    }
   ],
   "source": [
    "#Obtener el XPATH del precio de cada libro\n",
    "elementos_precios = driver.find_elements(By.XPATH, '//li[@class=\"col-xs-6 col-sm-4 col-md-3 col-lg-3\"]//p[@class=\"price_color\"]')\n",
    "\n",
    "# Extraer e imprimir los precios de los libros\n",
    "precios_libros = [elemento.text for elemento in elementos_precios]\n",
    "for precio_libro in precios_libros:\n",
    "    print(f'Precio del libro: {precio_libro}')"
   ]
  },
  {
   "cell_type": "code",
   "execution_count": 24,
   "metadata": {},
   "outputs": [
    {
     "name": "stdout",
     "output_type": "stream",
     "text": [
      "Nombre del libro: A Light in the ...\n",
      "Nombre del libro: Tipping the Velvet\n",
      "Nombre del libro: Soumission\n",
      "Nombre del libro: Sharp Objects\n",
      "Nombre del libro: Sapiens: A Brief History ...\n",
      "Nombre del libro: The Requiem Red\n",
      "Nombre del libro: The Dirty Little Secrets ...\n",
      "Nombre del libro: The Coming Woman: A ...\n",
      "Nombre del libro: The Boys in the ...\n",
      "Nombre del libro: The Black Maria\n",
      "Nombre del libro: Starving Hearts (Triangular Trade ...\n",
      "Nombre del libro: Shakespeare's Sonnets\n",
      "Nombre del libro: Set Me Free\n",
      "Nombre del libro: Scott Pilgrim's Precious Little ...\n",
      "Nombre del libro: Rip it Up and ...\n",
      "Nombre del libro: Our Band Could Be ...\n",
      "Nombre del libro: Olio\n",
      "Nombre del libro: Mesaerion: The Best Science ...\n",
      "Nombre del libro: Libertarianism for Beginners\n",
      "Nombre del libro: It's Only the Himalayas\n"
     ]
    }
   ],
   "source": [
    "#Obtener el XPATH del nombre de cada libro\n",
    "elementos_nombres = driver.find_elements(By.XPATH, '//li[@class=\"col-xs-6 col-sm-4 col-md-3 col-lg-3\"]//h3/a')\n",
    "\n",
    "# Extraer e imprimir los nombres de los libros\n",
    "nombres_libros = [elemento.text for elemento in elementos_nombres]\n",
    "for nombre_libro in nombres_libros:\n",
    "    print(f'Nombre del libro: {nombre_libro}')"
   ]
  },
  {
   "cell_type": "markdown",
   "metadata": {},
   "source": [
    "Con la información obtenida, **intenta** guardarla en un DataFrame de pandas y encuentrar el libro más barato y el más caro de la primera página mostrada y brinda sus URL's"
   ]
  },
  {
   "cell_type": "code",
   "execution_count": 26,
   "metadata": {},
   "outputs": [
    {
     "name": "stdout",
     "output_type": "stream",
     "text": [
      "                         Nombre del libro Precio del libro  \\\n",
      "0                      A Light in the ...           £51.77   \n",
      "1                      Tipping the Velvet           £53.74   \n",
      "2                              Soumission           £50.10   \n",
      "3                           Sharp Objects           £47.82   \n",
      "4            Sapiens: A Brief History ...           £54.23   \n",
      "5                         The Requiem Red           £22.65   \n",
      "6            The Dirty Little Secrets ...           £33.34   \n",
      "7                 The Coming Woman: A ...           £17.93   \n",
      "8                     The Boys in the ...           £22.60   \n",
      "9                         The Black Maria           £52.15   \n",
      "10  Starving Hearts (Triangular Trade ...           £13.99   \n",
      "11                  Shakespeare's Sonnets           £20.66   \n",
      "12                            Set Me Free           £17.46   \n",
      "13    Scott Pilgrim's Precious Little ...           £52.29   \n",
      "14                      Rip it Up and ...           £35.02   \n",
      "15                  Our Band Could Be ...           £57.25   \n",
      "16                                   Olio           £23.88   \n",
      "17        Mesaerion: The Best Science ...           £37.59   \n",
      "18           Libertarianism for Beginners           £51.33   \n",
      "19                It's Only the Himalayas           £45.17   \n",
      "\n",
      "                                        URL del libro  \n",
      "0   https://books.toscrape.com/catalogue/a-light-i...  \n",
      "1   https://books.toscrape.com/catalogue/tipping-t...  \n",
      "2   https://books.toscrape.com/catalogue/soumissio...  \n",
      "3   https://books.toscrape.com/catalogue/sharp-obj...  \n",
      "4   https://books.toscrape.com/catalogue/sapiens-a...  \n",
      "5   https://books.toscrape.com/catalogue/the-requi...  \n",
      "6   https://books.toscrape.com/catalogue/the-dirty...  \n",
      "7   https://books.toscrape.com/catalogue/the-comin...  \n",
      "8   https://books.toscrape.com/catalogue/the-boys-...  \n",
      "9   https://books.toscrape.com/catalogue/the-black...  \n",
      "10  https://books.toscrape.com/catalogue/starving-...  \n",
      "11  https://books.toscrape.com/catalogue/shakespea...  \n",
      "12  https://books.toscrape.com/catalogue/set-me-fr...  \n",
      "13  https://books.toscrape.com/catalogue/scott-pil...  \n",
      "14  https://books.toscrape.com/catalogue/rip-it-up...  \n",
      "15  https://books.toscrape.com/catalogue/our-band-...  \n",
      "16  https://books.toscrape.com/catalogue/olio_984/...  \n",
      "17  https://books.toscrape.com/catalogue/mesaerion...  \n",
      "18  https://books.toscrape.com/catalogue/libertari...  \n",
      "19  https://books.toscrape.com/catalogue/its-only-...  \n",
      "Cheapest book: Starving Hearts (Triangular Trade ..., Price: £13.99\n",
      "Most expensive book: Our Band Could Be ..., Price: £57.25\n"
     ]
    }
   ],
   "source": [
    "import pandas as pd\n",
    "\n",
    "# Assuming you have the lists nombres_libros, precios_libros, and url_libros already defined\n",
    "data = {'Nombre del libro': nombres_libros, 'Precio del libro': precios_libros, 'URL del libro': urls_libros}\n",
    "df = pd.DataFrame(data)\n",
    "\n",
    "# Print the dataframe\n",
    "print(df)\n",
    "\n",
    "cheapest_book = df[df['Precio del libro'] == min(precios_libros)]\n",
    "most_expensive_book = df[df['Precio del libro'] == max(precios_libros)]\n",
    "\n",
    "# Print the names and prices of the cheapest and most expensive books\n",
    "print(f'Cheapest book: {cheapest_book[\"Nombre del libro\"].values[0]}, Price: {cheapest_book[\"Precio del libro\"].values[0]}')\n",
    "print(f'Most expensive book: {most_expensive_book[\"Nombre del libro\"].values[0]}, Price: {most_expensive_book[\"Precio del libro\"].values[0]}')\n"
   ]
  },
  {
   "cell_type": "markdown",
   "metadata": {},
   "source": [
    "## Punto extra\n",
    "Realiza la misma tarea que arriba pero considera todos los libros de la página (Creo que lo hice de puro churro)"
   ]
  },
  {
   "cell_type": "markdown",
   "metadata": {},
   "source": [
    "## Help\n",
    "\n",
    "En caso de atorarte, en este video podrás encontrar la manera en la que se pueden hacer las consultas a ChatGTP para obtener dichos XPATHS:https://youtu.be/4YokIEUeSSY?si=OhBi5eum-joIXtkc"
   ]
  }
 ],
 "metadata": {
  "kernelspec": {
   "display_name": ".env-web-scrap",
   "language": "python",
   "name": ".env-web-scrap"
  },
  "language_info": {
   "codemirror_mode": {
    "name": "ipython",
    "version": 3
   },
   "file_extension": ".py",
   "mimetype": "text/x-python",
   "name": "python",
   "nbconvert_exporter": "python",
   "pygments_lexer": "ipython3",
   "version": "3.11.4"
  },
  "orig_nbformat": 4
 },
 "nbformat": 4,
 "nbformat_minor": 2
}
