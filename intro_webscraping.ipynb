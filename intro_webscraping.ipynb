{
 "cells": [
  {
   "cell_type": "markdown",
   "metadata": {},
   "source": [
    "# Selenium Webscraping\n",
    "## Notebook de clase\n",
    "\n",
    "En este notebook podras encontrar el ejercicio que hicimos en clase para aprender las bases de selenium"
   ]
  },
  {
   "cell_type": "markdown",
   "metadata": {},
   "source": [
    "Hagamos los imports relevantes y conectémonos al driver de chrome. Se pueden usar otros navegadores, pero para tener orden usaremos este"
   ]
  },
  {
   "cell_type": "code",
   "execution_count": 139,
   "metadata": {},
   "outputs": [],
   "source": [
    "from selenium import webdriver\n",
    "\n",
    "# Por si falla algo. URL al driver de Chrome (descargar el driver desde https://sites.google.com/chromium.org/driver/)\n",
    "chrome_driver_path = 'driver/chromedriver_mac64/chromedriver' #remplazar esto con el path al chrome driver de tu compu\n",
    "\n",
    "options = webdriver.ChromeOptions()\n",
    "#options.add_argument('--headless')  # Ejecutar en modo headless (sin interfaz gráfica)\n",
    "driver = webdriver.Chrome(options=options)"
   ]
  },
  {
   "cell_type": "markdown",
   "metadata": {},
   "source": [
    "Utilizaremos un sitio web de aprendizaje. Nota: en la vida diaria los sitios se van actualizando, lo cual puede dificultar mantener el código al día y funcionando "
   ]
  },
  {
   "cell_type": "code",
   "execution_count": 140,
   "metadata": {},
   "outputs": [],
   "source": [
    "# URL: https://scrapepark.org/courses/spanish/\n",
    "\n",
    "url = 'https://scrapepark.org/courses/spanish/'\n",
    "\n",
    "# Abrir la página web\n",
    "driver.get(url)"
   ]
  },
  {
   "cell_type": "markdown",
   "metadata": {},
   "source": [
    "Obtengamos algunas cosas básicas"
   ]
  },
  {
   "cell_type": "code",
   "execution_count": 141,
   "metadata": {},
   "outputs": [],
   "source": [
    "#este import puede o no ser necesario\n",
    "from selenium.webdriver.common.by import By"
   ]
  },
  {
   "cell_type": "code",
   "execution_count": 159,
   "metadata": {},
   "outputs": [
    {
     "name": "stdout",
     "output_type": "stream",
     "text": [
      "El título de la página es: ScrapePark.org\n",
      "\n",
      "\n",
      "La información del sitio es: DIRECCIÓN: Calle falsa 123\n",
      "TELÉFONO: 4-444-4444\n",
      "EMAIL: ventas@mail.com\n",
      "\n",
      "\n",
      "El texto es: Testimonios de clientes\n",
      "Cliente 2\n",
      "¡La calidad y variedad de patinetas es impresionante! Definitivamente volveré a comprar.\n",
      "Anterior\n",
      "Siguiente\n"
     ]
    }
   ],
   "source": [
    "nom_pagina = driver.title #titulo de la página\n",
    "print(\"El título de la página es:\", nom_pagina)\n",
    "\n",
    "print('\\n')\n",
    "\n",
    "info_marca = driver.find_element(By.CLASS_NAME, 'information-f')\n",
    "print(\"La información del sitio es:\", info_marca.text) # .text nos da el texto de un elemento\n",
    "\n",
    "print('\\n')\n",
    "\n",
    "testimonio = driver.find_element(By.ID, 'testimonios') # buequda por ID\n",
    "print(\"El texto es:\", testimonio.text) # .text nos da el texto de un elemento\n"
   ]
  },
  {
   "cell_type": "markdown",
   "metadata": {},
   "source": [
    "¿qué pasa si queremos el testimonio de todos los clientes? Necesitamos interectuar con el sitio a través de pithon"
   ]
  },
  {
   "cell_type": "code",
   "execution_count": 160,
   "metadata": {},
   "outputs": [
    {
     "name": "stdout",
     "output_type": "stream",
     "text": [
      "El texto es: Testimonios de clientes\n",
      "Cliente 1\n",
      "Los productos me encantaron y los precios son muy buenos. Lo recomiendo.\n",
      "Anterior\n",
      "Siguiente\n",
      "\n",
      "\n",
      "El texto es: Testimonios de clientes\n",
      "Cliente 1\n",
      "Los productos me encantaron y los precios son muy buenos. Lo recomiendo.\n",
      "Anterior\n",
      "Siguiente\n"
     ]
    }
   ],
   "source": [
    "\n",
    "testimonio = driver.find_element(By.ID, 'testimonios')\n",
    "print(\"El texto es:\", testimonio.text) # .text nos da el texto de un elemento\n",
    "print('\\n')\n",
    "\n",
    "next = driver.find_element(By.CLASS_NAME, 'carousel-control-next')\n",
    "next.click()\n",
    "\n",
    "testimonio = driver.find_element(By.ID, 'testimonios')\n",
    "print(\"El texto es:\", testimonio.text) # .text nos da el texto de un elemento\n"
   ]
  },
  {
   "cell_type": "markdown",
   "metadata": {},
   "source": [
    "\n",
    "## paciencia\n",
    "en este caso se tiene que tomar en cuenta la velocidad del click contra la velocidad de extraccion y definición de un elemento"
   ]
  },
  {
   "cell_type": "code",
   "execution_count": 161,
   "metadata": {},
   "outputs": [
    {
     "name": "stdout",
     "output_type": "stream",
     "text": [
      "Testimonios de clientes\n",
      "Cliente 1\n",
      "Los productos me encantaron y los precios son muy buenos. Lo recomiendo.\n",
      "Anterior\n",
      "Siguiente\n",
      "\n",
      "\n",
      "Testimonios de clientes\n",
      "Cliente 2\n",
      "¡La calidad y variedad de patinetas es impresionante! Definitivamente volveré a comprar.\n",
      "Anterior\n",
      "Siguiente\n"
     ]
    }
   ],
   "source": [
    "import time\n",
    "\n",
    "testimonio = driver.find_element(By.ID, 'testimonios')\n",
    "print(testimonio.text)\n",
    "print('\\n')\n",
    "\n",
    "next = driver.find_element(By.CLASS_NAME, 'carousel-control-next')\n",
    "next.click()\n",
    "\n",
    "time.sleep(.5) #espera medio segundo\n",
    "\n",
    "testimonio = driver.find_element(By.ID, 'testimonios')\n",
    "print(testimonio.text) \n"
   ]
  },
  {
   "cell_type": "markdown",
   "metadata": {},
   "source": [
    "back(): Navega hacia atrás en el historial del navegador.\n",
    "\n",
    "forward(): Navega hacia adelante en el historial del navegador.\n",
    "\n",
    "refresh(): Actualiza la página actual."
   ]
  },
  {
   "cell_type": "code",
   "execution_count": 158,
   "metadata": {},
   "outputs": [
    {
     "ename": "ElementNotInteractableException",
     "evalue": "Message: element not interactable\n  (Session info: chrome=119.0.6045.159)\nStacktrace:\n0   chromedriver                        0x00000001020b6d28 chromedriver + 4795688\n1   chromedriver                        0x00000001020ae2b3 chromedriver + 4760243\n2   chromedriver                        0x0000000101c876bd chromedriver + 407229\n3   chromedriver                        0x0000000101cd7b43 chromedriver + 736067\n4   chromedriver                        0x0000000101cca3fa chromedriver + 680954\n5   chromedriver                        0x0000000101cfdca2 chromedriver + 892066\n6   chromedriver                        0x0000000101cc9c63 chromedriver + 679011\n7   chromedriver                        0x0000000101cfde5e chromedriver + 892510\n8   chromedriver                        0x0000000101d19b2b chromedriver + 1006379\n9   chromedriver                        0x0000000101cfda73 chromedriver + 891507\n10  chromedriver                        0x0000000101cc8143 chromedriver + 672067\n11  chromedriver                        0x0000000101cc931e chromedriver + 676638\n12  chromedriver                        0x0000000102077795 chromedriver + 4536213\n13  chromedriver                        0x000000010207c853 chromedriver + 4556883\n14  chromedriver                        0x000000010205d001 chromedriver + 4427777\n15  chromedriver                        0x000000010207d59d chromedriver + 4560285\n16  chromedriver                        0x000000010204e48c chromedriver + 4367500\n17  chromedriver                        0x000000010209d0e8 chromedriver + 4690152\n18  chromedriver                        0x000000010209d29e chromedriver + 4690590\n19  chromedriver                        0x00000001020adeee chromedriver + 4759278\n20  libsystem_pthread.dylib             0x00007ff802ee94e1 _pthread_start + 125\n21  libsystem_pthread.dylib             0x00007ff802ee4f6b thread_start + 15\n",
     "output_type": "error",
     "traceback": [
      "\u001b[0;31m---------------------------------------------------------------------------\u001b[0m",
      "\u001b[0;31mElementNotInteractableException\u001b[0m           Traceback (most recent call last)",
      "\u001b[1;32m/Users/mariajosevelazquez/Desktop/selenium-web-scrapping/intro_webscraping.ipynb Cell 14\u001b[0m line \u001b[0;36m5\n\u001b[1;32m      <a href='vscode-notebook-cell:/Users/mariajosevelazquez/Desktop/selenium-web-scrapping/intro_webscraping.ipynb#X32sZmlsZQ%3D%3D?line=1'>2</a>\u001b[0m menu\u001b[39m.\u001b[39mclick()\n\u001b[1;32m      <a href='vscode-notebook-cell:/Users/mariajosevelazquez/Desktop/selenium-web-scrapping/intro_webscraping.ipynb#X32sZmlsZQ%3D%3D?line=3'>4</a>\u001b[0m precios \u001b[39m=\u001b[39m driver\u001b[39m.\u001b[39mfind_element(By\u001b[39m.\u001b[39mXPATH, \u001b[39m'\u001b[39m\u001b[39m/html/body/div[1]/header/div/nav/div/ul/li[4]/a\u001b[39m\u001b[39m'\u001b[39m)\n\u001b[0;32m----> <a href='vscode-notebook-cell:/Users/mariajosevelazquez/Desktop/selenium-web-scrapping/intro_webscraping.ipynb#X32sZmlsZQ%3D%3D?line=4'>5</a>\u001b[0m precios\u001b[39m.\u001b[39;49mclick()\n",
      "File \u001b[0;32m~/anaconda3/lib/python3.10/site-packages/selenium/webdriver/remote/webelement.py:93\u001b[0m, in \u001b[0;36mWebElement.click\u001b[0;34m(self)\u001b[0m\n\u001b[1;32m     91\u001b[0m \u001b[39mdef\u001b[39;00m \u001b[39mclick\u001b[39m(\u001b[39mself\u001b[39m) \u001b[39m-\u001b[39m\u001b[39m>\u001b[39m \u001b[39mNone\u001b[39;00m:\n\u001b[1;32m     92\u001b[0m     \u001b[39m\"\"\"Clicks the element.\"\"\"\u001b[39;00m\n\u001b[0;32m---> 93\u001b[0m     \u001b[39mself\u001b[39;49m\u001b[39m.\u001b[39;49m_execute(Command\u001b[39m.\u001b[39;49mCLICK_ELEMENT)\n",
      "File \u001b[0;32m~/anaconda3/lib/python3.10/site-packages/selenium/webdriver/remote/webelement.py:394\u001b[0m, in \u001b[0;36mWebElement._execute\u001b[0;34m(self, command, params)\u001b[0m\n\u001b[1;32m    392\u001b[0m     params \u001b[39m=\u001b[39m {}\n\u001b[1;32m    393\u001b[0m params[\u001b[39m\"\u001b[39m\u001b[39mid\u001b[39m\u001b[39m\"\u001b[39m] \u001b[39m=\u001b[39m \u001b[39mself\u001b[39m\u001b[39m.\u001b[39m_id\n\u001b[0;32m--> 394\u001b[0m \u001b[39mreturn\u001b[39;00m \u001b[39mself\u001b[39;49m\u001b[39m.\u001b[39;49m_parent\u001b[39m.\u001b[39;49mexecute(command, params)\n",
      "File \u001b[0;32m~/anaconda3/lib/python3.10/site-packages/selenium/webdriver/remote/webdriver.py:347\u001b[0m, in \u001b[0;36mWebDriver.execute\u001b[0;34m(self, driver_command, params)\u001b[0m\n\u001b[1;32m    345\u001b[0m response \u001b[39m=\u001b[39m \u001b[39mself\u001b[39m\u001b[39m.\u001b[39mcommand_executor\u001b[39m.\u001b[39mexecute(driver_command, params)\n\u001b[1;32m    346\u001b[0m \u001b[39mif\u001b[39;00m response:\n\u001b[0;32m--> 347\u001b[0m     \u001b[39mself\u001b[39;49m\u001b[39m.\u001b[39;49merror_handler\u001b[39m.\u001b[39;49mcheck_response(response)\n\u001b[1;32m    348\u001b[0m     response[\u001b[39m\"\u001b[39m\u001b[39mvalue\u001b[39m\u001b[39m\"\u001b[39m] \u001b[39m=\u001b[39m \u001b[39mself\u001b[39m\u001b[39m.\u001b[39m_unwrap_value(response\u001b[39m.\u001b[39mget(\u001b[39m\"\u001b[39m\u001b[39mvalue\u001b[39m\u001b[39m\"\u001b[39m, \u001b[39mNone\u001b[39;00m))\n\u001b[1;32m    349\u001b[0m     \u001b[39mreturn\u001b[39;00m response\n",
      "File \u001b[0;32m~/anaconda3/lib/python3.10/site-packages/selenium/webdriver/remote/errorhandler.py:229\u001b[0m, in \u001b[0;36mErrorHandler.check_response\u001b[0;34m(self, response)\u001b[0m\n\u001b[1;32m    227\u001b[0m         alert_text \u001b[39m=\u001b[39m value[\u001b[39m\"\u001b[39m\u001b[39malert\u001b[39m\u001b[39m\"\u001b[39m]\u001b[39m.\u001b[39mget(\u001b[39m\"\u001b[39m\u001b[39mtext\u001b[39m\u001b[39m\"\u001b[39m)\n\u001b[1;32m    228\u001b[0m     \u001b[39mraise\u001b[39;00m exception_class(message, screen, stacktrace, alert_text)  \u001b[39m# type: ignore[call-arg]  # mypy is not smart enough here\u001b[39;00m\n\u001b[0;32m--> 229\u001b[0m \u001b[39mraise\u001b[39;00m exception_class(message, screen, stacktrace)\n",
      "\u001b[0;31mElementNotInteractableException\u001b[0m: Message: element not interactable\n  (Session info: chrome=119.0.6045.159)\nStacktrace:\n0   chromedriver                        0x00000001020b6d28 chromedriver + 4795688\n1   chromedriver                        0x00000001020ae2b3 chromedriver + 4760243\n2   chromedriver                        0x0000000101c876bd chromedriver + 407229\n3   chromedriver                        0x0000000101cd7b43 chromedriver + 736067\n4   chromedriver                        0x0000000101cca3fa chromedriver + 680954\n5   chromedriver                        0x0000000101cfdca2 chromedriver + 892066\n6   chromedriver                        0x0000000101cc9c63 chromedriver + 679011\n7   chromedriver                        0x0000000101cfde5e chromedriver + 892510\n8   chromedriver                        0x0000000101d19b2b chromedriver + 1006379\n9   chromedriver                        0x0000000101cfda73 chromedriver + 891507\n10  chromedriver                        0x0000000101cc8143 chromedriver + 672067\n11  chromedriver                        0x0000000101cc931e chromedriver + 676638\n12  chromedriver                        0x0000000102077795 chromedriver + 4536213\n13  chromedriver                        0x000000010207c853 chromedriver + 4556883\n14  chromedriver                        0x000000010205d001 chromedriver + 4427777\n15  chromedriver                        0x000000010207d59d chromedriver + 4560285\n16  chromedriver                        0x000000010204e48c chromedriver + 4367500\n17  chromedriver                        0x000000010209d0e8 chromedriver + 4690152\n18  chromedriver                        0x000000010209d29e chromedriver + 4690590\n19  chromedriver                        0x00000001020adeee chromedriver + 4759278\n20  libsystem_pthread.dylib             0x00007ff802ee94e1 _pthread_start + 125\n21  libsystem_pthread.dylib             0x00007ff802ee4f6b thread_start + 15\n"
     ]
    }
   ],
   "source": [
    "menu = driver.find_element(By.CLASS_NAME, 'navbar-toggler')\n",
    "menu.click()\n",
    "\n",
    "precios = driver.find_element(By.XPATH, '/html/body/div[1]/header/div/nav/div/ul/li[4]/a')\n",
    "precios.click()\n",
    "\n",
    "\n"
   ]
  },
  {
   "cell_type": "code",
   "execution_count": 146,
   "metadata": {},
   "outputs": [],
   "source": [
    "# Cerrar el navegador\n",
    "#driver.quit()"
   ]
  },
  {
   "cell_type": "code",
   "execution_count": null,
   "metadata": {},
   "outputs": [],
   "source": []
  },
  {
   "cell_type": "markdown",
   "metadata": {},
   "source": []
  }
 ],
 "metadata": {
  "kernelspec": {
   "display_name": ".venv",
   "language": "python",
   "name": "python3"
  },
  "language_info": {
   "codemirror_mode": {
    "name": "ipython",
    "version": 3
   },
   "file_extension": ".py",
   "mimetype": "text/x-python",
   "name": "python",
   "nbconvert_exporter": "python",
   "pygments_lexer": "ipython3",
   "version": "3.11.2"
  },
  "orig_nbformat": 4
 },
 "nbformat": 4,
 "nbformat_minor": 2
}
