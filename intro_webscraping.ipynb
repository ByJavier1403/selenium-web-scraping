{
 "cells": [
  {
   "cell_type": "markdown",
   "metadata": {},
   "source": [
    "# Selenium Webscraping\n",
    "## Notebook de clase\n",
    "\n",
    "En este notebook podras encontrar el ejercicio que hicimos en clase para aprender las bases de selenium"
   ]
  },
  {
   "cell_type": "markdown",
   "metadata": {},
   "source": [
    "Hagamos los imports relevantes y conectémonos al driver de chrome. Se pueden usar otros navegadores, pero para tener orden usaremos este"
   ]
  },
  {
   "cell_type": "code",
   "execution_count": 2,
   "metadata": {},
   "outputs": [],
   "source": [
    "from selenium import webdriver\n",
    "from selenium.webdriver.common.desired_capabilities import DesiredCapabilities\n",
    "import time"
   ]
  },
  {
   "cell_type": "code",
   "execution_count": 2,
   "metadata": {},
   "outputs": [],
   "source": [
    "# Por si falla algo. URL al driver de Chrome (descargar el driver desde https://sites.google.com/chromium.org/driver/)\n",
    "chrome_driver_path = 'driver/chromedriver_mac64/chromedriver' #remplazar esto con el path al chrome driver de tu compu\n",
    "\n",
    "options = webdriver.ChromeOptions()\n",
    "options.add_argument('--headless')  # Ejecutar en modo headless (sin interfaz gráfica)\n",
    "driver = webdriver.Chrome(options=options)"
   ]
  },
  {
   "cell_type": "markdown",
   "metadata": {},
   "source": [
    "Utilizaremos un sitio web de aprendizaje. Nota: en la vida diaria los sitios se van actualizando, lo cual puede dificultar mantener el código al día y funcionando "
   ]
  },
  {
   "cell_type": "markdown",
   "metadata": {},
   "source": [
    "Obtengamos algunas cosas básicas"
   ]
  },
  {
   "cell_type": "code",
   "execution_count": 10,
   "metadata": {},
   "outputs": [],
   "source": [
    "#este import puede o no ser necesario\n",
    "from selenium.webdriver.common.by import By"
   ]
  },
  {
   "cell_type": "code",
   "execution_count": 15,
   "metadata": {},
   "outputs": [
    {
     "name": "stderr",
     "output_type": "stream",
     "text": [
      "/var/folders/hx/2yrhw82s29g3zhsqchyrqcy80000gn/T/ipykernel_85384/529875283.py:1: DeprecationWarning: desired_capabilities has been deprecated, please pass in an Options object with options kwarg\n",
      "  driver = webdriver.Remote(\n"
     ]
    },
    {
     "name": "stdout",
     "output_type": "stream",
     "text": [
      "El título de la página es: ScrapePark.org\n",
      "\n",
      "\n",
      "La información del sitio es: DIRECCIÓN: Calle falsa 123\n",
      "TELÉFONO: 4-444-4444\n",
      "EMAIL: ventas@mail.com\n",
      "\n",
      "\n",
      "El texto es: Testimonios de clientes\n",
      "Cliente 1\n",
      "Los productos me encantaron y los precios son muy buenos. Lo recomiendo.\n",
      "Anterior\n",
      "Siguiente\n"
     ]
    }
   ],
   "source": [
    "driver = webdriver.Remote(\n",
    "    command_executor='http://localhost:4444/wd/hub',\n",
    "    desired_capabilities=DesiredCapabilities.CHROME)\n",
    "\n",
    "# Abrir la página web\n",
    "driver.get('https://scrapepark.org/courses/spanish/')\n",
    "\n",
    "nom_pagina = driver.title #titulo de la página\n",
    "print(\"El título de la página es:\", nom_pagina)\n",
    "\n",
    "print('\\n')\n",
    "\n",
    "info_marca = driver.find_element(By.CLASS_NAME, 'information-f')\n",
    "print(\"La información del sitio es:\", info_marca.text) # .text nos da el texto de un elemento\n",
    "\n",
    "print('\\n')\n",
    "\n",
    "testimonio = driver.find_element(By.ID, 'testimonios') # buequda por ID\n",
    "print(\"El texto es:\", testimonio.text) # .text nos da el texto de un elemento\n",
    "\n",
    "driver.quit()\n"
   ]
  },
  {
   "cell_type": "markdown",
   "metadata": {},
   "source": [
    "back(): Navega hacia atrás en el historial del navegador.\n",
    "\n",
    "forward(): Navega hacia adelante en el historial del navegador.\n",
    "\n",
    "refresh(): Actualiza la página actual."
   ]
  },
  {
   "cell_type": "code",
   "execution_count": null,
   "metadata": {},
   "outputs": [],
   "source": []
  },
  {
   "cell_type": "markdown",
   "metadata": {},
   "source": []
  }
 ],
 "metadata": {
  "kernelspec": {
   "display_name": ".venv",
   "language": "python",
   "name": "python3"
  },
  "language_info": {
   "codemirror_mode": {
    "name": "ipython",
    "version": 3
   },
   "file_extension": ".py",
   "mimetype": "text/x-python",
   "name": "python",
   "nbconvert_exporter": "python",
   "pygments_lexer": "ipython3",
   "version": "3.10.13"
  },
  "orig_nbformat": 4
 },
 "nbformat": 4,
 "nbformat_minor": 2
}
